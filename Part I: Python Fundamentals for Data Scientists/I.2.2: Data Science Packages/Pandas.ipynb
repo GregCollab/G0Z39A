{
 "cells": [
  {
   "cell_type": "markdown",
   "id": "6b1c0b52",
   "metadata": {},
   "source": [
    "# Data Science Packages - Pandas\n",
    "In this notebook, we will illustrate the core functionality of the Pandas package in Python. "
   ]
  },
  {
   "cell_type": "code",
   "execution_count": 1,
   "id": "139ca64b",
   "metadata": {},
   "outputs": [],
   "source": [
    "import pandas as pd"
   ]
  },
  {
   "cell_type": "markdown",
   "id": "9363d8fa",
   "metadata": {},
   "source": [
    "The data that will be used is a cleaned version of the *movies* dataset that is publicly available on Kaggle. The cleaned version has been made available on the course's AWS S3 bucket: "
   ]
  },
  {
   "cell_type": "code",
   "execution_count": 2,
   "id": "f13c52aa",
   "metadata": {},
   "outputs": [
    {
     "data": {
      "text/html": [
       "<div>\n",
       "<style scoped>\n",
       "    .dataframe tbody tr th:only-of-type {\n",
       "        vertical-align: middle;\n",
       "    }\n",
       "\n",
       "    .dataframe tbody tr th {\n",
       "        vertical-align: top;\n",
       "    }\n",
       "\n",
       "    .dataframe thead th {\n",
       "        text-align: right;\n",
       "    }\n",
       "</style>\n",
       "<table border=\"1\" class=\"dataframe\">\n",
       "  <thead>\n",
       "    <tr style=\"text-align: right;\">\n",
       "      <th></th>\n",
       "      <th>id</th>\n",
       "      <th>original_title</th>\n",
       "      <th>release_date</th>\n",
       "      <th>original_language</th>\n",
       "      <th>popularity</th>\n",
       "      <th>revenue</th>\n",
       "      <th>vote_average</th>\n",
       "      <th>vote_count</th>\n",
       "    </tr>\n",
       "  </thead>\n",
       "  <tbody>\n",
       "    <tr>\n",
       "      <th>0</th>\n",
       "      <td>862</td>\n",
       "      <td>Toy Story</td>\n",
       "      <td>1995-10-30</td>\n",
       "      <td>en</td>\n",
       "      <td>21.946943</td>\n",
       "      <td>373554033.0</td>\n",
       "      <td>7.7</td>\n",
       "      <td>5415.0</td>\n",
       "    </tr>\n",
       "    <tr>\n",
       "      <th>1</th>\n",
       "      <td>8844</td>\n",
       "      <td>Jumanji</td>\n",
       "      <td>1995-12-15</td>\n",
       "      <td>en</td>\n",
       "      <td>17.015539</td>\n",
       "      <td>262797249.0</td>\n",
       "      <td>6.9</td>\n",
       "      <td>2413.0</td>\n",
       "    </tr>\n",
       "    <tr>\n",
       "      <th>2</th>\n",
       "      <td>15602</td>\n",
       "      <td>Grumpier Old Men</td>\n",
       "      <td>1995-12-22</td>\n",
       "      <td>en</td>\n",
       "      <td>11.712900</td>\n",
       "      <td>0.0</td>\n",
       "      <td>6.5</td>\n",
       "      <td>92.0</td>\n",
       "    </tr>\n",
       "    <tr>\n",
       "      <th>3</th>\n",
       "      <td>31357</td>\n",
       "      <td>Waiting to Exhale</td>\n",
       "      <td>1995-12-22</td>\n",
       "      <td>en</td>\n",
       "      <td>3.859495</td>\n",
       "      <td>81452156.0</td>\n",
       "      <td>6.1</td>\n",
       "      <td>34.0</td>\n",
       "    </tr>\n",
       "    <tr>\n",
       "      <th>4</th>\n",
       "      <td>11862</td>\n",
       "      <td>Father of the Bride Part II</td>\n",
       "      <td>1995-02-10</td>\n",
       "      <td>en</td>\n",
       "      <td>8.387519</td>\n",
       "      <td>76578911.0</td>\n",
       "      <td>5.7</td>\n",
       "      <td>173.0</td>\n",
       "    </tr>\n",
       "    <tr>\n",
       "      <th>...</th>\n",
       "      <td>...</td>\n",
       "      <td>...</td>\n",
       "      <td>...</td>\n",
       "      <td>...</td>\n",
       "      <td>...</td>\n",
       "      <td>...</td>\n",
       "      <td>...</td>\n",
       "      <td>...</td>\n",
       "    </tr>\n",
       "    <tr>\n",
       "      <th>45449</th>\n",
       "      <td>439050</td>\n",
       "      <td>رگ خواب</td>\n",
       "      <td>None</td>\n",
       "      <td>fa</td>\n",
       "      <td>0.072051</td>\n",
       "      <td>0.0</td>\n",
       "      <td>4.0</td>\n",
       "      <td>1.0</td>\n",
       "    </tr>\n",
       "    <tr>\n",
       "      <th>45450</th>\n",
       "      <td>111109</td>\n",
       "      <td>Siglo ng Pagluluwal</td>\n",
       "      <td>2011-11-17</td>\n",
       "      <td>tl</td>\n",
       "      <td>0.178241</td>\n",
       "      <td>0.0</td>\n",
       "      <td>9.0</td>\n",
       "      <td>3.0</td>\n",
       "    </tr>\n",
       "    <tr>\n",
       "      <th>45451</th>\n",
       "      <td>67758</td>\n",
       "      <td>Betrayal</td>\n",
       "      <td>2003-08-01</td>\n",
       "      <td>en</td>\n",
       "      <td>0.903007</td>\n",
       "      <td>0.0</td>\n",
       "      <td>3.8</td>\n",
       "      <td>6.0</td>\n",
       "    </tr>\n",
       "    <tr>\n",
       "      <th>45452</th>\n",
       "      <td>227506</td>\n",
       "      <td>Satana likuyushchiy</td>\n",
       "      <td>1917-10-21</td>\n",
       "      <td>en</td>\n",
       "      <td>0.003503</td>\n",
       "      <td>0.0</td>\n",
       "      <td>0.0</td>\n",
       "      <td>0.0</td>\n",
       "    </tr>\n",
       "    <tr>\n",
       "      <th>45453</th>\n",
       "      <td>461257</td>\n",
       "      <td>Queerama</td>\n",
       "      <td>2017-06-09</td>\n",
       "      <td>en</td>\n",
       "      <td>0.163015</td>\n",
       "      <td>0.0</td>\n",
       "      <td>0.0</td>\n",
       "      <td>0.0</td>\n",
       "    </tr>\n",
       "  </tbody>\n",
       "</table>\n",
       "<p>45454 rows × 8 columns</p>\n",
       "</div>"
      ],
      "text/plain": [
       "           id               original_title release_date original_language  \\\n",
       "0         862                    Toy Story   1995-10-30                en   \n",
       "1        8844                      Jumanji   1995-12-15                en   \n",
       "2       15602             Grumpier Old Men   1995-12-22                en   \n",
       "3       31357            Waiting to Exhale   1995-12-22                en   \n",
       "4       11862  Father of the Bride Part II   1995-02-10                en   \n",
       "...       ...                          ...          ...               ...   \n",
       "45449  439050                      رگ خواب         None                fa   \n",
       "45450  111109          Siglo ng Pagluluwal   2011-11-17                tl   \n",
       "45451   67758                     Betrayal   2003-08-01                en   \n",
       "45452  227506          Satana likuyushchiy   1917-10-21                en   \n",
       "45453  461257                     Queerama   2017-06-09                en   \n",
       "\n",
       "       popularity      revenue  vote_average  vote_count  \n",
       "0       21.946943  373554033.0           7.7      5415.0  \n",
       "1       17.015539  262797249.0           6.9      2413.0  \n",
       "2       11.712900          0.0           6.5        92.0  \n",
       "3        3.859495   81452156.0           6.1        34.0  \n",
       "4        8.387519   76578911.0           5.7       173.0  \n",
       "...           ...          ...           ...         ...  \n",
       "45449    0.072051          0.0           4.0         1.0  \n",
       "45450    0.178241          0.0           9.0         3.0  \n",
       "45451    0.903007          0.0           3.8         6.0  \n",
       "45452    0.003503          0.0           0.0         0.0  \n",
       "45453    0.163015          0.0           0.0         0.0  \n",
       "\n",
       "[45454 rows x 8 columns]"
      ]
     },
     "execution_count": 2,
     "metadata": {},
     "output_type": "execute_result"
    }
   ],
   "source": [
    "movies = pd.read_parquet('https://kuleuven-mda.s3.eu-central-1.amazonaws.com/movies.parquet.gzip')\n",
    "movies"
   ]
  },
  {
   "cell_type": "markdown",
   "id": "edd746df",
   "metadata": {},
   "source": [
    "#### Basic Data Exploration\n",
    "First, we start with exploring the basic properties of the dataframe. In this step, we just try to understand what the data looks like and verify whether or not the data types are correct. Pandas has a lot of useful functions for this.\n",
    "\n",
    "Identifying the shape of our data, i.e., the number of rows and columns can be done through the shape property:"
   ]
  },
  {
   "cell_type": "code",
   "execution_count": 3,
   "id": "5e784556",
   "metadata": {},
   "outputs": [
    {
     "name": "stdout",
     "output_type": "stream",
     "text": [
      "Number of observations: 45454\n",
      "Number of columns:      8\n"
     ]
    }
   ],
   "source": [
    "print(\"Number of observations: {}\".format(movies.shape[0]))\n",
    "print(\"Number of columns:      {}\".format(movies.shape[1]))"
   ]
  },
  {
   "cell_type": "markdown",
   "id": "0c69b4ab",
   "metadata": {},
   "source": [
    "Next, we check the names and data types of these columns:"
   ]
  },
  {
   "cell_type": "code",
   "execution_count": 4,
   "id": "cc3e68aa",
   "metadata": {},
   "outputs": [
    {
     "name": "stdout",
     "output_type": "stream",
     "text": [
      "<class 'pandas.core.frame.DataFrame'>\n",
      "RangeIndex: 45454 entries, 0 to 45453\n",
      "Data columns (total 8 columns):\n",
      " #   Column             Non-Null Count  Dtype  \n",
      "---  ------             --------------  -----  \n",
      " 0   id                 45454 non-null  object \n",
      " 1   original_title     45454 non-null  object \n",
      " 2   release_date       45368 non-null  object \n",
      " 3   original_language  45443 non-null  object \n",
      " 4   popularity         45451 non-null  float64\n",
      " 5   revenue            45451 non-null  float64\n",
      " 6   vote_average       45451 non-null  float64\n",
      " 7   vote_count         45451 non-null  float64\n",
      "dtypes: float64(4), object(4)\n",
      "memory usage: 2.8+ MB\n"
     ]
    }
   ],
   "source": [
    "movies.info()"
   ]
  },
  {
   "cell_type": "markdown",
   "id": "fc0b8f2c",
   "metadata": {},
   "source": [
    "Note that the release data is **not** stored as a datetime object even though it should be a date! This can be solved using the pandas *to_datetime* function. The ID is also not stored as an integer, and the original_language is stored as a string even thought it is more of a categorical variable. All of these things can be changed using built-in pandas methods:"
   ]
  },
  {
   "cell_type": "code",
   "execution_count": 5,
   "id": "a4e49d19",
   "metadata": {},
   "outputs": [],
   "source": [
    "movies.release_date = pd.to_datetime(movies.release_date)\n",
    "movies.id = pd.to_numeric(movies.id)\n",
    "movies.original_language = pd.Categorical(movies.original_language) # Unfortunately, the inconsistent syntax is\n",
    "# something you will need to accept"
   ]
  },
  {
   "cell_type": "markdown",
   "id": "10cf6b58",
   "metadata": {},
   "source": [
    "Next, we check some specific observations. Three methods are useful: (1) head(), (2) tail(), and (3) sample."
   ]
  },
  {
   "cell_type": "code",
   "execution_count": 6,
   "id": "013569bc",
   "metadata": {},
   "outputs": [
    {
     "data": {
      "text/html": [
       "<div>\n",
       "<style scoped>\n",
       "    .dataframe tbody tr th:only-of-type {\n",
       "        vertical-align: middle;\n",
       "    }\n",
       "\n",
       "    .dataframe tbody tr th {\n",
       "        vertical-align: top;\n",
       "    }\n",
       "\n",
       "    .dataframe thead th {\n",
       "        text-align: right;\n",
       "    }\n",
       "</style>\n",
       "<table border=\"1\" class=\"dataframe\">\n",
       "  <thead>\n",
       "    <tr style=\"text-align: right;\">\n",
       "      <th></th>\n",
       "      <th>id</th>\n",
       "      <th>original_title</th>\n",
       "      <th>release_date</th>\n",
       "      <th>original_language</th>\n",
       "      <th>popularity</th>\n",
       "      <th>revenue</th>\n",
       "      <th>vote_average</th>\n",
       "      <th>vote_count</th>\n",
       "    </tr>\n",
       "  </thead>\n",
       "  <tbody>\n",
       "    <tr>\n",
       "      <th>0</th>\n",
       "      <td>862</td>\n",
       "      <td>Toy Story</td>\n",
       "      <td>1995-10-30</td>\n",
       "      <td>en</td>\n",
       "      <td>21.946943</td>\n",
       "      <td>373554033.0</td>\n",
       "      <td>7.7</td>\n",
       "      <td>5415.0</td>\n",
       "    </tr>\n",
       "    <tr>\n",
       "      <th>1</th>\n",
       "      <td>8844</td>\n",
       "      <td>Jumanji</td>\n",
       "      <td>1995-12-15</td>\n",
       "      <td>en</td>\n",
       "      <td>17.015539</td>\n",
       "      <td>262797249.0</td>\n",
       "      <td>6.9</td>\n",
       "      <td>2413.0</td>\n",
       "    </tr>\n",
       "    <tr>\n",
       "      <th>2</th>\n",
       "      <td>15602</td>\n",
       "      <td>Grumpier Old Men</td>\n",
       "      <td>1995-12-22</td>\n",
       "      <td>en</td>\n",
       "      <td>11.712900</td>\n",
       "      <td>0.0</td>\n",
       "      <td>6.5</td>\n",
       "      <td>92.0</td>\n",
       "    </tr>\n",
       "    <tr>\n",
       "      <th>3</th>\n",
       "      <td>31357</td>\n",
       "      <td>Waiting to Exhale</td>\n",
       "      <td>1995-12-22</td>\n",
       "      <td>en</td>\n",
       "      <td>3.859495</td>\n",
       "      <td>81452156.0</td>\n",
       "      <td>6.1</td>\n",
       "      <td>34.0</td>\n",
       "    </tr>\n",
       "    <tr>\n",
       "      <th>4</th>\n",
       "      <td>11862</td>\n",
       "      <td>Father of the Bride Part II</td>\n",
       "      <td>1995-02-10</td>\n",
       "      <td>en</td>\n",
       "      <td>8.387519</td>\n",
       "      <td>76578911.0</td>\n",
       "      <td>5.7</td>\n",
       "      <td>173.0</td>\n",
       "    </tr>\n",
       "  </tbody>\n",
       "</table>\n",
       "</div>"
      ],
      "text/plain": [
       "      id               original_title release_date original_language  \\\n",
       "0    862                    Toy Story   1995-10-30                en   \n",
       "1   8844                      Jumanji   1995-12-15                en   \n",
       "2  15602             Grumpier Old Men   1995-12-22                en   \n",
       "3  31357            Waiting to Exhale   1995-12-22                en   \n",
       "4  11862  Father of the Bride Part II   1995-02-10                en   \n",
       "\n",
       "   popularity      revenue  vote_average  vote_count  \n",
       "0   21.946943  373554033.0           7.7      5415.0  \n",
       "1   17.015539  262797249.0           6.9      2413.0  \n",
       "2   11.712900          0.0           6.5        92.0  \n",
       "3    3.859495   81452156.0           6.1        34.0  \n",
       "4    8.387519   76578911.0           5.7       173.0  "
      ]
     },
     "execution_count": 6,
     "metadata": {},
     "output_type": "execute_result"
    }
   ],
   "source": [
    "movies.head()\n",
    "#movies.tail()\n",
    "#movies.sample(5, random_state=123)"
   ]
  },
  {
   "cell_type": "markdown",
   "id": "3bcab037",
   "metadata": {},
   "source": [
    "#### Data Subsetting and Filtering\n",
    "Let's say we only want to get information on the original title of the movies and store that information in a new variable named *information*. In pandas, there are four different ways of doing this:"
   ]
  },
  {
   "cell_type": "code",
   "execution_count": 8,
   "id": "1185df52",
   "metadata": {},
   "outputs": [
    {
     "data": {
      "text/plain": [
       "0                      Toy Story\n",
       "1                        Jumanji\n",
       "2               Grumpier Old Men\n",
       "3              Waiting to Exhale\n",
       "4    Father of the Bride Part II\n",
       "Name: original_title, dtype: object"
      ]
     },
     "execution_count": 8,
     "metadata": {},
     "output_type": "execute_result"
    }
   ],
   "source": [
    "information = movies['original_title'] # Simple and allows for column names with spaces and other special characters\n",
    "information = movies.original_title # Most intuitively written\n",
    "information = movies.loc[:, 'original_title'] # Allows selecting specific rows and columns at same time\n",
    "information = movies.iloc[:, 1] # Allows to filter based on index\n",
    "information.head() # This head() method is not the same as the one used earlier!!"
   ]
  },
  {
   "cell_type": "markdown",
   "id": "704abee0",
   "metadata": {},
   "source": [
    "Filtering specific rows is done through a *mask* which is a collection of True and False values indicating which rows should be included:"
   ]
  },
  {
   "cell_type": "code",
   "execution_count": 9,
   "id": "023dada1",
   "metadata": {},
   "outputs": [
    {
     "data": {
      "text/html": [
       "<div>\n",
       "<style scoped>\n",
       "    .dataframe tbody tr th:only-of-type {\n",
       "        vertical-align: middle;\n",
       "    }\n",
       "\n",
       "    .dataframe tbody tr th {\n",
       "        vertical-align: top;\n",
       "    }\n",
       "\n",
       "    .dataframe thead th {\n",
       "        text-align: right;\n",
       "    }\n",
       "</style>\n",
       "<table border=\"1\" class=\"dataframe\">\n",
       "  <thead>\n",
       "    <tr style=\"text-align: right;\">\n",
       "      <th></th>\n",
       "      <th>original_title</th>\n",
       "      <th>popularity</th>\n",
       "      <th>original_language</th>\n",
       "    </tr>\n",
       "  </thead>\n",
       "  <tbody>\n",
       "    <tr>\n",
       "      <th>81</th>\n",
       "      <td>Antonia</td>\n",
       "      <td>2.030174</td>\n",
       "      <td>nl</td>\n",
       "    </tr>\n",
       "    <tr>\n",
       "      <th>687</th>\n",
       "      <td>Daens</td>\n",
       "      <td>0.755047</td>\n",
       "      <td>nl</td>\n",
       "    </tr>\n",
       "    <tr>\n",
       "      <th>862</th>\n",
       "      <td>06</td>\n",
       "      <td>0.062128</td>\n",
       "      <td>nl</td>\n",
       "    </tr>\n",
       "    <tr>\n",
       "      <th>1752</th>\n",
       "      <td>Karakter</td>\n",
       "      <td>1.221677</td>\n",
       "      <td>nl</td>\n",
       "    </tr>\n",
       "    <tr>\n",
       "      <th>2710</th>\n",
       "      <td>Rosie</td>\n",
       "      <td>0.100686</td>\n",
       "      <td>nl</td>\n",
       "    </tr>\n",
       "  </tbody>\n",
       "</table>\n",
       "</div>"
      ],
      "text/plain": [
       "     original_title  popularity original_language\n",
       "81          Antonia    2.030174                nl\n",
       "687           Daens    0.755047                nl\n",
       "862              06    0.062128                nl\n",
       "1752       Karakter    1.221677                nl\n",
       "2710          Rosie    0.100686                nl"
      ]
     },
     "execution_count": 9,
     "metadata": {},
     "output_type": "execute_result"
    }
   ],
   "source": [
    "mask = movies.original_language == 'nl'\n",
    "movies.loc[mask, :] # Only filter rows -> view of DataFrame\n",
    "movies[mask] # also filters rows -> creates new dataframe object\n",
    "movies.loc[mask, [\"original_title\", \"popularity\", \"original_language\"]].head() # Rows and columns"
   ]
  },
  {
   "cell_type": "code",
   "execution_count": 10,
   "id": "f58cca06",
   "metadata": {},
   "outputs": [
    {
     "data": {
      "text/html": [
       "<div>\n",
       "<style scoped>\n",
       "    .dataframe tbody tr th:only-of-type {\n",
       "        vertical-align: middle;\n",
       "    }\n",
       "\n",
       "    .dataframe tbody tr th {\n",
       "        vertical-align: top;\n",
       "    }\n",
       "\n",
       "    .dataframe thead th {\n",
       "        text-align: right;\n",
       "    }\n",
       "</style>\n",
       "<table border=\"1\" class=\"dataframe\">\n",
       "  <thead>\n",
       "    <tr style=\"text-align: right;\">\n",
       "      <th></th>\n",
       "      <th>original_title</th>\n",
       "      <th>popularity</th>\n",
       "      <th>original_language</th>\n",
       "    </tr>\n",
       "  </thead>\n",
       "  <tbody>\n",
       "    <tr>\n",
       "      <th>81</th>\n",
       "      <td>Antonia</td>\n",
       "      <td>2.030174</td>\n",
       "      <td>nl</td>\n",
       "    </tr>\n",
       "    <tr>\n",
       "      <th>687</th>\n",
       "      <td>Daens</td>\n",
       "      <td>0.755047</td>\n",
       "      <td>nl</td>\n",
       "    </tr>\n",
       "    <tr>\n",
       "      <th>862</th>\n",
       "      <td>06</td>\n",
       "      <td>0.062128</td>\n",
       "      <td>nl</td>\n",
       "    </tr>\n",
       "    <tr>\n",
       "      <th>1752</th>\n",
       "      <td>Karakter</td>\n",
       "      <td>1.221677</td>\n",
       "      <td>nl</td>\n",
       "    </tr>\n",
       "    <tr>\n",
       "      <th>2710</th>\n",
       "      <td>Rosie</td>\n",
       "      <td>0.100686</td>\n",
       "      <td>nl</td>\n",
       "    </tr>\n",
       "  </tbody>\n",
       "</table>\n",
       "</div>"
      ],
      "text/plain": [
       "     original_title  popularity original_language\n",
       "81          Antonia    2.030174                nl\n",
       "687           Daens    0.755047                nl\n",
       "862              06    0.062128                nl\n",
       "1752       Karakter    1.221677                nl\n",
       "2710          Rosie    0.100686                nl"
      ]
     },
     "execution_count": 10,
     "metadata": {},
     "output_type": "execute_result"
    }
   ],
   "source": [
    "# Note: this is NOT the same as the following even though they give the same results\n",
    "movies[mask][[\"original_title\", \"popularity\", \"original_language\"]].head()"
   ]
  },
  {
   "cell_type": "markdown",
   "id": "035795e2",
   "metadata": {},
   "source": [
    "Proof that these are not the same:"
   ]
  },
  {
   "cell_type": "code",
   "execution_count": 11,
   "id": "4ed76351",
   "metadata": {},
   "outputs": [
    {
     "data": {
      "text/html": [
       "<div>\n",
       "<style scoped>\n",
       "    .dataframe tbody tr th:only-of-type {\n",
       "        vertical-align: middle;\n",
       "    }\n",
       "\n",
       "    .dataframe tbody tr th {\n",
       "        vertical-align: top;\n",
       "    }\n",
       "\n",
       "    .dataframe thead th {\n",
       "        text-align: right;\n",
       "    }\n",
       "</style>\n",
       "<table border=\"1\" class=\"dataframe\">\n",
       "  <thead>\n",
       "    <tr style=\"text-align: right;\">\n",
       "      <th></th>\n",
       "      <th>id</th>\n",
       "      <th>original_title</th>\n",
       "      <th>release_date</th>\n",
       "      <th>original_language</th>\n",
       "      <th>popularity</th>\n",
       "      <th>revenue</th>\n",
       "      <th>vote_average</th>\n",
       "      <th>vote_count</th>\n",
       "    </tr>\n",
       "  </thead>\n",
       "  <tbody>\n",
       "    <tr>\n",
       "      <th>0</th>\n",
       "      <td>862</td>\n",
       "      <td>Toy Story I</td>\n",
       "      <td>1995-10-30</td>\n",
       "      <td>en</td>\n",
       "      <td>21.946943</td>\n",
       "      <td>373554033.0</td>\n",
       "      <td>7.7</td>\n",
       "      <td>5415.0</td>\n",
       "    </tr>\n",
       "    <tr>\n",
       "      <th>1</th>\n",
       "      <td>8844</td>\n",
       "      <td>Jumanji</td>\n",
       "      <td>1995-12-15</td>\n",
       "      <td>en</td>\n",
       "      <td>17.015539</td>\n",
       "      <td>262797249.0</td>\n",
       "      <td>6.9</td>\n",
       "      <td>2413.0</td>\n",
       "    </tr>\n",
       "  </tbody>\n",
       "</table>\n",
       "</div>"
      ],
      "text/plain": [
       "     id original_title release_date original_language  popularity  \\\n",
       "0   862    Toy Story I   1995-10-30                en   21.946943   \n",
       "1  8844        Jumanji   1995-12-15                en   17.015539   \n",
       "\n",
       "       revenue  vote_average  vote_count  \n",
       "0  373554033.0           7.7      5415.0  \n",
       "1  262797249.0           6.9      2413.0  "
      ]
     },
     "execution_count": 11,
     "metadata": {},
     "output_type": "execute_result"
    }
   ],
   "source": [
    "mask = movies.original_title == 'Toy Story'\n",
    "movies.loc[mask, \"original_title\"] = \"Toy Story I\"\n",
    "movies.head(2)"
   ]
  },
  {
   "cell_type": "code",
   "execution_count": 12,
   "id": "0c0ca4ac",
   "metadata": {},
   "outputs": [
    {
     "name": "stderr",
     "output_type": "stream",
     "text": [
      "/var/folders/zz/zvsv6f4s4wn29k9lt76bdlsr0000gn/T/ipykernel_13426/2271490628.py:2: SettingWithCopyWarning: \n",
      "A value is trying to be set on a copy of a slice from a DataFrame.\n",
      "Try using .loc[row_indexer,col_indexer] = value instead\n",
      "\n",
      "See the caveats in the documentation: https://pandas.pydata.org/pandas-docs/stable/user_guide/indexing.html#returning-a-view-versus-a-copy\n",
      "  movies[mask][\"original_title\"] = \"Jumanji I\"\n"
     ]
    },
    {
     "data": {
      "text/html": [
       "<div>\n",
       "<style scoped>\n",
       "    .dataframe tbody tr th:only-of-type {\n",
       "        vertical-align: middle;\n",
       "    }\n",
       "\n",
       "    .dataframe tbody tr th {\n",
       "        vertical-align: top;\n",
       "    }\n",
       "\n",
       "    .dataframe thead th {\n",
       "        text-align: right;\n",
       "    }\n",
       "</style>\n",
       "<table border=\"1\" class=\"dataframe\">\n",
       "  <thead>\n",
       "    <tr style=\"text-align: right;\">\n",
       "      <th></th>\n",
       "      <th>id</th>\n",
       "      <th>original_title</th>\n",
       "      <th>release_date</th>\n",
       "      <th>original_language</th>\n",
       "      <th>popularity</th>\n",
       "      <th>revenue</th>\n",
       "      <th>vote_average</th>\n",
       "      <th>vote_count</th>\n",
       "    </tr>\n",
       "  </thead>\n",
       "  <tbody>\n",
       "    <tr>\n",
       "      <th>0</th>\n",
       "      <td>862</td>\n",
       "      <td>Toy Story I</td>\n",
       "      <td>1995-10-30</td>\n",
       "      <td>en</td>\n",
       "      <td>21.946943</td>\n",
       "      <td>373554033.0</td>\n",
       "      <td>7.7</td>\n",
       "      <td>5415.0</td>\n",
       "    </tr>\n",
       "    <tr>\n",
       "      <th>1</th>\n",
       "      <td>8844</td>\n",
       "      <td>Jumanji</td>\n",
       "      <td>1995-12-15</td>\n",
       "      <td>en</td>\n",
       "      <td>17.015539</td>\n",
       "      <td>262797249.0</td>\n",
       "      <td>6.9</td>\n",
       "      <td>2413.0</td>\n",
       "    </tr>\n",
       "  </tbody>\n",
       "</table>\n",
       "</div>"
      ],
      "text/plain": [
       "     id original_title release_date original_language  popularity  \\\n",
       "0   862    Toy Story I   1995-10-30                en   21.946943   \n",
       "1  8844        Jumanji   1995-12-15                en   17.015539   \n",
       "\n",
       "       revenue  vote_average  vote_count  \n",
       "0  373554033.0           7.7      5415.0  \n",
       "1  262797249.0           6.9      2413.0  "
      ]
     },
     "execution_count": 12,
     "metadata": {},
     "output_type": "execute_result"
    }
   ],
   "source": [
    "mask = movies.original_title == 'Jumanji'\n",
    "movies[mask][\"original_title\"] = \"Jumanji I\"\n",
    "movies.head(2)\n",
    "# Notice the warning!!"
   ]
  },
  {
   "cell_type": "markdown",
   "id": "a3881202",
   "metadata": {},
   "source": [
    "In practice: do not chain filtering or subsetting operations"
   ]
  }
 ],
 "metadata": {
  "kernelspec": {
   "display_name": "Python 3 (ipykernel)",
   "language": "python",
   "name": "python3"
  },
  "language_info": {
   "codemirror_mode": {
    "name": "ipython",
    "version": 3
   },
   "file_extension": ".py",
   "mimetype": "text/x-python",
   "name": "python",
   "nbconvert_exporter": "python",
   "pygments_lexer": "ipython3",
   "version": "3.11.6"
  }
 },
 "nbformat": 4,
 "nbformat_minor": 5
}
