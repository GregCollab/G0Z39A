{
 "cells": [
  {
   "cell_type": "markdown",
   "id": "c981364e",
   "metadata": {},
   "source": [
    "# Plotly Demonstration - Interactivity\n",
    "Plotly is a powerful and versatile data visualization package for Python that allows you to create interactive plots and charts. It is built on top of the JavaScript library Plotly.js, which means that Plotly plots can be easily embedded into web applications. Some of the key benefits of using Plotly include:\n",
    "\n",
    "1. **Interactive visualizations**: Plotly allows you to create highly interactive and dynamic visualizations that respond to user interactions, such as hovering over data points, clicking on legends, and zooming in and out of plots.\n",
    "\n",
    "2. **Wide range of chart types**: Plotly supports a wide range of chart types, including scatter plots, line charts, bar charts, pie charts, heatmaps, and more. This makes it easy to create the right type of chart for your data and analysis.\n",
    "\n",
    "3. **Easy customization**: Plotly allows you to customize nearly every aspect of your charts, including colors, fonts, layout, and annotations. This makes it easy to create charts that fit your specific needs and brand identity.\n",
    "\n",
    "4. **Multiple output formats**: Plotly allows you to export your visualizations in multiple formats, including static images (PNG, JPG, SVG), interactive HTML files, and PDF documents. This makes it easy to share your results with others and embed them in presentations and reports.\n",
    "\n",
    "5. **Integration with other Python packages**: Plotly can be used in conjunction with other popular Python packages, such as Pandas, NumPy, and Scikit-learn. This allows you to seamlessly integrate data analysis and visualization into your data science workflow.\n",
    "\n",
    "Overall, Plotly is a powerful and flexible tool for creating interactive and dynamic data visualizations in Python. In this notebook, we will explore some of the key features and capabilities of Plotly and demonstrate how it can be used to create engaging and informative data visualizations."
   ]
  },
  {
   "cell_type": "code",
   "execution_count": 1,
   "id": "c97a7992",
   "metadata": {},
   "outputs": [],
   "source": [
    "import numpy as np\n",
    "import pandas as pd\n",
    "import plotly.express as px"
   ]
  },
  {
   "cell_type": "markdown",
   "id": "bd886afe",
   "metadata": {},
   "source": [
    "### Data"
   ]
  },
  {
   "cell_type": "markdown",
   "id": "8550f785",
   "metadata": {},
   "source": [
    "The murders dataset is a data frame included in the R software package that contains information about murders in the United States from 1960 to 2014. The dataset includes variables such as the number of murders per year, the population of the United States, and the rate of murders per 100,000 people. The data is sourced from the Federal Bureau of Investigation's Uniform Crime Reports, which collects data on crime from law enforcement agencies across the country.\n",
    "\n",
    "This dataset has been used in a number of studies and analyses to examine trends and patterns in murder rates over time, as well as the factors that may contribute to variations in murder rates across different regions and demographics. It is a rich dataset that can be used to explore a wide range of research questions related to crime and public safety.\n",
    "\n",
    "In this notebook, we will use Python and Plotly to visualize and analyze the murders dataset. We will use a condensed version of the dataset that only includes information about US Gun Murders in 2010."
   ]
  },
  {
   "cell_type": "code",
   "execution_count": 2,
   "id": "ba7584f2",
   "metadata": {},
   "outputs": [
    {
     "data": {
      "text/html": [
       "<div>\n",
       "<style scoped>\n",
       "    .dataframe tbody tr th:only-of-type {\n",
       "        vertical-align: middle;\n",
       "    }\n",
       "\n",
       "    .dataframe tbody tr th {\n",
       "        vertical-align: top;\n",
       "    }\n",
       "\n",
       "    .dataframe thead th {\n",
       "        text-align: right;\n",
       "    }\n",
       "</style>\n",
       "<table border=\"1\" class=\"dataframe\">\n",
       "  <thead>\n",
       "    <tr style=\"text-align: right;\">\n",
       "      <th></th>\n",
       "      <th>state</th>\n",
       "      <th>abb</th>\n",
       "      <th>region</th>\n",
       "      <th>population</th>\n",
       "      <th>total</th>\n",
       "    </tr>\n",
       "  </thead>\n",
       "  <tbody>\n",
       "    <tr>\n",
       "      <th>0</th>\n",
       "      <td>Alabama</td>\n",
       "      <td>AL</td>\n",
       "      <td>South</td>\n",
       "      <td>4779736</td>\n",
       "      <td>135</td>\n",
       "    </tr>\n",
       "    <tr>\n",
       "      <th>1</th>\n",
       "      <td>Alaska</td>\n",
       "      <td>AK</td>\n",
       "      <td>West</td>\n",
       "      <td>710231</td>\n",
       "      <td>19</td>\n",
       "    </tr>\n",
       "    <tr>\n",
       "      <th>2</th>\n",
       "      <td>Arizona</td>\n",
       "      <td>AZ</td>\n",
       "      <td>West</td>\n",
       "      <td>6392017</td>\n",
       "      <td>232</td>\n",
       "    </tr>\n",
       "    <tr>\n",
       "      <th>3</th>\n",
       "      <td>Arkansas</td>\n",
       "      <td>AR</td>\n",
       "      <td>South</td>\n",
       "      <td>2915918</td>\n",
       "      <td>93</td>\n",
       "    </tr>\n",
       "    <tr>\n",
       "      <th>4</th>\n",
       "      <td>California</td>\n",
       "      <td>CA</td>\n",
       "      <td>West</td>\n",
       "      <td>37253956</td>\n",
       "      <td>1257</td>\n",
       "    </tr>\n",
       "  </tbody>\n",
       "</table>\n",
       "</div>"
      ],
      "text/plain": [
       "        state abb region  population  total\n",
       "0     Alabama  AL  South     4779736    135\n",
       "1      Alaska  AK   West      710231     19\n",
       "2     Arizona  AZ   West     6392017    232\n",
       "3    Arkansas  AR  South     2915918     93\n",
       "4  California  CA   West    37253956   1257"
      ]
     },
     "execution_count": 2,
     "metadata": {},
     "output_type": "execute_result"
    }
   ],
   "source": [
    "murders = pd.read_excel('https://kuleuven-mda.s3.eu-central-1.amazonaws.com/murders_data.xlsx')\n",
    "murders.head()"
   ]
  },
  {
   "cell_type": "markdown",
   "id": "983b1db0",
   "metadata": {},
   "source": [
    "### Visualization\n",
    "In this notebook, we will create a visualization that explores the relationship between the total number of gun murders and the population of each state in the United States. Specifically, we will create a scatter plot that displays the total number of gun murders per state on the y-axis and the population of the state on the x-axis. Each point on the scatter plot will represent a state, and we will color-code the points based on the region to which the state belongs (Northeast, Midwest, South, or West) for easy visualization.\n",
    "\n",
    "In addition to the scatter plot, we will add a trendline to the plot to illustrate the overall relationship between gun murders and population size. The trendline will be created using a linear regression analysis, which will help us understand the direction and strength of the relationship between these two variables.\n",
    "\n",
    "##### Plotly express"
   ]
  },
  {
   "cell_type": "code",
   "execution_count": null,
   "id": "537976c9",
   "metadata": {},
   "outputs": [],
   "source": [
    "murders.loc[:, 'log_population'] = np.log10(murders.population,)\n",
    "murders.loc[:, 'log_total'] = np.log10(murders.total)\n",
    "\n",
    "fig = px.scatter(\n",
    "    data_frame=murders, \n",
    "    x=\"log_population\", \n",
    "    y=\"log_total\", \n",
    "    trendline=\"ols\",\n",
    "    color=\"region\",\n",
    "    text=\"abb\",\n",
    "    trendline_scope=\"overall\",\n",
    "    hover_data=[\"population\", \"total\"],\n",
    "    hover_name=\"state\",\n",
    "    template='plotly_white',\n",
    "    color_discrete_sequence=[\"#264653\", \"#2a9d8f\", \"#e76f51\", \"#f4a261\", \"#e9c46a\"])\n",
    "\n",
    "fig.update_layout(\n",
    "    title=\"US Gun Murders in 2010\",\n",
    "    xaxis_title=\"Populations in Millions (log scale)\",\n",
    "    yaxis_title=\"Total Number of Murders (log scale)\",\n",
    "    legend_title=\"Region\"\n",
    ")\n",
    "fig.update_traces(textposition='top left', textfont_size=8)\n",
    "\n",
    "dc_values = murders[murders.abb == 'DC'].to_dict(orient='records')[0]\n",
    "\n",
    "fig.add_annotation(x=dc_values['log_population'], y=dc_values['log_total'],\n",
    "            text=\"Outlying value\",\n",
    "            showarrow=False,\n",
    "            yshift=40,\n",
    "            font=dict(color='#ef233c')\n",
    "            )\n",
    "fig.add_shape(type=\"circle\",\n",
    "    xref=\"x\", yref=\"y\",\n",
    "    x0=dc_values['log_population'] - 0.08, y0=dc_values['log_total'] - 0.2, \n",
    "    x1=dc_values['log_population'] + 0.08, y1=dc_values['log_total'] + 0.2,\n",
    "    line_color=\"#ef233c\"\n",
    ")\n",
    "\n",
    "fig.show()"
   ]
  },
  {
   "cell_type": "markdown",
   "id": "3001c033",
   "metadata": {},
   "source": [
    "##### Plotly graph objects\n",
    "Note that we had to iterate over the unique regions in the murders dataset, and plot each one separately in the loop, rather than using the color parameter in px.scatter. We also used NumPy to fit a linear trendline to each region's data, and plotted it using a mode='lines' trace."
   ]
  },
  {
   "cell_type": "code",
   "execution_count": 4,
   "id": "53e7af6a",
   "metadata": {},
   "outputs": [
    {
     "data": {
      "application/vnd.plotly.v1+json": {
       "config": {
        "plotlyServerURL": "https://plot.ly"
       },
       "data": [
        {
         "marker": {
          "color": "#264653",
          "symbol": "circle"
         },
         "mode": "markers+text",
         "name": "South",
         "text": [
          "AL",
          "AR",
          "DE",
          "DC",
          "FL",
          "GA",
          "KY",
          "LA",
          "MD",
          "MS",
          "NC",
          "OK",
          "SC",
          "TN",
          "TX",
          "VA",
          "WV"
         ],
         "textfont": {
          "size": 8
         },
         "textposition": "top left",
         "type": "scatter",
         "x": [
          6.679403909810966,
          6.464775306803603,
          5.9532444163007225,
          5.7793966120935805,
          7.2941939462091065,
          6.9965116721541785,
          6.637426381941765,
          6.656421357911221,
          6.761443081679043,
          6.472361017501797,
          6.9793426962202085,
          6.574187701375843,
          6.665145915879582,
          6.8025072534787565,
          7.400461329218689,
          6.9031455731281905,
          6.26787401307437
         ],
         "y": [
          2.130333768495006,
          1.968482948553935,
          1.5797835966168101,
          1.99563519459755,
          2.8254261177678233,
          2.575187844927661,
          2.0644579892269186,
          2.545307116465824,
          2.4668676203541096,
          2.0791812460476247,
          2.456366033129043,
          2.0453229787866576,
          2.315970345456918,
          2.3404441148401185,
          2.9057958803678687,
          2.3979400086720375,
          1.4313637641589874
         ]
        },
        {
         "marker": {
          "color": "#2a9d8f",
          "symbol": "square"
         },
         "mode": "markers+text",
         "name": "West",
         "text": [
          "AK",
          "AZ",
          "CA",
          "CO",
          "HI",
          "ID",
          "MT",
          "NV",
          "NM",
          "OR",
          "UT",
          "WA",
          "WY"
         ],
         "textfont": {
          "size": 8
         },
         "textposition": "top left",
         "type": "scatter",
         "x": [
          5.851399624365367,
          6.805637921342915,
          7.571172397292265,
          6.70149856146299,
          6.133635017322562,
          6.195230267981904,
          5.995378490188105,
          6.431452383361124,
          6.313694100543885,
          6.58332054078007,
          6.441519968910396,
          6.827662581270065,
          5.750991018851947
         ],
         "y": [
          1.2787536009528289,
          2.3654879848909,
          3.0993352776859577,
          1.8129133566428555,
          0.8450980400142568,
          1.0791812460476249,
          1.0791812460476249,
          1.9242792860618816,
          1.8260748027008264,
          1.5563025007672873,
          1.3424226808222062,
          1.968482948553935,
          0.6989700043360189
         ]
        },
        {
         "marker": {
          "color": "#e76f51",
          "symbol": "diamond"
         },
         "mode": "markers+text",
         "name": "Northeast",
         "text": [
          "CT",
          "ME",
          "MA",
          "NH",
          "NJ",
          "NY",
          "PA",
          "RI",
          "VT"
         ],
         "textfont": {
          "size": 8
         },
         "textposition": "top left",
         "type": "scatter",
         "x": [
          6.5531663349612,
          6.123316116449511,
          6.816084063559473,
          6.119410966759285,
          6.944082443349398,
          7.2873112375603,
          7.103885066610666,
          6.02224974992735,
          5.796394611890415
         ],
         "y": [
          1.9867717342662448,
          1.0413926851582251,
          2.0718820073061255,
          0.6989700043360189,
          2.3909351071033793,
          2.7134905430939424,
          2.6599162000698504,
          1.2041199826559248,
          0.3010299956639812
         ]
        },
        {
         "marker": {
          "color": "#f4a261",
          "symbol": "x"
         },
         "mode": "markers+text",
         "name": "North Central",
         "text": [
          "IL",
          "IN",
          "IA",
          "KS",
          "MI",
          "MN",
          "MO",
          "NE",
          "ND",
          "OH",
          "SD",
          "WI"
         ],
         "textfont": {
          "size": 8
         },
         "textposition": "top left",
         "type": "scatter",
         "x": [
          7.108248048997886,
          6.811829744051188,
          6.483780511461461,
          6.4553197336932175,
          6.994916918350761,
          6.724597374311416,
          6.777349019430778,
          6.261581868812715,
          5.8277510516844035,
          7.062074220991647,
          5.9107204299073945,
          6.754882159124292
         ],
         "y": [
          2.561101383649056,
          2.1522883443830563,
          1.3222192947339193,
          1.7993405494535817,
          2.615950051656401,
          1.724275869600789,
          2.506505032404872,
          1.505149978319906,
          0.6020599913279624,
          2.4913616938342726,
          0.9030899869919435,
          1.9867717342662448
         ]
        },
        {
         "line": {
          "color": "#e9c46a",
          "dash": "dash"
         },
         "mode": "lines",
         "name": "Trendline",
         "textfont": {
          "size": 8
         },
         "textposition": "top left",
         "type": "scatter",
         "x": [
          5.900991018851947,
          5.9163463863109405,
          5.931701753769933,
          5.9470571212289265,
          5.962412488687919,
          5.9777678561469125,
          5.993123223605906,
          6.008478591064899,
          6.023833958523892,
          6.039189325982885,
          6.054544693441878,
          6.0699000609008715,
          6.085255428359864,
          6.100610795818858,
          6.11596616327785,
          6.131321530736844,
          6.146676898195837,
          6.16203226565483,
          6.177387633113823,
          6.192743000572816,
          6.208098368031809,
          6.223453735490802,
          6.238809102949795,
          6.254164470408789,
          6.269519837867781,
          6.284875205326775,
          6.300230572785768,
          6.315585940244761,
          6.330941307703754,
          6.346296675162747,
          6.36165204262174,
          6.377007410080733,
          6.392362777539726,
          6.40771814499872,
          6.423073512457712,
          6.438428879916706,
          6.453784247375699,
          6.469139614834692,
          6.484494982293685,
          6.499850349752678,
          6.515205717211671,
          6.530561084670664,
          6.545916452129657,
          6.561271819588651,
          6.576627187047643,
          6.591982554506637,
          6.607337921965629,
          6.622693289424623,
          6.638048656883616,
          6.653404024342609,
          6.668759391801602,
          6.684114759260595,
          6.699470126719588,
          6.714825494178582,
          6.7301808616375745,
          6.745536229096568,
          6.7608915965555605,
          6.776246964014554,
          6.7916023314735465,
          6.80695769893254,
          6.8223130663915335,
          6.837668433850526,
          6.8530238013095195,
          6.868379168768513,
          6.8837345362275055,
          6.899089903686499,
          6.914445271145492,
          6.929800638604485,
          6.945156006063478,
          6.960511373522471,
          6.9758667409814645,
          6.991222108440457,
          7.006577475899451,
          7.021932843358444,
          7.037288210817437,
          7.05264357827643,
          7.067998945735423,
          7.083354313194416,
          7.098709680653409,
          7.114065048112402,
          7.129420415571396,
          7.144775783030388,
          7.160131150489382,
          7.175486517948375,
          7.190841885407368,
          7.206197252866361,
          7.221552620325354,
          7.236907987784347,
          7.25226335524334,
          7.267618722702333,
          7.282974090161327,
          7.298329457620319,
          7.313684825079313,
          7.329040192538306,
          7.344395559997299,
          7.359750927456291,
          7.375106294915285,
          7.390461662374278,
          7.405817029833271,
          7.421172397292264
         ],
         "y": [
          1.0133040303175083,
          1.033500773648706,
          1.053697516979903,
          1.0738942603111017,
          1.0940910036422986,
          1.1142877469734964,
          1.1344844903046951,
          1.154681233635892,
          1.1748779769670907,
          1.1950747202982877,
          1.2152714636294855,
          1.2354682069606842,
          1.2556649502918802,
          1.2758616936230798,
          1.2960584369542758,
          1.3162551802854736,
          1.3364519236166732,
          1.3566486669478692,
          1.376845410279067,
          1.3970421536102648,
          1.4172388969414627,
          1.4374356402726605,
          1.4576323836038583,
          1.477829126935056,
          1.498025870266254,
          1.5182226135974517,
          1.5384193569286495,
          1.5586161002598473,
          1.5788128435910451,
          1.599009586922243,
          1.6192063302534407,
          1.6394030735846385,
          1.6595998169158364,
          1.6797965602470342,
          1.699993303578232,
          1.7201900469094298,
          1.7403867902406276,
          1.7605835335718254,
          1.7807802769030232,
          1.8009770202342192,
          1.8211737635654188,
          1.8413705068966149,
          1.8615672502278127,
          1.8817639935590122,
          1.9019607368902083,
          1.9221574802214079,
          1.942354223552604,
          1.9625509668838017,
          1.9827477102150013,
          2.0029444535461973,
          2.023141196877395,
          2.043337940208593,
          2.0635346835397907,
          2.0837314268709886,
          2.1039281702021864,
          2.124124913533384,
          2.144321656864582,
          2.16451840019578,
          2.1847151435269776,
          2.2049118868581754,
          2.225108630189373,
          2.245305373520571,
          2.265502116851769,
          2.2856988601829666,
          2.3058956035141644,
          2.3260923468453623,
          2.3462890901765583,
          2.366485833507758,
          2.386682576838954,
          2.4068793201701535,
          2.4270760635013513,
          2.4472728068325473,
          2.467469550163747,
          2.4876662934949447,
          2.5078630368261408,
          2.5280597801573403,
          2.5482565234885364,
          2.568453266819734,
          2.588650010150932,
          2.60884675348213,
          2.6290434968133276,
          2.6492402401445254,
          2.6694369834757232,
          2.689633726806921,
          2.709830470138119,
          2.7300272134693166,
          2.7502239568005145,
          2.7704207001317123,
          2.79061744346291,
          2.810814186794108,
          2.8310109301253057,
          2.8512076734565035,
          2.8714044167877013,
          2.891601160118899,
          2.911797903450097,
          2.931994646781293,
          2.9521913901124925,
          2.9723881334436904,
          2.9925848767748864,
          3.012781620106086
         ]
        }
       ],
       "layout": {
        "annotations": [
         {
          "font": {
           "color": "#ef233c"
          },
          "showarrow": false,
          "text": "Outlying value",
          "x": 5.7793966120935805,
          "y": 1.99563519459755,
          "yshift": 40
         }
        ],
        "legend": {
         "orientation": "h",
         "title": {
          "text": ""
         },
         "x": 0.2,
         "y": 1.05
        },
        "shapes": [
         {
          "line": {
           "color": "#ef233c"
          },
          "type": "circle",
          "x0": 5.70939661209358,
          "x1": 5.849396612093581,
          "xref": "x",
          "y0": 1.74563519459755,
          "y1": 2.2456351945975497,
          "yref": "y"
         }
        ],
        "template": {
         "data": {
          "bar": [
           {
            "error_x": {
             "color": "rgb(36,36,36)"
            },
            "error_y": {
             "color": "rgb(36,36,36)"
            },
            "marker": {
             "line": {
              "color": "white",
              "width": 0.5
             },
             "pattern": {
              "fillmode": "overlay",
              "size": 10,
              "solidity": 0.2
             }
            },
            "type": "bar"
           }
          ],
          "barpolar": [
           {
            "marker": {
             "line": {
              "color": "white",
              "width": 0.5
             },
             "pattern": {
              "fillmode": "overlay",
              "size": 10,
              "solidity": 0.2
             }
            },
            "type": "barpolar"
           }
          ],
          "carpet": [
           {
            "aaxis": {
             "endlinecolor": "rgb(36,36,36)",
             "gridcolor": "white",
             "linecolor": "white",
             "minorgridcolor": "white",
             "startlinecolor": "rgb(36,36,36)"
            },
            "baxis": {
             "endlinecolor": "rgb(36,36,36)",
             "gridcolor": "white",
             "linecolor": "white",
             "minorgridcolor": "white",
             "startlinecolor": "rgb(36,36,36)"
            },
            "type": "carpet"
           }
          ],
          "choropleth": [
           {
            "colorbar": {
             "outlinewidth": 1,
             "tickcolor": "rgb(36,36,36)",
             "ticks": "outside"
            },
            "type": "choropleth"
           }
          ],
          "contour": [
           {
            "colorbar": {
             "outlinewidth": 1,
             "tickcolor": "rgb(36,36,36)",
             "ticks": "outside"
            },
            "colorscale": [
             [
              0,
              "#440154"
             ],
             [
              0.1111111111111111,
              "#482878"
             ],
             [
              0.2222222222222222,
              "#3e4989"
             ],
             [
              0.3333333333333333,
              "#31688e"
             ],
             [
              0.4444444444444444,
              "#26828e"
             ],
             [
              0.5555555555555556,
              "#1f9e89"
             ],
             [
              0.6666666666666666,
              "#35b779"
             ],
             [
              0.7777777777777778,
              "#6ece58"
             ],
             [
              0.8888888888888888,
              "#b5de2b"
             ],
             [
              1,
              "#fde725"
             ]
            ],
            "type": "contour"
           }
          ],
          "contourcarpet": [
           {
            "colorbar": {
             "outlinewidth": 1,
             "tickcolor": "rgb(36,36,36)",
             "ticks": "outside"
            },
            "type": "contourcarpet"
           }
          ],
          "heatmap": [
           {
            "colorbar": {
             "outlinewidth": 1,
             "tickcolor": "rgb(36,36,36)",
             "ticks": "outside"
            },
            "colorscale": [
             [
              0,
              "#440154"
             ],
             [
              0.1111111111111111,
              "#482878"
             ],
             [
              0.2222222222222222,
              "#3e4989"
             ],
             [
              0.3333333333333333,
              "#31688e"
             ],
             [
              0.4444444444444444,
              "#26828e"
             ],
             [
              0.5555555555555556,
              "#1f9e89"
             ],
             [
              0.6666666666666666,
              "#35b779"
             ],
             [
              0.7777777777777778,
              "#6ece58"
             ],
             [
              0.8888888888888888,
              "#b5de2b"
             ],
             [
              1,
              "#fde725"
             ]
            ],
            "type": "heatmap"
           }
          ],
          "heatmapgl": [
           {
            "colorbar": {
             "outlinewidth": 1,
             "tickcolor": "rgb(36,36,36)",
             "ticks": "outside"
            },
            "colorscale": [
             [
              0,
              "#440154"
             ],
             [
              0.1111111111111111,
              "#482878"
             ],
             [
              0.2222222222222222,
              "#3e4989"
             ],
             [
              0.3333333333333333,
              "#31688e"
             ],
             [
              0.4444444444444444,
              "#26828e"
             ],
             [
              0.5555555555555556,
              "#1f9e89"
             ],
             [
              0.6666666666666666,
              "#35b779"
             ],
             [
              0.7777777777777778,
              "#6ece58"
             ],
             [
              0.8888888888888888,
              "#b5de2b"
             ],
             [
              1,
              "#fde725"
             ]
            ],
            "type": "heatmapgl"
           }
          ],
          "histogram": [
           {
            "marker": {
             "line": {
              "color": "white",
              "width": 0.6
             }
            },
            "type": "histogram"
           }
          ],
          "histogram2d": [
           {
            "colorbar": {
             "outlinewidth": 1,
             "tickcolor": "rgb(36,36,36)",
             "ticks": "outside"
            },
            "colorscale": [
             [
              0,
              "#440154"
             ],
             [
              0.1111111111111111,
              "#482878"
             ],
             [
              0.2222222222222222,
              "#3e4989"
             ],
             [
              0.3333333333333333,
              "#31688e"
             ],
             [
              0.4444444444444444,
              "#26828e"
             ],
             [
              0.5555555555555556,
              "#1f9e89"
             ],
             [
              0.6666666666666666,
              "#35b779"
             ],
             [
              0.7777777777777778,
              "#6ece58"
             ],
             [
              0.8888888888888888,
              "#b5de2b"
             ],
             [
              1,
              "#fde725"
             ]
            ],
            "type": "histogram2d"
           }
          ],
          "histogram2dcontour": [
           {
            "colorbar": {
             "outlinewidth": 1,
             "tickcolor": "rgb(36,36,36)",
             "ticks": "outside"
            },
            "colorscale": [
             [
              0,
              "#440154"
             ],
             [
              0.1111111111111111,
              "#482878"
             ],
             [
              0.2222222222222222,
              "#3e4989"
             ],
             [
              0.3333333333333333,
              "#31688e"
             ],
             [
              0.4444444444444444,
              "#26828e"
             ],
             [
              0.5555555555555556,
              "#1f9e89"
             ],
             [
              0.6666666666666666,
              "#35b779"
             ],
             [
              0.7777777777777778,
              "#6ece58"
             ],
             [
              0.8888888888888888,
              "#b5de2b"
             ],
             [
              1,
              "#fde725"
             ]
            ],
            "type": "histogram2dcontour"
           }
          ],
          "mesh3d": [
           {
            "colorbar": {
             "outlinewidth": 1,
             "tickcolor": "rgb(36,36,36)",
             "ticks": "outside"
            },
            "type": "mesh3d"
           }
          ],
          "parcoords": [
           {
            "line": {
             "colorbar": {
              "outlinewidth": 1,
              "tickcolor": "rgb(36,36,36)",
              "ticks": "outside"
             }
            },
            "type": "parcoords"
           }
          ],
          "pie": [
           {
            "automargin": true,
            "type": "pie"
           }
          ],
          "scatter": [
           {
            "fillpattern": {
             "fillmode": "overlay",
             "size": 10,
             "solidity": 0.2
            },
            "type": "scatter"
           }
          ],
          "scatter3d": [
           {
            "line": {
             "colorbar": {
              "outlinewidth": 1,
              "tickcolor": "rgb(36,36,36)",
              "ticks": "outside"
             }
            },
            "marker": {
             "colorbar": {
              "outlinewidth": 1,
              "tickcolor": "rgb(36,36,36)",
              "ticks": "outside"
             }
            },
            "type": "scatter3d"
           }
          ],
          "scattercarpet": [
           {
            "marker": {
             "colorbar": {
              "outlinewidth": 1,
              "tickcolor": "rgb(36,36,36)",
              "ticks": "outside"
             }
            },
            "type": "scattercarpet"
           }
          ],
          "scattergeo": [
           {
            "marker": {
             "colorbar": {
              "outlinewidth": 1,
              "tickcolor": "rgb(36,36,36)",
              "ticks": "outside"
             }
            },
            "type": "scattergeo"
           }
          ],
          "scattergl": [
           {
            "marker": {
             "colorbar": {
              "outlinewidth": 1,
              "tickcolor": "rgb(36,36,36)",
              "ticks": "outside"
             }
            },
            "type": "scattergl"
           }
          ],
          "scattermapbox": [
           {
            "marker": {
             "colorbar": {
              "outlinewidth": 1,
              "tickcolor": "rgb(36,36,36)",
              "ticks": "outside"
             }
            },
            "type": "scattermapbox"
           }
          ],
          "scatterpolar": [
           {
            "marker": {
             "colorbar": {
              "outlinewidth": 1,
              "tickcolor": "rgb(36,36,36)",
              "ticks": "outside"
             }
            },
            "type": "scatterpolar"
           }
          ],
          "scatterpolargl": [
           {
            "marker": {
             "colorbar": {
              "outlinewidth": 1,
              "tickcolor": "rgb(36,36,36)",
              "ticks": "outside"
             }
            },
            "type": "scatterpolargl"
           }
          ],
          "scatterternary": [
           {
            "marker": {
             "colorbar": {
              "outlinewidth": 1,
              "tickcolor": "rgb(36,36,36)",
              "ticks": "outside"
             }
            },
            "type": "scatterternary"
           }
          ],
          "surface": [
           {
            "colorbar": {
             "outlinewidth": 1,
             "tickcolor": "rgb(36,36,36)",
             "ticks": "outside"
            },
            "colorscale": [
             [
              0,
              "#440154"
             ],
             [
              0.1111111111111111,
              "#482878"
             ],
             [
              0.2222222222222222,
              "#3e4989"
             ],
             [
              0.3333333333333333,
              "#31688e"
             ],
             [
              0.4444444444444444,
              "#26828e"
             ],
             [
              0.5555555555555556,
              "#1f9e89"
             ],
             [
              0.6666666666666666,
              "#35b779"
             ],
             [
              0.7777777777777778,
              "#6ece58"
             ],
             [
              0.8888888888888888,
              "#b5de2b"
             ],
             [
              1,
              "#fde725"
             ]
            ],
            "type": "surface"
           }
          ],
          "table": [
           {
            "cells": {
             "fill": {
              "color": "rgb(237,237,237)"
             },
             "line": {
              "color": "white"
             }
            },
            "header": {
             "fill": {
              "color": "rgb(217,217,217)"
             },
             "line": {
              "color": "white"
             }
            },
            "type": "table"
           }
          ]
         },
         "layout": {
          "annotationdefaults": {
           "arrowhead": 0,
           "arrowwidth": 1
          },
          "autotypenumbers": "strict",
          "coloraxis": {
           "colorbar": {
            "outlinewidth": 1,
            "tickcolor": "rgb(36,36,36)",
            "ticks": "outside"
           }
          },
          "colorscale": {
           "diverging": [
            [
             0,
             "rgb(103,0,31)"
            ],
            [
             0.1,
             "rgb(178,24,43)"
            ],
            [
             0.2,
             "rgb(214,96,77)"
            ],
            [
             0.3,
             "rgb(244,165,130)"
            ],
            [
             0.4,
             "rgb(253,219,199)"
            ],
            [
             0.5,
             "rgb(247,247,247)"
            ],
            [
             0.6,
             "rgb(209,229,240)"
            ],
            [
             0.7,
             "rgb(146,197,222)"
            ],
            [
             0.8,
             "rgb(67,147,195)"
            ],
            [
             0.9,
             "rgb(33,102,172)"
            ],
            [
             1,
             "rgb(5,48,97)"
            ]
           ],
           "sequential": [
            [
             0,
             "#440154"
            ],
            [
             0.1111111111111111,
             "#482878"
            ],
            [
             0.2222222222222222,
             "#3e4989"
            ],
            [
             0.3333333333333333,
             "#31688e"
            ],
            [
             0.4444444444444444,
             "#26828e"
            ],
            [
             0.5555555555555556,
             "#1f9e89"
            ],
            [
             0.6666666666666666,
             "#35b779"
            ],
            [
             0.7777777777777778,
             "#6ece58"
            ],
            [
             0.8888888888888888,
             "#b5de2b"
            ],
            [
             1,
             "#fde725"
            ]
           ],
           "sequentialminus": [
            [
             0,
             "#440154"
            ],
            [
             0.1111111111111111,
             "#482878"
            ],
            [
             0.2222222222222222,
             "#3e4989"
            ],
            [
             0.3333333333333333,
             "#31688e"
            ],
            [
             0.4444444444444444,
             "#26828e"
            ],
            [
             0.5555555555555556,
             "#1f9e89"
            ],
            [
             0.6666666666666666,
             "#35b779"
            ],
            [
             0.7777777777777778,
             "#6ece58"
            ],
            [
             0.8888888888888888,
             "#b5de2b"
            ],
            [
             1,
             "#fde725"
            ]
           ]
          },
          "colorway": [
           "#1F77B4",
           "#FF7F0E",
           "#2CA02C",
           "#D62728",
           "#9467BD",
           "#8C564B",
           "#E377C2",
           "#7F7F7F",
           "#BCBD22",
           "#17BECF"
          ],
          "font": {
           "color": "rgb(36,36,36)"
          },
          "geo": {
           "bgcolor": "white",
           "lakecolor": "white",
           "landcolor": "white",
           "showlakes": true,
           "showland": true,
           "subunitcolor": "white"
          },
          "hoverlabel": {
           "align": "left"
          },
          "hovermode": "closest",
          "mapbox": {
           "style": "light"
          },
          "paper_bgcolor": "white",
          "plot_bgcolor": "white",
          "polar": {
           "angularaxis": {
            "gridcolor": "rgb(232,232,232)",
            "linecolor": "rgb(36,36,36)",
            "showgrid": false,
            "showline": true,
            "ticks": "outside"
           },
           "bgcolor": "white",
           "radialaxis": {
            "gridcolor": "rgb(232,232,232)",
            "linecolor": "rgb(36,36,36)",
            "showgrid": false,
            "showline": true,
            "ticks": "outside"
           }
          },
          "scene": {
           "xaxis": {
            "backgroundcolor": "white",
            "gridcolor": "rgb(232,232,232)",
            "gridwidth": 2,
            "linecolor": "rgb(36,36,36)",
            "showbackground": true,
            "showgrid": false,
            "showline": true,
            "ticks": "outside",
            "zeroline": false,
            "zerolinecolor": "rgb(36,36,36)"
           },
           "yaxis": {
            "backgroundcolor": "white",
            "gridcolor": "rgb(232,232,232)",
            "gridwidth": 2,
            "linecolor": "rgb(36,36,36)",
            "showbackground": true,
            "showgrid": false,
            "showline": true,
            "ticks": "outside",
            "zeroline": false,
            "zerolinecolor": "rgb(36,36,36)"
           },
           "zaxis": {
            "backgroundcolor": "white",
            "gridcolor": "rgb(232,232,232)",
            "gridwidth": 2,
            "linecolor": "rgb(36,36,36)",
            "showbackground": true,
            "showgrid": false,
            "showline": true,
            "ticks": "outside",
            "zeroline": false,
            "zerolinecolor": "rgb(36,36,36)"
           }
          },
          "shapedefaults": {
           "fillcolor": "black",
           "line": {
            "width": 0
           },
           "opacity": 0.3
          },
          "ternary": {
           "aaxis": {
            "gridcolor": "rgb(232,232,232)",
            "linecolor": "rgb(36,36,36)",
            "showgrid": false,
            "showline": true,
            "ticks": "outside"
           },
           "baxis": {
            "gridcolor": "rgb(232,232,232)",
            "linecolor": "rgb(36,36,36)",
            "showgrid": false,
            "showline": true,
            "ticks": "outside"
           },
           "bgcolor": "white",
           "caxis": {
            "gridcolor": "rgb(232,232,232)",
            "linecolor": "rgb(36,36,36)",
            "showgrid": false,
            "showline": true,
            "ticks": "outside"
           }
          },
          "title": {
           "x": 0.05
          },
          "xaxis": {
           "automargin": true,
           "gridcolor": "rgb(232,232,232)",
           "linecolor": "rgb(36,36,36)",
           "showgrid": false,
           "showline": true,
           "ticks": "outside",
           "title": {
            "standoff": 15
           },
           "zeroline": false,
           "zerolinecolor": "rgb(36,36,36)"
          },
          "yaxis": {
           "automargin": true,
           "gridcolor": "rgb(232,232,232)",
           "linecolor": "rgb(36,36,36)",
           "showgrid": false,
           "showline": true,
           "ticks": "outside",
           "title": {
            "standoff": 15
           },
           "zeroline": false,
           "zerolinecolor": "rgb(36,36,36)"
          }
         }
        },
        "title": {
         "text": "US Gun Murders in 2010<br><sub>Number of gun murders vs population, by state and region</sub>",
         "x": 0.5
        },
        "xaxis": {
         "dtick": 1,
         "showgrid": false,
         "tickangle": 0,
         "tickformat": ".f",
         "title": {
          "font": {
           "size": 15
          },
          "standoff": 25,
          "text": "Populations in Millions (log scale)"
         }
        },
        "yaxis": {
         "dtick": 1,
         "range": [
          0,
          3.5
         ],
         "tickangle": -90,
         "tickformat": ".f",
         "title": {
          "font": {
           "size": 15
          },
          "standoff": 25,
          "text": "Total Number of Murders (log scale)"
         }
        }
       }
      },
      "text/html": [
       "<div>                            <div id=\"9918551e-a88b-4057-8933-4b9bfa0390be\" class=\"plotly-graph-div\" style=\"height:525px; width:100%;\"></div>            <script type=\"text/javascript\">                require([\"plotly\"], function(Plotly) {                    window.PLOTLYENV=window.PLOTLYENV || {};                                    if (document.getElementById(\"9918551e-a88b-4057-8933-4b9bfa0390be\")) {                    Plotly.newPlot(                        \"9918551e-a88b-4057-8933-4b9bfa0390be\",                        [{\"marker\":{\"color\":\"#264653\",\"symbol\":\"circle\"},\"mode\":\"markers+text\",\"name\":\"South\",\"text\":[\"AL\",\"AR\",\"DE\",\"DC\",\"FL\",\"GA\",\"KY\",\"LA\",\"MD\",\"MS\",\"NC\",\"OK\",\"SC\",\"TN\",\"TX\",\"VA\",\"WV\"],\"x\":[6.679403909810966,6.464775306803603,5.9532444163007225,5.7793966120935805,7.2941939462091065,6.9965116721541785,6.637426381941765,6.656421357911221,6.761443081679043,6.472361017501797,6.9793426962202085,6.574187701375843,6.665145915879582,6.8025072534787565,7.400461329218689,6.9031455731281905,6.26787401307437],\"y\":[2.130333768495006,1.968482948553935,1.5797835966168101,1.99563519459755,2.8254261177678233,2.575187844927661,2.0644579892269186,2.545307116465824,2.4668676203541096,2.0791812460476247,2.456366033129043,2.0453229787866576,2.315970345456918,2.3404441148401185,2.9057958803678687,2.3979400086720375,1.4313637641589874],\"type\":\"scatter\",\"textfont\":{\"size\":8},\"textposition\":\"top left\"},{\"marker\":{\"color\":\"#2a9d8f\",\"symbol\":\"square\"},\"mode\":\"markers+text\",\"name\":\"West\",\"text\":[\"AK\",\"AZ\",\"CA\",\"CO\",\"HI\",\"ID\",\"MT\",\"NV\",\"NM\",\"OR\",\"UT\",\"WA\",\"WY\"],\"x\":[5.851399624365367,6.805637921342915,7.571172397292265,6.70149856146299,6.133635017322562,6.195230267981904,5.995378490188105,6.431452383361124,6.313694100543885,6.58332054078007,6.441519968910396,6.827662581270065,5.750991018851947],\"y\":[1.2787536009528289,2.3654879848909,3.0993352776859577,1.8129133566428555,0.8450980400142568,1.0791812460476249,1.0791812460476249,1.9242792860618816,1.8260748027008264,1.5563025007672873,1.3424226808222062,1.968482948553935,0.6989700043360189],\"type\":\"scatter\",\"textfont\":{\"size\":8},\"textposition\":\"top left\"},{\"marker\":{\"color\":\"#e76f51\",\"symbol\":\"diamond\"},\"mode\":\"markers+text\",\"name\":\"Northeast\",\"text\":[\"CT\",\"ME\",\"MA\",\"NH\",\"NJ\",\"NY\",\"PA\",\"RI\",\"VT\"],\"x\":[6.5531663349612,6.123316116449511,6.816084063559473,6.119410966759285,6.944082443349398,7.2873112375603,7.103885066610666,6.02224974992735,5.796394611890415],\"y\":[1.9867717342662448,1.0413926851582251,2.0718820073061255,0.6989700043360189,2.3909351071033793,2.7134905430939424,2.6599162000698504,1.2041199826559248,0.3010299956639812],\"type\":\"scatter\",\"textfont\":{\"size\":8},\"textposition\":\"top left\"},{\"marker\":{\"color\":\"#f4a261\",\"symbol\":\"x\"},\"mode\":\"markers+text\",\"name\":\"North Central\",\"text\":[\"IL\",\"IN\",\"IA\",\"KS\",\"MI\",\"MN\",\"MO\",\"NE\",\"ND\",\"OH\",\"SD\",\"WI\"],\"x\":[7.108248048997886,6.811829744051188,6.483780511461461,6.4553197336932175,6.994916918350761,6.724597374311416,6.777349019430778,6.261581868812715,5.8277510516844035,7.062074220991647,5.9107204299073945,6.754882159124292],\"y\":[2.561101383649056,2.1522883443830563,1.3222192947339193,1.7993405494535817,2.615950051656401,1.724275869600789,2.506505032404872,1.505149978319906,0.6020599913279624,2.4913616938342726,0.9030899869919435,1.9867717342662448],\"type\":\"scatter\",\"textfont\":{\"size\":8},\"textposition\":\"top left\"},{\"line\":{\"color\":\"#e9c46a\",\"dash\":\"dash\"},\"mode\":\"lines\",\"name\":\"Trendline\",\"x\":[5.900991018851947,5.9163463863109405,5.931701753769933,5.9470571212289265,5.962412488687919,5.9777678561469125,5.993123223605906,6.008478591064899,6.023833958523892,6.039189325982885,6.054544693441878,6.0699000609008715,6.085255428359864,6.100610795818858,6.11596616327785,6.131321530736844,6.146676898195837,6.16203226565483,6.177387633113823,6.192743000572816,6.208098368031809,6.223453735490802,6.238809102949795,6.254164470408789,6.269519837867781,6.284875205326775,6.300230572785768,6.315585940244761,6.330941307703754,6.346296675162747,6.36165204262174,6.377007410080733,6.392362777539726,6.40771814499872,6.423073512457712,6.438428879916706,6.453784247375699,6.469139614834692,6.484494982293685,6.499850349752678,6.515205717211671,6.530561084670664,6.545916452129657,6.561271819588651,6.576627187047643,6.591982554506637,6.607337921965629,6.622693289424623,6.638048656883616,6.653404024342609,6.668759391801602,6.684114759260595,6.699470126719588,6.714825494178582,6.7301808616375745,6.745536229096568,6.7608915965555605,6.776246964014554,6.7916023314735465,6.80695769893254,6.8223130663915335,6.837668433850526,6.8530238013095195,6.868379168768513,6.8837345362275055,6.899089903686499,6.914445271145492,6.929800638604485,6.945156006063478,6.960511373522471,6.9758667409814645,6.991222108440457,7.006577475899451,7.021932843358444,7.037288210817437,7.05264357827643,7.067998945735423,7.083354313194416,7.098709680653409,7.114065048112402,7.129420415571396,7.144775783030388,7.160131150489382,7.175486517948375,7.190841885407368,7.206197252866361,7.221552620325354,7.236907987784347,7.25226335524334,7.267618722702333,7.282974090161327,7.298329457620319,7.313684825079313,7.329040192538306,7.344395559997299,7.359750927456291,7.375106294915285,7.390461662374278,7.405817029833271,7.421172397292264],\"y\":[1.0133040303175083,1.033500773648706,1.053697516979903,1.0738942603111017,1.0940910036422986,1.1142877469734964,1.1344844903046951,1.154681233635892,1.1748779769670907,1.1950747202982877,1.2152714636294855,1.2354682069606842,1.2556649502918802,1.2758616936230798,1.2960584369542758,1.3162551802854736,1.3364519236166732,1.3566486669478692,1.376845410279067,1.3970421536102648,1.4172388969414627,1.4374356402726605,1.4576323836038583,1.477829126935056,1.498025870266254,1.5182226135974517,1.5384193569286495,1.5586161002598473,1.5788128435910451,1.599009586922243,1.6192063302534407,1.6394030735846385,1.6595998169158364,1.6797965602470342,1.699993303578232,1.7201900469094298,1.7403867902406276,1.7605835335718254,1.7807802769030232,1.8009770202342192,1.8211737635654188,1.8413705068966149,1.8615672502278127,1.8817639935590122,1.9019607368902083,1.9221574802214079,1.942354223552604,1.9625509668838017,1.9827477102150013,2.0029444535461973,2.023141196877395,2.043337940208593,2.0635346835397907,2.0837314268709886,2.1039281702021864,2.124124913533384,2.144321656864582,2.16451840019578,2.1847151435269776,2.2049118868581754,2.225108630189373,2.245305373520571,2.265502116851769,2.2856988601829666,2.3058956035141644,2.3260923468453623,2.3462890901765583,2.366485833507758,2.386682576838954,2.4068793201701535,2.4270760635013513,2.4472728068325473,2.467469550163747,2.4876662934949447,2.5078630368261408,2.5280597801573403,2.5482565234885364,2.568453266819734,2.588650010150932,2.60884675348213,2.6290434968133276,2.6492402401445254,2.6694369834757232,2.689633726806921,2.709830470138119,2.7300272134693166,2.7502239568005145,2.7704207001317123,2.79061744346291,2.810814186794108,2.8310109301253057,2.8512076734565035,2.8714044167877013,2.891601160118899,2.911797903450097,2.931994646781293,2.9521913901124925,2.9723881334436904,2.9925848767748864,3.012781620106086],\"type\":\"scatter\",\"textfont\":{\"size\":8},\"textposition\":\"top left\"}],                        {\"template\":{\"data\":{\"barpolar\":[{\"marker\":{\"line\":{\"color\":\"white\",\"width\":0.5},\"pattern\":{\"fillmode\":\"overlay\",\"size\":10,\"solidity\":0.2}},\"type\":\"barpolar\"}],\"bar\":[{\"error_x\":{\"color\":\"rgb(36,36,36)\"},\"error_y\":{\"color\":\"rgb(36,36,36)\"},\"marker\":{\"line\":{\"color\":\"white\",\"width\":0.5},\"pattern\":{\"fillmode\":\"overlay\",\"size\":10,\"solidity\":0.2}},\"type\":\"bar\"}],\"carpet\":[{\"aaxis\":{\"endlinecolor\":\"rgb(36,36,36)\",\"gridcolor\":\"white\",\"linecolor\":\"white\",\"minorgridcolor\":\"white\",\"startlinecolor\":\"rgb(36,36,36)\"},\"baxis\":{\"endlinecolor\":\"rgb(36,36,36)\",\"gridcolor\":\"white\",\"linecolor\":\"white\",\"minorgridcolor\":\"white\",\"startlinecolor\":\"rgb(36,36,36)\"},\"type\":\"carpet\"}],\"choropleth\":[{\"colorbar\":{\"outlinewidth\":1,\"tickcolor\":\"rgb(36,36,36)\",\"ticks\":\"outside\"},\"type\":\"choropleth\"}],\"contourcarpet\":[{\"colorbar\":{\"outlinewidth\":1,\"tickcolor\":\"rgb(36,36,36)\",\"ticks\":\"outside\"},\"type\":\"contourcarpet\"}],\"contour\":[{\"colorbar\":{\"outlinewidth\":1,\"tickcolor\":\"rgb(36,36,36)\",\"ticks\":\"outside\"},\"colorscale\":[[0.0,\"#440154\"],[0.1111111111111111,\"#482878\"],[0.2222222222222222,\"#3e4989\"],[0.3333333333333333,\"#31688e\"],[0.4444444444444444,\"#26828e\"],[0.5555555555555556,\"#1f9e89\"],[0.6666666666666666,\"#35b779\"],[0.7777777777777778,\"#6ece58\"],[0.8888888888888888,\"#b5de2b\"],[1.0,\"#fde725\"]],\"type\":\"contour\"}],\"heatmapgl\":[{\"colorbar\":{\"outlinewidth\":1,\"tickcolor\":\"rgb(36,36,36)\",\"ticks\":\"outside\"},\"colorscale\":[[0.0,\"#440154\"],[0.1111111111111111,\"#482878\"],[0.2222222222222222,\"#3e4989\"],[0.3333333333333333,\"#31688e\"],[0.4444444444444444,\"#26828e\"],[0.5555555555555556,\"#1f9e89\"],[0.6666666666666666,\"#35b779\"],[0.7777777777777778,\"#6ece58\"],[0.8888888888888888,\"#b5de2b\"],[1.0,\"#fde725\"]],\"type\":\"heatmapgl\"}],\"heatmap\":[{\"colorbar\":{\"outlinewidth\":1,\"tickcolor\":\"rgb(36,36,36)\",\"ticks\":\"outside\"},\"colorscale\":[[0.0,\"#440154\"],[0.1111111111111111,\"#482878\"],[0.2222222222222222,\"#3e4989\"],[0.3333333333333333,\"#31688e\"],[0.4444444444444444,\"#26828e\"],[0.5555555555555556,\"#1f9e89\"],[0.6666666666666666,\"#35b779\"],[0.7777777777777778,\"#6ece58\"],[0.8888888888888888,\"#b5de2b\"],[1.0,\"#fde725\"]],\"type\":\"heatmap\"}],\"histogram2dcontour\":[{\"colorbar\":{\"outlinewidth\":1,\"tickcolor\":\"rgb(36,36,36)\",\"ticks\":\"outside\"},\"colorscale\":[[0.0,\"#440154\"],[0.1111111111111111,\"#482878\"],[0.2222222222222222,\"#3e4989\"],[0.3333333333333333,\"#31688e\"],[0.4444444444444444,\"#26828e\"],[0.5555555555555556,\"#1f9e89\"],[0.6666666666666666,\"#35b779\"],[0.7777777777777778,\"#6ece58\"],[0.8888888888888888,\"#b5de2b\"],[1.0,\"#fde725\"]],\"type\":\"histogram2dcontour\"}],\"histogram2d\":[{\"colorbar\":{\"outlinewidth\":1,\"tickcolor\":\"rgb(36,36,36)\",\"ticks\":\"outside\"},\"colorscale\":[[0.0,\"#440154\"],[0.1111111111111111,\"#482878\"],[0.2222222222222222,\"#3e4989\"],[0.3333333333333333,\"#31688e\"],[0.4444444444444444,\"#26828e\"],[0.5555555555555556,\"#1f9e89\"],[0.6666666666666666,\"#35b779\"],[0.7777777777777778,\"#6ece58\"],[0.8888888888888888,\"#b5de2b\"],[1.0,\"#fde725\"]],\"type\":\"histogram2d\"}],\"histogram\":[{\"marker\":{\"line\":{\"color\":\"white\",\"width\":0.6}},\"type\":\"histogram\"}],\"mesh3d\":[{\"colorbar\":{\"outlinewidth\":1,\"tickcolor\":\"rgb(36,36,36)\",\"ticks\":\"outside\"},\"type\":\"mesh3d\"}],\"parcoords\":[{\"line\":{\"colorbar\":{\"outlinewidth\":1,\"tickcolor\":\"rgb(36,36,36)\",\"ticks\":\"outside\"}},\"type\":\"parcoords\"}],\"pie\":[{\"automargin\":true,\"type\":\"pie\"}],\"scatter3d\":[{\"line\":{\"colorbar\":{\"outlinewidth\":1,\"tickcolor\":\"rgb(36,36,36)\",\"ticks\":\"outside\"}},\"marker\":{\"colorbar\":{\"outlinewidth\":1,\"tickcolor\":\"rgb(36,36,36)\",\"ticks\":\"outside\"}},\"type\":\"scatter3d\"}],\"scattercarpet\":[{\"marker\":{\"colorbar\":{\"outlinewidth\":1,\"tickcolor\":\"rgb(36,36,36)\",\"ticks\":\"outside\"}},\"type\":\"scattercarpet\"}],\"scattergeo\":[{\"marker\":{\"colorbar\":{\"outlinewidth\":1,\"tickcolor\":\"rgb(36,36,36)\",\"ticks\":\"outside\"}},\"type\":\"scattergeo\"}],\"scattergl\":[{\"marker\":{\"colorbar\":{\"outlinewidth\":1,\"tickcolor\":\"rgb(36,36,36)\",\"ticks\":\"outside\"}},\"type\":\"scattergl\"}],\"scattermapbox\":[{\"marker\":{\"colorbar\":{\"outlinewidth\":1,\"tickcolor\":\"rgb(36,36,36)\",\"ticks\":\"outside\"}},\"type\":\"scattermapbox\"}],\"scatterpolargl\":[{\"marker\":{\"colorbar\":{\"outlinewidth\":1,\"tickcolor\":\"rgb(36,36,36)\",\"ticks\":\"outside\"}},\"type\":\"scatterpolargl\"}],\"scatterpolar\":[{\"marker\":{\"colorbar\":{\"outlinewidth\":1,\"tickcolor\":\"rgb(36,36,36)\",\"ticks\":\"outside\"}},\"type\":\"scatterpolar\"}],\"scatter\":[{\"fillpattern\":{\"fillmode\":\"overlay\",\"size\":10,\"solidity\":0.2},\"type\":\"scatter\"}],\"scatterternary\":[{\"marker\":{\"colorbar\":{\"outlinewidth\":1,\"tickcolor\":\"rgb(36,36,36)\",\"ticks\":\"outside\"}},\"type\":\"scatterternary\"}],\"surface\":[{\"colorbar\":{\"outlinewidth\":1,\"tickcolor\":\"rgb(36,36,36)\",\"ticks\":\"outside\"},\"colorscale\":[[0.0,\"#440154\"],[0.1111111111111111,\"#482878\"],[0.2222222222222222,\"#3e4989\"],[0.3333333333333333,\"#31688e\"],[0.4444444444444444,\"#26828e\"],[0.5555555555555556,\"#1f9e89\"],[0.6666666666666666,\"#35b779\"],[0.7777777777777778,\"#6ece58\"],[0.8888888888888888,\"#b5de2b\"],[1.0,\"#fde725\"]],\"type\":\"surface\"}],\"table\":[{\"cells\":{\"fill\":{\"color\":\"rgb(237,237,237)\"},\"line\":{\"color\":\"white\"}},\"header\":{\"fill\":{\"color\":\"rgb(217,217,217)\"},\"line\":{\"color\":\"white\"}},\"type\":\"table\"}]},\"layout\":{\"annotationdefaults\":{\"arrowhead\":0,\"arrowwidth\":1},\"autotypenumbers\":\"strict\",\"coloraxis\":{\"colorbar\":{\"outlinewidth\":1,\"tickcolor\":\"rgb(36,36,36)\",\"ticks\":\"outside\"}},\"colorscale\":{\"diverging\":[[0.0,\"rgb(103,0,31)\"],[0.1,\"rgb(178,24,43)\"],[0.2,\"rgb(214,96,77)\"],[0.3,\"rgb(244,165,130)\"],[0.4,\"rgb(253,219,199)\"],[0.5,\"rgb(247,247,247)\"],[0.6,\"rgb(209,229,240)\"],[0.7,\"rgb(146,197,222)\"],[0.8,\"rgb(67,147,195)\"],[0.9,\"rgb(33,102,172)\"],[1.0,\"rgb(5,48,97)\"]],\"sequential\":[[0.0,\"#440154\"],[0.1111111111111111,\"#482878\"],[0.2222222222222222,\"#3e4989\"],[0.3333333333333333,\"#31688e\"],[0.4444444444444444,\"#26828e\"],[0.5555555555555556,\"#1f9e89\"],[0.6666666666666666,\"#35b779\"],[0.7777777777777778,\"#6ece58\"],[0.8888888888888888,\"#b5de2b\"],[1.0,\"#fde725\"]],\"sequentialminus\":[[0.0,\"#440154\"],[0.1111111111111111,\"#482878\"],[0.2222222222222222,\"#3e4989\"],[0.3333333333333333,\"#31688e\"],[0.4444444444444444,\"#26828e\"],[0.5555555555555556,\"#1f9e89\"],[0.6666666666666666,\"#35b779\"],[0.7777777777777778,\"#6ece58\"],[0.8888888888888888,\"#b5de2b\"],[1.0,\"#fde725\"]]},\"colorway\":[\"#1F77B4\",\"#FF7F0E\",\"#2CA02C\",\"#D62728\",\"#9467BD\",\"#8C564B\",\"#E377C2\",\"#7F7F7F\",\"#BCBD22\",\"#17BECF\"],\"font\":{\"color\":\"rgb(36,36,36)\"},\"geo\":{\"bgcolor\":\"white\",\"lakecolor\":\"white\",\"landcolor\":\"white\",\"showlakes\":true,\"showland\":true,\"subunitcolor\":\"white\"},\"hoverlabel\":{\"align\":\"left\"},\"hovermode\":\"closest\",\"mapbox\":{\"style\":\"light\"},\"paper_bgcolor\":\"white\",\"plot_bgcolor\":\"white\",\"polar\":{\"angularaxis\":{\"gridcolor\":\"rgb(232,232,232)\",\"linecolor\":\"rgb(36,36,36)\",\"showgrid\":false,\"showline\":true,\"ticks\":\"outside\"},\"bgcolor\":\"white\",\"radialaxis\":{\"gridcolor\":\"rgb(232,232,232)\",\"linecolor\":\"rgb(36,36,36)\",\"showgrid\":false,\"showline\":true,\"ticks\":\"outside\"}},\"scene\":{\"xaxis\":{\"backgroundcolor\":\"white\",\"gridcolor\":\"rgb(232,232,232)\",\"gridwidth\":2,\"linecolor\":\"rgb(36,36,36)\",\"showbackground\":true,\"showgrid\":false,\"showline\":true,\"ticks\":\"outside\",\"zeroline\":false,\"zerolinecolor\":\"rgb(36,36,36)\"},\"yaxis\":{\"backgroundcolor\":\"white\",\"gridcolor\":\"rgb(232,232,232)\",\"gridwidth\":2,\"linecolor\":\"rgb(36,36,36)\",\"showbackground\":true,\"showgrid\":false,\"showline\":true,\"ticks\":\"outside\",\"zeroline\":false,\"zerolinecolor\":\"rgb(36,36,36)\"},\"zaxis\":{\"backgroundcolor\":\"white\",\"gridcolor\":\"rgb(232,232,232)\",\"gridwidth\":2,\"linecolor\":\"rgb(36,36,36)\",\"showbackground\":true,\"showgrid\":false,\"showline\":true,\"ticks\":\"outside\",\"zeroline\":false,\"zerolinecolor\":\"rgb(36,36,36)\"}},\"shapedefaults\":{\"fillcolor\":\"black\",\"line\":{\"width\":0},\"opacity\":0.3},\"ternary\":{\"aaxis\":{\"gridcolor\":\"rgb(232,232,232)\",\"linecolor\":\"rgb(36,36,36)\",\"showgrid\":false,\"showline\":true,\"ticks\":\"outside\"},\"baxis\":{\"gridcolor\":\"rgb(232,232,232)\",\"linecolor\":\"rgb(36,36,36)\",\"showgrid\":false,\"showline\":true,\"ticks\":\"outside\"},\"bgcolor\":\"white\",\"caxis\":{\"gridcolor\":\"rgb(232,232,232)\",\"linecolor\":\"rgb(36,36,36)\",\"showgrid\":false,\"showline\":true,\"ticks\":\"outside\"}},\"title\":{\"x\":0.05},\"xaxis\":{\"automargin\":true,\"gridcolor\":\"rgb(232,232,232)\",\"linecolor\":\"rgb(36,36,36)\",\"showgrid\":false,\"showline\":true,\"ticks\":\"outside\",\"title\":{\"standoff\":15},\"zeroline\":false,\"zerolinecolor\":\"rgb(36,36,36)\"},\"yaxis\":{\"automargin\":true,\"gridcolor\":\"rgb(232,232,232)\",\"linecolor\":\"rgb(36,36,36)\",\"showgrid\":false,\"showline\":true,\"ticks\":\"outside\",\"title\":{\"standoff\":15},\"zeroline\":false,\"zerolinecolor\":\"rgb(36,36,36)\"}}},\"annotations\":[{\"font\":{\"color\":\"#ef233c\"},\"showarrow\":false,\"text\":\"Outlying value\",\"x\":5.7793966120935805,\"y\":1.99563519459755,\"yshift\":40}],\"shapes\":[{\"line\":{\"color\":\"#ef233c\"},\"type\":\"circle\",\"x0\":5.70939661209358,\"x1\":5.849396612093581,\"xref\":\"x\",\"y0\":1.74563519459755,\"y1\":2.2456351945975497,\"yref\":\"y\"}],\"title\":{\"text\":\"US Gun Murders in 2010\\u003cbr\\u003e\\u003csub\\u003eNumber of gun murders vs population, by state and region\\u003c\\u002fsub\\u003e\",\"x\":0.5},\"legend\":{\"title\":{\"text\":\"\"},\"orientation\":\"h\",\"x\":0.2,\"y\":1.05},\"yaxis\":{\"range\":[0,3.5],\"title\":{\"font\":{\"size\":15},\"text\":\"Total Number of Murders (log scale)\",\"standoff\":25},\"tickangle\":-90,\"dtick\":1,\"tickformat\":\".f\"},\"xaxis\":{\"title\":{\"font\":{\"size\":15},\"text\":\"Populations in Millions (log scale)\",\"standoff\":25},\"tickangle\":0,\"dtick\":1,\"showgrid\":false,\"tickformat\":\".f\"}},                        {\"responsive\": true}                    ).then(function(){\n",
       "                            \n",
       "var gd = document.getElementById('9918551e-a88b-4057-8933-4b9bfa0390be');\n",
       "var x = new MutationObserver(function (mutations, observer) {{\n",
       "        var display = window.getComputedStyle(gd).display;\n",
       "        if (!display || display === 'none') {{\n",
       "            console.log([gd, 'removed!']);\n",
       "            Plotly.purge(gd);\n",
       "            observer.disconnect();\n",
       "        }}\n",
       "}});\n",
       "\n",
       "// Listen for the removal of the full notebook cells\n",
       "var notebookContainer = gd.closest('#notebook-container');\n",
       "if (notebookContainer) {{\n",
       "    x.observe(notebookContainer, {childList: true});\n",
       "}}\n",
       "\n",
       "// Listen for the clearing of the current output cell\n",
       "var outputEl = gd.closest('.output');\n",
       "if (outputEl) {{\n",
       "    x.observe(outputEl, {childList: true});\n",
       "}}\n",
       "\n",
       "                        })                };                });            </script>        </div>"
      ]
     },
     "metadata": {},
     "output_type": "display_data"
    }
   ],
   "source": [
    "import plotly.graph_objects as go\n",
    "\n",
    "fig = go.Figure()\n",
    "\n",
    "for region, color, symbol in zip(murders['region'].unique(), \n",
    "                         [\"#264653\", \"#2a9d8f\", \"#e76f51\", \"#f4a261\"],\n",
    "                         ['circle', 'square', 'diamond', 'x']):\n",
    "    region_df = murders[murders['region'] == region]\n",
    "    fig.add_trace(go.Scatter(\n",
    "        x=region_df['log_population'],\n",
    "        y=region_df['log_total'],\n",
    "        text=region_df['abb'],\n",
    "        mode='markers+text',\n",
    "        marker=dict(color=color),\n",
    "        marker_symbol=symbol,\n",
    "        name=region\n",
    "    ))\n",
    "\n",
    "# Add trendline\n",
    "slope, intercept = np.polyfit(murders['log_population'], murders['log_total'], 1)\n",
    "x_range = np.linspace(murders['log_population'].min() + 0.15, murders['log_population'].max() - 0.15, 100)\n",
    "y_range = slope * x_range + intercept\n",
    "fig.add_trace(go.Scatter(\n",
    "    x=x_range,\n",
    "    y=y_range,\n",
    "    mode='lines',\n",
    "    line=dict(color=\"#e9c46a\", dash='dash'),\n",
    "    name=\"Trendline\"\n",
    "))\n",
    "\n",
    "# Add outlier point and circle\n",
    "dc_values = murders[murders.abb == 'DC'].to_dict(orient='records')[0]\n",
    "\n",
    "fig.add_annotation(x=dc_values['log_population'], y=dc_values['log_total'],\n",
    "    text=\"Outlying value\",\n",
    "    showarrow=False,\n",
    "    yshift=40,\n",
    "    font=dict(color='#ef233c')\n",
    ")\n",
    "fig.add_shape(type=\"circle\",\n",
    "    xref=\"x\", yref=\"y\",\n",
    "    x0=dc_values['log_population'] - 0.07, y0=dc_values['log_total'] - 0.25, \n",
    "    x1=dc_values['log_population'] + 0.07, y1=dc_values['log_total'] + 0.25,\n",
    "    line_color=\"#ef233c\"\n",
    ")\n",
    "\n",
    "fig.update_layout(\n",
    "    title={\n",
    "        'text': \"US Gun Murders in 2010<br><sub>Number of gun murders vs population, by state and region</sub>\",\n",
    "        'x': 0.5\n",
    "    },\n",
    "    legend_title=\"\",\n",
    "    legend_orientation=\"h\",\n",
    "    legend_x=0.2,\n",
    "    legend_y=1.05,\n",
    "    template='simple_white',\n",
    "    yaxis_range=[0,3.5]\n",
    ")\n",
    "fig.update_traces(textposition='top left', textfont_size=8)\n",
    "\n",
    "fig.update_xaxes(\n",
    "    tickangle = 0,\n",
    "    dtick=1,\n",
    "    showgrid=False,\n",
    "    tickformat = '.f',\n",
    "    title_text = \"Populations in Millions (log scale)\",\n",
    "    title_font = {\"size\": 15},\n",
    "    title_standoff = 25)\n",
    "fig.update_yaxes(\n",
    "    tickangle = -90,\n",
    "    dtick=1,\n",
    "    tickformat = '.f',\n",
    "    title_text = \"Total Number of Murders (log scale)\",\n",
    "    title_font = {\"size\": 15},\n",
    "    title_standoff = 25)\n",
    "\n",
    "fig.show()\n"
   ]
  },
  {
   "cell_type": "markdown",
   "id": "7d49a345",
   "metadata": {},
   "source": [
    "More flexibility:\n",
    "- Trendline could also be computed using other algorithms\n",
    "- Trendline now not displayed over the entire range of the datapoints\n",
    "- Different symbol marker for each regions\n",
    "- Axes ticks formatted\n",
    "- Axes ticks rotated\n",
    "- Title centralized\n",
    "- Legend horizontal and centered\n",
    "- Tick distance"
   ]
  }
 ],
 "metadata": {
  "kernelspec": {
   "display_name": "Python 3 (ipykernel)",
   "language": "python",
   "name": "python3"
  },
  "language_info": {
   "codemirror_mode": {
    "name": "ipython",
    "version": 3
   },
   "file_extension": ".py",
   "mimetype": "text/x-python",
   "name": "python",
   "nbconvert_exporter": "python",
   "pygments_lexer": "ipython3",
   "version": "3.11.6"
  }
 },
 "nbformat": 4,
 "nbformat_minor": 5
}
