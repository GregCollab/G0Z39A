{
 "cells": [
  {
   "cell_type": "markdown",
   "id": "ec47d60a",
   "metadata": {},
   "source": [
    "# Matplotlib - Exercises\n",
    "Welcome to this notebook on basic visualizations in matplotlib!\n",
    "\n",
    "Matplotlib is a powerful library for creating visualizations in Python. It is widely used for data exploration and analysis, as well as for creating publication-quality graphics. In this notebook, we will cover the basics of creating simple visualizations using matplotlib. The exercises in this notebook are designed to help you build your skills in creating different types of plots, such as line plots, scatter plots, bar plots, and histograms. We will also cover topics such as customizing the appearance of plots, adding titles and labels, and working with multiple subplots. By the end of this notebook, you should have a good understanding of how to use matplotlib to create simple visualizations, and you will be ready to explore more complex plots and visualizations on your own. \n",
    "\n",
    "**Let's get started!**"
   ]
  },
  {
   "cell_type": "markdown",
   "id": "9bff44bc",
   "metadata": {},
   "source": [
    "#### Package imports"
   ]
  },
  {
   "cell_type": "code",
   "execution_count": 1,
   "id": "c52481fa",
   "metadata": {},
   "outputs": [],
   "source": [
    "import matplotlib.pyplot as plt\n",
    "import numpy as np\n",
    "import pandas as pd"
   ]
  },
  {
   "cell_type": "markdown",
   "id": "d8424eee",
   "metadata": {},
   "source": [
    "## Part 1: Time Series Analysis\n",
    "The focus of the first part of this notebook will be time series plots, which are used to show how data changes over time.\n",
    "\n",
    "The dataset used in this part of the notebook is the collapse of the big tech stocks due to the interest rate hikes of the Federal Reserve. This dataset includes daily prices of some of the biggest technology stocks. We will use this dataset to visualize the changes in stock prices over time, and to explore the impact of the Federal Reserve's interest rate hikes on these companies.\n",
    "\n",
    "Through this exercise, you will learn how to create and customize line plots, and how to add titles, labels, and annotations to your visualizations.\n",
    "\n",
    "#### Loading data"
   ]
  },
  {
   "cell_type": "code",
   "execution_count": 2,
   "id": "65e9bda4",
   "metadata": {},
   "outputs": [
    {
     "data": {
      "text/html": [
       "<div>\n",
       "<style scoped>\n",
       "    .dataframe tbody tr th:only-of-type {\n",
       "        vertical-align: middle;\n",
       "    }\n",
       "\n",
       "    .dataframe tbody tr th {\n",
       "        vertical-align: top;\n",
       "    }\n",
       "\n",
       "    .dataframe thead th {\n",
       "        text-align: right;\n",
       "    }\n",
       "</style>\n",
       "<table border=\"1\" class=\"dataframe\">\n",
       "  <thead>\n",
       "    <tr style=\"text-align: right;\">\n",
       "      <th></th>\n",
       "      <th>Date</th>\n",
       "      <th>Open</th>\n",
       "      <th>High</th>\n",
       "      <th>Low</th>\n",
       "      <th>Close</th>\n",
       "      <th>Adj Close</th>\n",
       "      <th>Volume</th>\n",
       "      <th>Ticker</th>\n",
       "    </tr>\n",
       "  </thead>\n",
       "  <tbody>\n",
       "    <tr>\n",
       "      <th>0</th>\n",
       "      <td>2022-01-03</td>\n",
       "      <td>62.900002</td>\n",
       "      <td>63.349998</td>\n",
       "      <td>62.500000</td>\n",
       "      <td>63.160000</td>\n",
       "      <td>60.752422</td>\n",
       "      <td>17184300</td>\n",
       "      <td>CSCO</td>\n",
       "    </tr>\n",
       "    <tr>\n",
       "      <th>1</th>\n",
       "      <td>2022-01-04</td>\n",
       "      <td>62.439999</td>\n",
       "      <td>62.810001</td>\n",
       "      <td>61.110001</td>\n",
       "      <td>61.250000</td>\n",
       "      <td>59.262394</td>\n",
       "      <td>29682500</td>\n",
       "      <td>CSCO</td>\n",
       "    </tr>\n",
       "    <tr>\n",
       "      <th>2</th>\n",
       "      <td>2022-01-05</td>\n",
       "      <td>61.189999</td>\n",
       "      <td>61.639999</td>\n",
       "      <td>60.250000</td>\n",
       "      <td>60.279999</td>\n",
       "      <td>58.323872</td>\n",
       "      <td>30317900</td>\n",
       "      <td>CSCO</td>\n",
       "    </tr>\n",
       "    <tr>\n",
       "      <th>3</th>\n",
       "      <td>2022-01-06</td>\n",
       "      <td>60.000000</td>\n",
       "      <td>61.130001</td>\n",
       "      <td>59.910000</td>\n",
       "      <td>60.919998</td>\n",
       "      <td>58.943100</td>\n",
       "      <td>19616600</td>\n",
       "      <td>CSCO</td>\n",
       "    </tr>\n",
       "    <tr>\n",
       "      <th>4</th>\n",
       "      <td>2022-01-07</td>\n",
       "      <td>60.869999</td>\n",
       "      <td>61.500000</td>\n",
       "      <td>60.669998</td>\n",
       "      <td>61.130001</td>\n",
       "      <td>59.146290</td>\n",
       "      <td>20152400</td>\n",
       "      <td>CSCO</td>\n",
       "    </tr>\n",
       "  </tbody>\n",
       "</table>\n",
       "</div>"
      ],
      "text/plain": [
       "        Date       Open       High        Low      Close  Adj Close    Volume  \\\n",
       "0 2022-01-03  62.900002  63.349998  62.500000  63.160000  60.752422  17184300   \n",
       "1 2022-01-04  62.439999  62.810001  61.110001  61.250000  59.262394  29682500   \n",
       "2 2022-01-05  61.189999  61.639999  60.250000  60.279999  58.323872  30317900   \n",
       "3 2022-01-06  60.000000  61.130001  59.910000  60.919998  58.943100  19616600   \n",
       "4 2022-01-07  60.869999  61.500000  60.669998  61.130001  59.146290  20152400   \n",
       "\n",
       "  Ticker  \n",
       "0   CSCO  \n",
       "1   CSCO  \n",
       "2   CSCO  \n",
       "3   CSCO  \n",
       "4   CSCO  "
      ]
     },
     "execution_count": 2,
     "metadata": {},
     "output_type": "execute_result"
    }
   ],
   "source": [
    "big_tech_returns = pd.read_csv('https://kuleuven-mda.s3.eu-central-1.amazonaws.com/big_tech_returns.csv')\n",
    "fed_hikes = pd.read_csv('https://kuleuven-mda.s3.eu-central-1.amazonaws.com/fed_hikes.csv', sep=';').dropna()\n",
    "\n",
    "big_tech_returns.Date = pd.to_datetime(big_tech_returns.Date)\n",
    "big_tech_returns.head()"
   ]
  },
  {
   "cell_type": "markdown",
   "id": "fef84dcd",
   "metadata": {},
   "source": [
    "**Task 1**: create a separate dataframe consisting of only the stock returns from Microsoft. Do this by subsetting the data based on the value 'MSFT' in the column 'Ticker'. Store the dataframe in a variable named microsoft_returns. Make sure to create a copy of the subsetted dataframe."
   ]
  },
  {
   "cell_type": "code",
   "execution_count": null,
   "id": "efff66ab",
   "metadata": {},
   "outputs": [],
   "source": []
  },
  {
   "cell_type": "markdown",
   "id": "b1fcb906",
   "metadata": {},
   "source": [
    "**Task 2**: create a lineplot of the Adjusted Close 'Adj Close'. The x-axis should be the date. Make the color equal to the following hex code: #457b9d."
   ]
  },
  {
   "cell_type": "code",
   "execution_count": null,
   "id": "1a906246",
   "metadata": {},
   "outputs": [],
   "source": []
  },
  {
   "cell_type": "markdown",
   "id": "76b56a7c",
   "metadata": {},
   "source": [
    "**Task 3**: Give the axes a descriptive name and provide a title to the plot."
   ]
  },
  {
   "cell_type": "code",
   "execution_count": null,
   "id": "05003733",
   "metadata": {},
   "outputs": [],
   "source": []
  },
  {
   "cell_type": "markdown",
   "id": "b02a86b0",
   "metadata": {},
   "source": [
    "**Task 3**: the pandas library is specialized in time series analysis. It is possible to create a matplotlib lineplot directly from a pandas Series. to do this, the data should be equal to the index of the pandas Series. then, the .plot() function can be called on the pandas Series. Generate the same graph using the pandas library directly."
   ]
  },
  {
   "cell_type": "code",
   "execution_count": null,
   "id": "f8f134ac",
   "metadata": {},
   "outputs": [],
   "source": []
  },
  {
   "cell_type": "markdown",
   "id": "b8179ac7",
   "metadata": {},
   "source": [
    "**Task 4**: add red (#e63946) vertical lines to the figure above that indicate when a fed rate hike took place. Make the opacity of the line equal to 0.2, and add a text annotation indicating the size of the rate hike. Anchor the y-value of the text annotation to the maximum close - 10. Color the text annotation red (#e63946), format it such that it is always expressed by two numbers after the comma, and rotate the label 90 degrees."
   ]
  },
  {
   "cell_type": "code",
   "execution_count": null,
   "id": "4fdb7575",
   "metadata": {},
   "outputs": [],
   "source": []
  },
  {
   "cell_type": "markdown",
   "id": "6405ec46",
   "metadata": {},
   "source": [
    "**Task 5**: add a legend to the plot"
   ]
  },
  {
   "cell_type": "code",
   "execution_count": null,
   "id": "2404c697",
   "metadata": {},
   "outputs": [],
   "source": []
  },
  {
   "cell_type": "markdown",
   "id": "dbe24d0e",
   "metadata": {},
   "source": [
    "**Task 6**: make the same plot, but now visualize both the stock returns of Microsoft ('MSFT') and Apple ('AAPL'). Make sure the legend is also updated. The color of the Apple stock returns should be #a8dadc. Rebase the apple stock return such that it has the same starting value as the microsoft stock returns."
   ]
  },
  {
   "cell_type": "code",
   "execution_count": null,
   "id": "bd04fab4",
   "metadata": {},
   "outputs": [],
   "source": []
  },
  {
   "cell_type": "markdown",
   "id": "bedbe2a2",
   "metadata": {},
   "source": [
    "## Part 2: High School Basketball Budgets\n",
    "This dataset provides information on the budget and revenue of high schools associated with basketball in the United States. The data is broken down by gender, with separate columns for male and female athletes. The dataset can be used to explore the relationship between a school's budget and revenue for basketball programs, and to compare the funding of male and female programs. This information can be useful for evaluating the financial viability of high school sports programs, and for identifying areas where funding may be lacking.\n",
    "\n",
    "In this section, we will focus on creating three different types of visualizations: donut charts, boxplots, and scatter plots. These visualizations can be used to represent data in a clear and concise manner, making it easier to understand patterns and trends. The datasets used in this section contains data on high schools and their associated basketball burgets for male and female athletes."
   ]
  },
  {
   "cell_type": "code",
   "execution_count": 3,
   "id": "1275616a",
   "metadata": {},
   "outputs": [
    {
     "data": {
      "text/html": [
       "<div>\n",
       "<style scoped>\n",
       "    .dataframe tbody tr th:only-of-type {\n",
       "        vertical-align: middle;\n",
       "    }\n",
       "\n",
       "    .dataframe tbody tr th {\n",
       "        vertical-align: top;\n",
       "    }\n",
       "\n",
       "    .dataframe thead th {\n",
       "        text-align: right;\n",
       "    }\n",
       "</style>\n",
       "<table border=\"1\" class=\"dataframe\">\n",
       "  <thead>\n",
       "    <tr style=\"text-align: right;\">\n",
       "      <th></th>\n",
       "      <th>index</th>\n",
       "      <th>year</th>\n",
       "      <th>institution_name</th>\n",
       "      <th>state_cd</th>\n",
       "      <th>rev_men</th>\n",
       "      <th>rev_women</th>\n",
       "      <th>exp_men</th>\n",
       "      <th>exp_women</th>\n",
       "      <th>sports</th>\n",
       "    </tr>\n",
       "  </thead>\n",
       "  <tbody>\n",
       "    <tr>\n",
       "      <th>0</th>\n",
       "      <td>70160</td>\n",
       "      <td>2019</td>\n",
       "      <td>Alabama A &amp; M University</td>\n",
       "      <td>AL</td>\n",
       "      <td>1382143.0</td>\n",
       "      <td>1289349.0</td>\n",
       "      <td>1567122.0</td>\n",
       "      <td>1387755.0</td>\n",
       "      <td>Basketball</td>\n",
       "    </tr>\n",
       "    <tr>\n",
       "      <th>1</th>\n",
       "      <td>70172</td>\n",
       "      <td>2019</td>\n",
       "      <td>University of Alabama at Birmingham</td>\n",
       "      <td>AL</td>\n",
       "      <td>3705028.0</td>\n",
       "      <td>1925441.0</td>\n",
       "      <td>3705028.0</td>\n",
       "      <td>1925441.0</td>\n",
       "      <td>Basketball</td>\n",
       "    </tr>\n",
       "    <tr>\n",
       "      <th>2</th>\n",
       "      <td>70210</td>\n",
       "      <td>2019</td>\n",
       "      <td>University of Alabama in Huntsville</td>\n",
       "      <td>AL</td>\n",
       "      <td>572018.0</td>\n",
       "      <td>442794.0</td>\n",
       "      <td>572018.0</td>\n",
       "      <td>442794.0</td>\n",
       "      <td>Basketball</td>\n",
       "    </tr>\n",
       "    <tr>\n",
       "      <th>3</th>\n",
       "      <td>70248</td>\n",
       "      <td>2019</td>\n",
       "      <td>Alabama State University</td>\n",
       "      <td>AL</td>\n",
       "      <td>966118.0</td>\n",
       "      <td>762216.0</td>\n",
       "      <td>966118.0</td>\n",
       "      <td>762216.0</td>\n",
       "      <td>Basketball</td>\n",
       "    </tr>\n",
       "    <tr>\n",
       "      <th>4</th>\n",
       "      <td>70286</td>\n",
       "      <td>2019</td>\n",
       "      <td>The University of Alabama</td>\n",
       "      <td>AL</td>\n",
       "      <td>14722223.0</td>\n",
       "      <td>1008558.0</td>\n",
       "      <td>9429628.0</td>\n",
       "      <td>3805848.0</td>\n",
       "      <td>Basketball</td>\n",
       "    </tr>\n",
       "  </tbody>\n",
       "</table>\n",
       "</div>"
      ],
      "text/plain": [
       "   index  year                     institution_name state_cd     rev_men  \\\n",
       "0  70160  2019             Alabama A & M University       AL   1382143.0   \n",
       "1  70172  2019  University of Alabama at Birmingham       AL   3705028.0   \n",
       "2  70210  2019  University of Alabama in Huntsville       AL    572018.0   \n",
       "3  70248  2019             Alabama State University       AL    966118.0   \n",
       "4  70286  2019            The University of Alabama       AL  14722223.0   \n",
       "\n",
       "   rev_women    exp_men  exp_women      sports  \n",
       "0  1289349.0  1567122.0  1387755.0  Basketball  \n",
       "1  1925441.0  3705028.0  1925441.0  Basketball  \n",
       "2   442794.0   572018.0   442794.0  Basketball  \n",
       "3   762216.0   966118.0   762216.0  Basketball  \n",
       "4  1008558.0  9429628.0  3805848.0  Basketball  "
      ]
     },
     "execution_count": 3,
     "metadata": {},
     "output_type": "execute_result"
    }
   ],
   "source": [
    "basketball_budgets = pd.read_csv('https://kuleuven-mda.s3.eu-central-1.amazonaws.com/basketball_budgets.csv')\n",
    "basketball_budgets.head()"
   ]
  },
  {
   "cell_type": "markdown",
   "id": "1b1ef551",
   "metadata": {},
   "source": [
    "**Task 1**: create a scatter plot that compares the log expenses of men basketball teams to the log expenses of women basketball teams (exp_women). You can use the default matplotlib color. Set the size of the markers equal to 2 and the opacity equal to 0.2. Don't forget the labels and title."
   ]
  },
  {
   "cell_type": "code",
   "execution_count": null,
   "id": "0ccbfe39",
   "metadata": {},
   "outputs": [],
   "source": []
  },
  {
   "cell_type": "markdown",
   "id": "0e025bee",
   "metadata": {},
   "source": [
    "**Task 2**: create a pie chart for the 'Columbus State Community College' that shows the budgets for men and women. Make sure that text annotations are also added in the slices of the pie chart that indicate the percentage."
   ]
  },
  {
   "cell_type": "code",
   "execution_count": null,
   "id": "3604ac4e",
   "metadata": {},
   "outputs": [],
   "source": []
  },
  {
   "cell_type": "markdown",
   "id": "1917e941",
   "metadata": {},
   "source": [
    "**Task 3**: Create a boxplot comparing the logarithmic basketball budgets for men and women."
   ]
  },
  {
   "cell_type": "code",
   "execution_count": null,
   "id": "b3fabc0a",
   "metadata": {},
   "outputs": [],
   "source": []
  }
 ],
 "metadata": {
  "kernelspec": {
   "display_name": "Python 3 (ipykernel)",
   "language": "python",
   "name": "python3"
  },
  "language_info": {
   "codemirror_mode": {
    "name": "ipython",
    "version": 3
   },
   "file_extension": ".py",
   "mimetype": "text/x-python",
   "name": "python",
   "nbconvert_exporter": "python",
   "pygments_lexer": "ipython3",
   "version": "3.9.12"
  }
 },
 "nbformat": 4,
 "nbformat_minor": 5
}
