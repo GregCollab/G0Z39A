{
 "cells": [
  {
   "cell_type": "markdown",
   "id": "5b5f2fce",
   "metadata": {},
   "source": [
    "# Views vs Copies\n",
    "The concept of views and copies is important to prevent bugs that are difficult to identify and solve in Pandas. The package Pandas, which is the main focus in the course, is built on top of the package Numpy. Therefore, we first explore the copy vs view behavior of Numpy.\n",
    "\n",
    "#### Views in Numpy"
   ]
  },
  {
   "cell_type": "code",
   "execution_count": 1,
   "id": "2ee286ca",
   "metadata": {},
   "outputs": [],
   "source": [
    "import numpy as np"
   ]
  },
  {
   "cell_type": "markdown",
   "id": "cbb9e81d",
   "metadata": {},
   "source": [
    "First, we create a one dimensional Numpy Array that will be used for the demonstration. "
   ]
  },
  {
   "cell_type": "code",
   "execution_count": 2,
   "id": "1eac0279",
   "metadata": {},
   "outputs": [],
   "source": [
    "vector = np.array([1, 2, 3, 4, 5])\n",
    "type(vector)"
   ]
  },
  {
   "cell_type": "markdown",
   "id": "18889c34",
   "metadata": {},
   "source": [
    "Like mentioned during the lecture, the numpy array has a certain data buffer. To see the data buffer of a numpy array, you can use the *base* property:"
   ]
  },
  {
   "cell_type": "code",
   "execution_count": 3,
   "id": "9c29c165",
   "metadata": {},
   "outputs": [],
   "source": [
    "vector.base"
   ]
  },
  {
   "cell_type": "markdown",
   "id": "25614e60",
   "metadata": {},
   "source": [
    "The base property returns None when the vector does not have a base vector from which it uses the data buffer. However, the moment we create a view of the initial array, the base vector returns the data buffer of the base:"
   ]
  },
  {
   "cell_type": "code",
   "execution_count": 4,
   "id": "e3e6a5a1",
   "metadata": {},
   "outputs": [],
   "source": [
    "view = vector.view()\n",
    "view.base"
   ]
  },
  {
   "cell_type": "markdown",
   "id": "b68ea93f",
   "metadata": {},
   "source": [
    "Since this is a view, if we modify the data (buffer) of the view, this will also change the value of the *vector* array since they share the same buffer."
   ]
  },
  {
   "cell_type": "code",
   "execution_count": 5,
   "id": "f4610c66",
   "metadata": {},
   "outputs": [],
   "source": [
    "view[0] = 100\n",
    "print(view)\n",
    "print(vector)"
   ]
  },
  {
   "cell_type": "markdown",
   "id": "69a5aadd",
   "metadata": {},
   "source": [
    "Likewise, if we change the original vector, we also change the view:"
   ]
  },
  {
   "cell_type": "markdown",
   "id": "e03f1d56",
   "metadata": {},
   "source": [
    "vector[0] = 1\n",
    "print(view)\n",
    "print(vector)"
   ]
  },
  {
   "cell_type": "markdown",
   "id": "4d11303e",
   "metadata": {},
   "source": [
    "#### Copies in Numpy\n",
    "Alternatively, we can copy the data instead of creating a view. In that case, both the metadata, and the data buffer are copied to a new object:"
   ]
  },
  {
   "cell_type": "code",
   "execution_count": 6,
   "id": "c672ee3e",
   "metadata": {},
   "outputs": [],
   "source": [
    "copy = vector.copy()\n",
    "copy.base"
   ]
  },
  {
   "cell_type": "markdown",
   "id": "8eef24e2",
   "metadata": {},
   "source": [
    "As you can see, the copy does not have a base. This is because it is an entirely new object! If we now change a value in the copy, this will not impact the vector:"
   ]
  },
  {
   "cell_type": "code",
   "execution_count": 7,
   "id": "233cac97",
   "metadata": {},
   "outputs": [],
   "source": [
    "copy[0] = 100\n",
    "print(copy)\n",
    "print(vector)"
   ]
  },
  {
   "cell_type": "markdown",
   "id": "f8a01e55",
   "metadata": {},
   "source": [
    "#### Why important?\n",
    "Wgen doing data manipulation, you will typically use Numpy functions. Because of memory optimization, these functions try to use views as much as possible; however, sometimes it is not possible to use views and the function will use copies instead. Not realizing that you are working on a copy of the data instead of a view can introduce some nasty bugs!"
   ]
  },
  {
   "cell_type": "code",
   "execution_count": 8,
   "id": "bf555217",
   "metadata": {},
   "outputs": [],
   "source": [
    "time_series = np.array([100.10, 105.78, 98.54, 10098, 102.83, 105.98, 101.26])"
   ]
  },
  {
   "cell_type": "markdown",
   "id": "e0307f6e",
   "metadata": {},
   "source": [
    "We work with the time series above. In a first step, we are going to filter the data to include only values that are greater than 100:"
   ]
  },
  {
   "cell_type": "code",
   "execution_count": 9,
   "id": "64d1ee9b",
   "metadata": {},
   "outputs": [],
   "source": [
    "greater_100 = time_series[time_series > 100]\n",
    "greater_100"
   ]
  },
  {
   "cell_type": "markdown",
   "id": "a41c5ad9",
   "metadata": {},
   "source": [
    "By doing this, we realize that we have an outlying value that seems to be a mistake in data input. We quickly solve this:"
   ]
  },
  {
   "cell_type": "code",
   "execution_count": 10,
   "id": "9ae5682a",
   "metadata": {},
   "outputs": [],
   "source": [
    "time_series[3] = time_series[3]/100\n",
    "time_series"
   ]
  },
  {
   "cell_type": "markdown",
   "id": "6d9ddf9f",
   "metadata": {},
   "source": [
    "Now, everything looks fine and we will continue with computing the average for all values greater than 100:"
   ]
  },
  {
   "cell_type": "code",
   "execution_count": 11,
   "id": "1cf60933",
   "metadata": {},
   "outputs": [],
   "source": [
    "np.mean(greater_100)"
   ]
  },
  {
   "cell_type": "markdown",
   "id": "bc1d2219",
   "metadata": {},
   "source": [
    "**What happened?** I assumed that the data filtering returned a view, but it returned a copy! The fix I did on the time series array did not result in a fix in the greater_100 array."
   ]
  },
  {
   "cell_type": "code",
   "execution_count": 12,
   "id": "11b0000b",
   "metadata": {},
   "outputs": [],
   "source": [
    "greater_100.base"
   ]
  },
  {
   "cell_type": "markdown",
   "id": "6e8ec3cb",
   "metadata": {},
   "source": [
    "##### Example 2\n",
    "Let's say we now want to take the average of the first 5 values of the array; however, these are represented in euros and we want to represent the average in cents. Therefore, we first filter the array based on the index:"
   ]
  },
  {
   "cell_type": "code",
   "execution_count": 13,
   "id": "43803248",
   "metadata": {},
   "outputs": [],
   "source": [
    "first_5 = time_series[:5]\n",
    "first_5"
   ]
  },
  {
   "cell_type": "markdown",
   "id": "82546feb",
   "metadata": {},
   "source": [
    "Now that we obtained the filtered array, we multiple each value by 100:"
   ]
  },
  {
   "cell_type": "code",
   "execution_count": 14,
   "id": "93f13be0",
   "metadata": {},
   "outputs": [],
   "source": [
    "first_5 *= 100\n",
    "first_5"
   ]
  },
  {
   "cell_type": "markdown",
   "id": "b84a3fdf",
   "metadata": {},
   "source": [
    "Next, we compute the mean:"
   ]
  },
  {
   "cell_type": "code",
   "execution_count": 15,
   "id": "fa09f93b",
   "metadata": {},
   "outputs": [],
   "source": [
    "np.mean(first_5)"
   ]
  },
  {
   "cell_type": "markdown",
   "id": "684f803c",
   "metadata": {},
   "source": [
    "Now, we continue the project with the original array. But if we are not careful, then we do not notice that the original array now looks like this:"
   ]
  },
  {
   "cell_type": "code",
   "execution_count": 16,
   "id": "35f455dd",
   "metadata": {},
   "outputs": [],
   "source": [
    "print(time_series)"
   ]
  },
  {
   "cell_type": "markdown",
   "id": "2c79854a",
   "metadata": {},
   "source": [
    "**What happened?** The subset operation returned a view instead of a copy! The same happened when we updated the values of the array by multipying them by 100. "
   ]
  },
  {
   "cell_type": "code",
   "execution_count": 17,
   "id": "8a4f761b",
   "metadata": {},
   "outputs": [],
   "source": [
    "first_5.base"
   ]
  },
  {
   "cell_type": "markdown",
   "id": "2d329081",
   "metadata": {},
   "source": [
    "**Note:** if we used *first_5 = first_5 \\* 100* instead of *first_5 \\*= 100*, then we would not have had this issue because this returns a copy of the array!"
   ]
  },
  {
   "cell_type": "code",
   "execution_count": 18,
   "id": "beaff27d",
   "metadata": {},
   "outputs": [],
   "source": [
    "time_series = np.array([100.10, 105.78, 98.54, 100.98, 102.83, 105.98, 101.26])\n",
    "first_5 = time_series[:5]\n",
    "first_5 = first_5 * 100 \n",
    "print(first_5)\n",
    "print(time_series)"
   ]
  },
  {
   "cell_type": "code",
   "execution_count": 19,
   "id": "72776b9d",
   "metadata": {},
   "outputs": [],
   "source": [
    "first_5.base"
   ]
  },
  {
   "cell_type": "markdown",
   "id": "3d558319",
   "metadata": {},
   "source": [
    "## Pandas\n",
    "Now, let's move on to pandas."
   ]
  },
  {
   "cell_type": "code",
   "execution_count": 20,
   "id": "a5b1e71b",
   "metadata": {},
   "outputs": [],
   "source": [
    "import pandas as pd"
   ]
  },
  {
   "cell_type": "markdown",
   "id": "d871c6b6",
   "metadata": {},
   "source": [
    "We use the movies database like the other notebook:"
   ]
  },
  {
   "cell_type": "code",
   "execution_count": 21,
   "id": "181d2ecc",
   "metadata": {},
   "outputs": [],
   "source": [
    "movies = pd.read_parquet('https://kuleuven-mda.s3.eu-central-1.amazonaws.com/movies.parquet.gzip')\n",
    "movies.release_date = pd.to_datetime(movies.release_date)\n",
    "movies.id = pd.to_numeric(movies.id)\n",
    "movies.original_language = pd.Categorical(movies.original_language)\n",
    "movies.head()"
   ]
  },
  {
   "cell_type": "markdown",
   "id": "484a81a1",
   "metadata": {},
   "source": [
    "Let's start with subsetting the data. We first select a single column:"
   ]
  },
  {
   "cell_type": "code",
   "execution_count": 22,
   "id": "994b7853",
   "metadata": {},
   "outputs": [],
   "source": [
    "vote_counts = movies.loc[:, \"vote_count\"]\n",
    "vote_counts._is_view"
   ]
  },
  {
   "cell_type": "markdown",
   "id": "f267b0ed",
   "metadata": {},
   "source": [
    "This returns a view of the data. This makes sense because we are doing the operation in a single block so the Numpy operation can return a view without any issues:"
   ]
  },
  {
   "cell_type": "code",
   "execution_count": 23,
   "id": "c48e2809",
   "metadata": {},
   "outputs": [],
   "source": [
    "movies._mgr.blocks"
   ]
  },
  {
   "cell_type": "markdown",
   "id": "ddfcd402",
   "metadata": {},
   "source": [
    "Now, let's filter both rows and columns:"
   ]
  },
  {
   "cell_type": "code",
   "execution_count": 24,
   "id": "1b2efe0d",
   "metadata": {},
   "outputs": [],
   "source": [
    "vote_counts = movies.loc[1:4, \"vote_count\"]\n",
    "vote_counts._is_view"
   ]
  },
  {
   "cell_type": "code",
   "execution_count": 25,
   "id": "3af622c9",
   "metadata": {},
   "outputs": [],
   "source": [
    "mask = (movies.id == 862) | (movies.id == 8884)\n",
    "movies.loc[mask, \"vote_count\"]._is_view"
   ]
  },
  {
   "cell_type": "markdown",
   "id": "6260ffbd",
   "metadata": {},
   "source": [
    "And let's now select multiple columns:"
   ]
  },
  {
   "cell_type": "code",
   "execution_count": 26,
   "id": "1bcdfcbe",
   "metadata": {},
   "outputs": [],
   "source": [
    "movies.loc[:, ['vote_count', 'vote_average']]._is_view"
   ]
  }
 ],
 "metadata": {
  "kernelspec": {
   "display_name": "MDA 2024",
   "language": "python",
   "name": ".env"
  },
  "language_info": {
   "codemirror_mode": {
    "name": "ipython",
    "version": 3
   },
   "file_extension": ".py",
   "mimetype": "text/x-python",
   "name": "python",
   "nbconvert_exporter": "python",
   "pygments_lexer": "ipython3",
   "version": "3.9.18"
  }
 },
 "nbformat": 4,
 "nbformat_minor": 5
}
