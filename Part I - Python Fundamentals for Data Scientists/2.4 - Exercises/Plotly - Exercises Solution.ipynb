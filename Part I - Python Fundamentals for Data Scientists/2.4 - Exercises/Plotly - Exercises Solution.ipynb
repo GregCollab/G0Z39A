{
 "cells": [
  {
   "cell_type": "markdown",
   "id": "f0c555a6",
   "metadata": {},
   "source": [
    "# Plotly - Exercises\n",
    "Welcome to this notebook on the Plotly library! In this notebook, we will be exploring the Plotly library for data visualization, which is an interactive, web-based plotting library for Python. It allows users to create beautiful, interactive visualizations that can be easily shared and published to the web.\n",
    "\n",
    "Through a series of exercises, we will cover the basics of creating different types of plots using Plotly. The exercises will cover various topics such as time series, scatter plots, bar charts, heatmaps, and more. We will use real-world datasets to create interactive visualizations and explore the various customization options available in Plotly.\n",
    "\n",
    "Whether you are a beginner or an experienced data scientist, this notebook will provide you with the knowledge and skills needed to create engaging and informative visualizations using Plotly. \n",
    "\n",
    "**So let's get started!**\n",
    "\n",
    "#### Package imports"
   ]
  },
  {
   "cell_type": "code",
   "execution_count": 1,
   "id": "bee7b7be",
   "metadata": {},
   "outputs": [],
   "source": [
    "import numpy as np\n",
    "import pandas as pd\n",
    "import plotly.graph_objects as go\n",
    "from plotly.subplots import make_subplots\n",
    "\n",
    "from sklearn.compose import ColumnTransformer\n",
    "from sklearn.pipeline import Pipeline\n",
    "from sklearn.decomposition import PCA\n",
    "from sklearn.impute import SimpleImputer, KNNImputer\n",
    "from sklearn.preprocessing import RobustScaler, OneHotEncoder\n",
    "from sklearn.ensemble import RandomForestClassifier\n",
    "from sklearn.model_selection import train_test_split\n",
    "from sklearn.metrics import confusion_matrix\n",
    "from sklearn.neighbors import KNeighborsClassifier"
   ]
  },
  {
   "cell_type": "markdown",
   "id": "566b31b0",
   "metadata": {},
   "source": [
    "## Part 1: Machine Learning and AI Visualizations\n",
    "In this notebook, we will focus on building visualizations commonly used in machine learning. Specifically, we will work on creating a confusion matrix, and a K-Nearest neighbors visualization. These visualizations are important for understanding the performance of machine learning models and for interpreting the results of the models. By the end of this notebook, you will have gained experience creating different types of charts and will be able to use these visualizations to evaluate and improve their own machine learning models.\n",
    "\n",
    "### 1.1: Constructing a confusion matrix\n",
    "In machine learning, a confusion matrix is a table that is used to evaluate the performance of a classification algorithm. The table contains information about actual and predicted classifications of a dataset. It is a way to measure the performance of a classification model by showing the number of correct and incorrect predictions, broken down by each class.\n",
    "\n",
    "A confusion matrix is typically used for binary classification problems, where the output can take one of two possible values (e.g., true or false, positive or negative). The matrix is square and has four cells: true positives (TP), false positives (FP), true negatives (TN), and false negatives (FN).\n",
    "\n",
    "- **True positives (TP)** are the cases where the actual value is positive and the model correctly predicts it as positive.\n",
    "- **False positives (FP)** are the cases where the actual value is negative, but the model incorrectly predicts it as positive.\n",
    "- **True negatives (TN)** are the cases where the actual value is negative, and the model correctly predicts it as negative.\n",
    "- **False negatives (FN)** are the cases where the actual value is positive, but the model incorrectly predicts it as negative.\n",
    "\n",
    "By analyzing the values in the confusion matrix, one can calculate various performance metrics of the classifier such as accuracy, precision, recall, F1 score, and specificity. These metrics help to evaluate how well the model is performing and identify areas where it needs improvement.\n",
    "\n",
    "The **Titanic dataset** is a popular dataset in the field of machine learning. It is a classic example used to demonstrate the application of different machine learning models. The dataset contains information about the passengers who were aboard the ill-fated Titanic when it sank in 1912. The information includes the passenger's age, sex, class, fare, and whether or not they survived the disaster. The dataset has been widely used to train machine learning models to predict whether a passenger survived or not based on the other available information."
   ]
  },
  {
   "cell_type": "code",
   "execution_count": 2,
   "id": "adc14305",
   "metadata": {},
   "outputs": [
    {
     "data": {
      "text/html": [
       "<div>\n",
       "<style scoped>\n",
       "    .dataframe tbody tr th:only-of-type {\n",
       "        vertical-align: middle;\n",
       "    }\n",
       "\n",
       "    .dataframe tbody tr th {\n",
       "        vertical-align: top;\n",
       "    }\n",
       "\n",
       "    .dataframe thead th {\n",
       "        text-align: right;\n",
       "    }\n",
       "</style>\n",
       "<table border=\"1\" class=\"dataframe\">\n",
       "  <thead>\n",
       "    <tr style=\"text-align: right;\">\n",
       "      <th></th>\n",
       "      <th>PassengerId</th>\n",
       "      <th>Pclass</th>\n",
       "      <th>Name</th>\n",
       "      <th>Sex</th>\n",
       "      <th>Age</th>\n",
       "      <th>SibSp</th>\n",
       "      <th>Parch</th>\n",
       "      <th>Ticket</th>\n",
       "      <th>Fare</th>\n",
       "      <th>Cabin</th>\n",
       "      <th>Embarked</th>\n",
       "    </tr>\n",
       "  </thead>\n",
       "  <tbody>\n",
       "    <tr>\n",
       "      <th>6</th>\n",
       "      <td>7</td>\n",
       "      <td>1</td>\n",
       "      <td>McCarthy, Mr. Timothy J</td>\n",
       "      <td>male</td>\n",
       "      <td>54.0</td>\n",
       "      <td>0</td>\n",
       "      <td>0</td>\n",
       "      <td>17463</td>\n",
       "      <td>51.8625</td>\n",
       "      <td>E46</td>\n",
       "      <td>S</td>\n",
       "    </tr>\n",
       "    <tr>\n",
       "      <th>718</th>\n",
       "      <td>719</td>\n",
       "      <td>3</td>\n",
       "      <td>McEvoy, Mr. Michael</td>\n",
       "      <td>male</td>\n",
       "      <td>NaN</td>\n",
       "      <td>0</td>\n",
       "      <td>0</td>\n",
       "      <td>36568</td>\n",
       "      <td>15.5000</td>\n",
       "      <td>NaN</td>\n",
       "      <td>Q</td>\n",
       "    </tr>\n",
       "    <tr>\n",
       "      <th>685</th>\n",
       "      <td>686</td>\n",
       "      <td>2</td>\n",
       "      <td>Laroche, Mr. Joseph Philippe Lemercier</td>\n",
       "      <td>male</td>\n",
       "      <td>25.0</td>\n",
       "      <td>1</td>\n",
       "      <td>2</td>\n",
       "      <td>SC/Paris 2123</td>\n",
       "      <td>41.5792</td>\n",
       "      <td>NaN</td>\n",
       "      <td>C</td>\n",
       "    </tr>\n",
       "    <tr>\n",
       "      <th>73</th>\n",
       "      <td>74</td>\n",
       "      <td>3</td>\n",
       "      <td>Chronopoulos, Mr. Apostolos</td>\n",
       "      <td>male</td>\n",
       "      <td>26.0</td>\n",
       "      <td>1</td>\n",
       "      <td>0</td>\n",
       "      <td>2680</td>\n",
       "      <td>14.4542</td>\n",
       "      <td>NaN</td>\n",
       "      <td>C</td>\n",
       "    </tr>\n",
       "    <tr>\n",
       "      <th>882</th>\n",
       "      <td>883</td>\n",
       "      <td>3</td>\n",
       "      <td>Dahlberg, Miss. Gerda Ulrika</td>\n",
       "      <td>female</td>\n",
       "      <td>22.0</td>\n",
       "      <td>0</td>\n",
       "      <td>0</td>\n",
       "      <td>7552</td>\n",
       "      <td>10.5167</td>\n",
       "      <td>NaN</td>\n",
       "      <td>S</td>\n",
       "    </tr>\n",
       "  </tbody>\n",
       "</table>\n",
       "</div>"
      ],
      "text/plain": [
       "     PassengerId  Pclass                                    Name     Sex  \\\n",
       "6              7       1                 McCarthy, Mr. Timothy J    male   \n",
       "718          719       3                     McEvoy, Mr. Michael    male   \n",
       "685          686       2  Laroche, Mr. Joseph Philippe Lemercier    male   \n",
       "73            74       3             Chronopoulos, Mr. Apostolos    male   \n",
       "882          883       3            Dahlberg, Miss. Gerda Ulrika  female   \n",
       "\n",
       "      Age  SibSp  Parch         Ticket     Fare Cabin Embarked  \n",
       "6    54.0      0      0          17463  51.8625   E46        S  \n",
       "718   NaN      0      0          36568  15.5000   NaN        Q  \n",
       "685  25.0      1      2  SC/Paris 2123  41.5792   NaN        C  \n",
       "73   26.0      1      0           2680  14.4542   NaN        C  \n",
       "882  22.0      0      0           7552  10.5167   NaN        S  "
      ]
     },
     "execution_count": 2,
     "metadata": {},
     "output_type": "execute_result"
    }
   ],
   "source": [
    "titanic = pd.read_csv('https://kuleuven-mda.s3.eu-central-1.amazonaws.com/titanic_train.csv')\n",
    "y = titanic.pop('Survived').values\n",
    "X_train, X_test, y_train, y_test = train_test_split(titanic, y, test_size=0.33, random_state=42)\n",
    "X_train.head()"
   ]
  },
  {
   "cell_type": "markdown",
   "id": "aa95a8f7",
   "metadata": {},
   "source": [
    "The sklearn pipelines will be used to train a basic classifier:"
   ]
  },
  {
   "cell_type": "code",
   "execution_count": 3,
   "id": "ccdd6bcb",
   "metadata": {
    "scrolled": true
   },
   "outputs": [],
   "source": [
    "categorical_cols = ['Embarked', 'Sex', 'Pclass', 'Cabin']\n",
    "categorical_transformer = Pipeline(steps=[\n",
    "    ('imputer', SimpleImputer(strategy='most_frequent')),\n",
    "    ('onehot', OneHotEncoder(handle_unknown='ignore', sparse_output=False)),\n",
    "    ('pca', PCA(n_components=10))\n",
    "])\n",
    "\n",
    "numeric_cols = ['Age', 'Fare', 'SibSp', 'Parch']\n",
    "numeric_transformer = Pipeline(steps=[\n",
    "    ('imputer', KNNImputer(n_neighbors=5)),\n",
    "    ('scaler', RobustScaler())\n",
    "])\n",
    "\n",
    "preprocessor = ColumnTransformer(\n",
    "    transformers=[\n",
    "        ('num', numeric_transformer, numeric_cols),\n",
    "        ('cat', categorical_transformer, categorical_cols)\n",
    "    ])\n",
    "\n",
    "clf = Pipeline(steps=[('preprocessor', preprocessor),\n",
    "                      ('classifier', RandomForestClassifier())])\n",
    "clf.fit(X_train, y_train);"
   ]
  },
  {
   "cell_type": "markdown",
   "id": "9be4a735",
   "metadata": {},
   "source": [
    "We will not do any cross validation etc and just keep the example basic. The fitted model will now be applied to the testing data:"
   ]
  },
  {
   "cell_type": "code",
   "execution_count": 4,
   "id": "1b01e7a6",
   "metadata": {},
   "outputs": [
    {
     "data": {
      "text/html": [
       "<div>\n",
       "<style scoped>\n",
       "    .dataframe tbody tr th:only-of-type {\n",
       "        vertical-align: middle;\n",
       "    }\n",
       "\n",
       "    .dataframe tbody tr th {\n",
       "        vertical-align: top;\n",
       "    }\n",
       "\n",
       "    .dataframe thead th {\n",
       "        text-align: right;\n",
       "    }\n",
       "</style>\n",
       "<table border=\"1\" class=\"dataframe\">\n",
       "  <thead>\n",
       "    <tr style=\"text-align: right;\">\n",
       "      <th></th>\n",
       "      <th>PassengerId</th>\n",
       "      <th>Pclass</th>\n",
       "      <th>Name</th>\n",
       "      <th>Sex</th>\n",
       "      <th>Age</th>\n",
       "      <th>SibSp</th>\n",
       "      <th>Parch</th>\n",
       "      <th>Ticket</th>\n",
       "      <th>Fare</th>\n",
       "      <th>Cabin</th>\n",
       "      <th>Embarked</th>\n",
       "      <th>Prediction</th>\n",
       "      <th>Survived</th>\n",
       "    </tr>\n",
       "  </thead>\n",
       "  <tbody>\n",
       "    <tr>\n",
       "      <th>709</th>\n",
       "      <td>710</td>\n",
       "      <td>3</td>\n",
       "      <td>Moubarek, Master. Halim Gonios (\"William George\")</td>\n",
       "      <td>male</td>\n",
       "      <td>NaN</td>\n",
       "      <td>1</td>\n",
       "      <td>1</td>\n",
       "      <td>2661</td>\n",
       "      <td>15.2458</td>\n",
       "      <td>NaN</td>\n",
       "      <td>C</td>\n",
       "      <td>1</td>\n",
       "      <td>1</td>\n",
       "    </tr>\n",
       "    <tr>\n",
       "      <th>439</th>\n",
       "      <td>440</td>\n",
       "      <td>2</td>\n",
       "      <td>Kvillner, Mr. Johan Henrik Johannesson</td>\n",
       "      <td>male</td>\n",
       "      <td>31.0</td>\n",
       "      <td>0</td>\n",
       "      <td>0</td>\n",
       "      <td>C.A. 18723</td>\n",
       "      <td>10.5000</td>\n",
       "      <td>NaN</td>\n",
       "      <td>S</td>\n",
       "      <td>0</td>\n",
       "      <td>0</td>\n",
       "    </tr>\n",
       "    <tr>\n",
       "      <th>840</th>\n",
       "      <td>841</td>\n",
       "      <td>3</td>\n",
       "      <td>Alhomaki, Mr. Ilmari Rudolf</td>\n",
       "      <td>male</td>\n",
       "      <td>20.0</td>\n",
       "      <td>0</td>\n",
       "      <td>0</td>\n",
       "      <td>SOTON/O2 3101287</td>\n",
       "      <td>7.9250</td>\n",
       "      <td>NaN</td>\n",
       "      <td>S</td>\n",
       "      <td>0</td>\n",
       "      <td>0</td>\n",
       "    </tr>\n",
       "    <tr>\n",
       "      <th>720</th>\n",
       "      <td>721</td>\n",
       "      <td>2</td>\n",
       "      <td>Harper, Miss. Annie Jessie \"Nina\"</td>\n",
       "      <td>female</td>\n",
       "      <td>6.0</td>\n",
       "      <td>0</td>\n",
       "      <td>1</td>\n",
       "      <td>248727</td>\n",
       "      <td>33.0000</td>\n",
       "      <td>NaN</td>\n",
       "      <td>S</td>\n",
       "      <td>1</td>\n",
       "      <td>1</td>\n",
       "    </tr>\n",
       "    <tr>\n",
       "      <th>39</th>\n",
       "      <td>40</td>\n",
       "      <td>3</td>\n",
       "      <td>Nicola-Yarred, Miss. Jamila</td>\n",
       "      <td>female</td>\n",
       "      <td>14.0</td>\n",
       "      <td>1</td>\n",
       "      <td>0</td>\n",
       "      <td>2651</td>\n",
       "      <td>11.2417</td>\n",
       "      <td>NaN</td>\n",
       "      <td>C</td>\n",
       "      <td>0</td>\n",
       "      <td>1</td>\n",
       "    </tr>\n",
       "  </tbody>\n",
       "</table>\n",
       "</div>"
      ],
      "text/plain": [
       "     PassengerId  Pclass                                               Name  \\\n",
       "709          710       3  Moubarek, Master. Halim Gonios (\"William George\")   \n",
       "439          440       2             Kvillner, Mr. Johan Henrik Johannesson   \n",
       "840          841       3                        Alhomaki, Mr. Ilmari Rudolf   \n",
       "720          721       2                  Harper, Miss. Annie Jessie \"Nina\"   \n",
       "39            40       3                        Nicola-Yarred, Miss. Jamila   \n",
       "\n",
       "        Sex   Age  SibSp  Parch            Ticket     Fare Cabin Embarked  \\\n",
       "709    male   NaN      1      1              2661  15.2458   NaN        C   \n",
       "439    male  31.0      0      0        C.A. 18723  10.5000   NaN        S   \n",
       "840    male  20.0      0      0  SOTON/O2 3101287   7.9250   NaN        S   \n",
       "720  female   6.0      0      1            248727  33.0000   NaN        S   \n",
       "39   female  14.0      1      0              2651  11.2417   NaN        C   \n",
       "\n",
       "     Prediction  Survived  \n",
       "709           1         1  \n",
       "439           0         0  \n",
       "840           0         0  \n",
       "720           1         1  \n",
       "39            0         1  "
      ]
     },
     "execution_count": 4,
     "metadata": {},
     "output_type": "execute_result"
    }
   ],
   "source": [
    "X_test.loc[:, 'Prediction'] = clf.predict(X_test)\n",
    "X_test.loc[:, 'Survived'] = y_test\n",
    "X_test.head()"
   ]
  },
  {
   "cell_type": "markdown",
   "id": "faee2d92",
   "metadata": {},
   "source": [
    "**Task 1**: construct a confusion matrix based on the Prediction and Survived labels. Make sure that the colors range from #caf0f8 to #03045e. Hide the legend/color scale, and provide meaningful labels and text annotations.\n",
    "\n",
    "Tip: use the confusion_matrix function from sklearn to obtain the values of the confusion matrix."
   ]
  },
  {
   "cell_type": "code",
   "execution_count": null,
   "id": "e4d21261",
   "metadata": {},
   "outputs": [],
   "source": [
    "cm = confusion_matrix(X_test.Survived, X_test.Prediction)\n",
    "\n",
    "fig = go.Figure(\n",
    "        data=go.Heatmap(\n",
    "            z=cm,\n",
    "            x=['Died', 'Survived'],\n",
    "            y=['Died', 'Survived'],\n",
    "            colorscale=[[0, '#caf0f8'], [1, '#03045e']],\n",
    "            showscale=False,\n",
    "            text=[[f'True Negative<br>{cm[0,0]}', f'False Negative<br>{cm[1,0]}'],\n",
    "                  [f'False Positive<br>{cm[0,1]}', f'True Positive<br>{cm[1,1]}']],\n",
    "            texttemplate=\"%{text}\",\n",
    "            textfont={\"size\":20}\n",
    "            )\n",
    "        )\n",
    "fig.update_layout(\n",
    "    title={\n",
    "        'text': \"Confusion Matrix\",\n",
    "        'x': 0.5\n",
    "    }\n",
    ")\n",
    "\n",
    "fig.update_xaxes(title_text = \"True Label\")\n",
    "fig.update_yaxes(title_text = \"Prediction\",)\n",
    "\n",
    "fig.show()"
   ]
  },
  {
   "cell_type": "markdown",
   "id": "d05c1199",
   "metadata": {},
   "source": [
    "### 1.2: K-Nearest Neighbours Visualization\n",
    "The K-Nearest Neighbors (K-NN) algorithm is a supervised machine learning algorithm that can be used for both classification and regression problems. Given a new data point, the algorithm classifies the data point by finding the K nearest data points in the training data and selecting the majority class among the K nearest neighbors. In the K-NN algorithm, the value of K is a hyperparameter that needs to be set before training the model. Choosing the right value of K is important, as a low value of K may result in overfitting while a high value of K may result in underfitting.\n",
    "\n",
    "The K-NN algorithm is a simple and effective algorithm that can be used for a variety of applications, such as image recognition, recommender systems, and natural language processing."
   ]
  },
  {
   "cell_type": "markdown",
   "id": "7394fbb6",
   "metadata": {},
   "source": [
    "#### Generating the data\n",
    "In this exercise, we will explore the K-Nearest Neighbors algorithm using simulated data. The dataset consists of two multivariate random normal distributions, one for each class, with different means and standard deviations. We will generate this data using NumPy and visualize it using Plotly."
   ]
  },
  {
   "cell_type": "code",
   "execution_count": 6,
   "id": "ecf42878",
   "metadata": {},
   "outputs": [
    {
     "data": {
      "text/html": [
       "<div>\n",
       "<style scoped>\n",
       "    .dataframe tbody tr th:only-of-type {\n",
       "        vertical-align: middle;\n",
       "    }\n",
       "\n",
       "    .dataframe tbody tr th {\n",
       "        vertical-align: top;\n",
       "    }\n",
       "\n",
       "    .dataframe thead th {\n",
       "        text-align: right;\n",
       "    }\n",
       "</style>\n",
       "<table border=\"1\" class=\"dataframe\">\n",
       "  <thead>\n",
       "    <tr style=\"text-align: right;\">\n",
       "      <th></th>\n",
       "      <th>x</th>\n",
       "      <th>y</th>\n",
       "      <th>group</th>\n",
       "    </tr>\n",
       "  </thead>\n",
       "  <tbody>\n",
       "    <tr>\n",
       "      <th>22</th>\n",
       "      <td>-1.188274</td>\n",
       "      <td>-1.034579</td>\n",
       "      <td>B</td>\n",
       "    </tr>\n",
       "    <tr>\n",
       "      <th>244</th>\n",
       "      <td>1.203311</td>\n",
       "      <td>0.597267</td>\n",
       "      <td>A</td>\n",
       "    </tr>\n",
       "    <tr>\n",
       "      <th>21</th>\n",
       "      <td>-0.425930</td>\n",
       "      <td>-0.899780</td>\n",
       "      <td>B</td>\n",
       "    </tr>\n",
       "    <tr>\n",
       "      <th>131</th>\n",
       "      <td>-1.410641</td>\n",
       "      <td>-1.503741</td>\n",
       "      <td>B</td>\n",
       "    </tr>\n",
       "    <tr>\n",
       "      <th>52</th>\n",
       "      <td>1.396734</td>\n",
       "      <td>1.350864</td>\n",
       "      <td>A</td>\n",
       "    </tr>\n",
       "  </tbody>\n",
       "</table>\n",
       "</div>"
      ],
      "text/plain": [
       "            x         y group\n",
       "22  -1.188274 -1.034579     B\n",
       "244  1.203311  0.597267     A\n",
       "21  -0.425930 -0.899780     B\n",
       "131 -1.410641 -1.503741     B\n",
       "52   1.396734  1.350864     A"
      ]
     },
     "execution_count": 6,
     "metadata": {},
     "output_type": "execute_result"
    }
   ],
   "source": [
    "np.random.seed(12345)\n",
    "points_1 = np.random.multivariate_normal([1, 1], [[1, 0.2], [0.2, 1]], 250)\n",
    "points_2 = np.random.multivariate_normal([-1, -1], [[1, 0.5], [0.5, 1]], 250)\n",
    "\n",
    "points_1_df = pd.DataFrame(points_1, columns=['x', 'y'])\n",
    "points_1_df.loc[:, 'group'] = 'A'\n",
    "points_2_df = pd.DataFrame(points_2, columns=['x', 'y'])\n",
    "points_2_df.loc[:, 'group'] = 'B'\n",
    "\n",
    "points = pd.concat([points_1_df, points_2_df])\n",
    "points.sample(5, random_state=12345)"
   ]
  },
  {
   "cell_type": "markdown",
   "id": "35f6a5c4",
   "metadata": {},
   "source": [
    "#### Building the model\n",
    "Given the simplicity of the model, we will not implement a pipeline."
   ]
  },
  {
   "cell_type": "code",
   "execution_count": 7,
   "id": "7959f22e",
   "metadata": {},
   "outputs": [
    {
     "data": {
      "text/html": [
       "<style>#sk-container-id-1 {\n",
       "  /* Definition of color scheme common for light and dark mode */\n",
       "  --sklearn-color-text: black;\n",
       "  --sklearn-color-line: gray;\n",
       "  /* Definition of color scheme for unfitted estimators */\n",
       "  --sklearn-color-unfitted-level-0: #fff5e6;\n",
       "  --sklearn-color-unfitted-level-1: #f6e4d2;\n",
       "  --sklearn-color-unfitted-level-2: #ffe0b3;\n",
       "  --sklearn-color-unfitted-level-3: chocolate;\n",
       "  /* Definition of color scheme for fitted estimators */\n",
       "  --sklearn-color-fitted-level-0: #f0f8ff;\n",
       "  --sklearn-color-fitted-level-1: #d4ebff;\n",
       "  --sklearn-color-fitted-level-2: #b3dbfd;\n",
       "  --sklearn-color-fitted-level-3: cornflowerblue;\n",
       "\n",
       "  /* Specific color for light theme */\n",
       "  --sklearn-color-text-on-default-background: var(--sg-text-color, var(--theme-code-foreground, var(--jp-content-font-color1, black)));\n",
       "  --sklearn-color-background: var(--sg-background-color, var(--theme-background, var(--jp-layout-color0, white)));\n",
       "  --sklearn-color-border-box: var(--sg-text-color, var(--theme-code-foreground, var(--jp-content-font-color1, black)));\n",
       "  --sklearn-color-icon: #696969;\n",
       "\n",
       "  @media (prefers-color-scheme: dark) {\n",
       "    /* Redefinition of color scheme for dark theme */\n",
       "    --sklearn-color-text-on-default-background: var(--sg-text-color, var(--theme-code-foreground, var(--jp-content-font-color1, white)));\n",
       "    --sklearn-color-background: var(--sg-background-color, var(--theme-background, var(--jp-layout-color0, #111)));\n",
       "    --sklearn-color-border-box: var(--sg-text-color, var(--theme-code-foreground, var(--jp-content-font-color1, white)));\n",
       "    --sklearn-color-icon: #878787;\n",
       "  }\n",
       "}\n",
       "\n",
       "#sk-container-id-1 {\n",
       "  color: var(--sklearn-color-text);\n",
       "}\n",
       "\n",
       "#sk-container-id-1 pre {\n",
       "  padding: 0;\n",
       "}\n",
       "\n",
       "#sk-container-id-1 input.sk-hidden--visually {\n",
       "  border: 0;\n",
       "  clip: rect(1px 1px 1px 1px);\n",
       "  clip: rect(1px, 1px, 1px, 1px);\n",
       "  height: 1px;\n",
       "  margin: -1px;\n",
       "  overflow: hidden;\n",
       "  padding: 0;\n",
       "  position: absolute;\n",
       "  width: 1px;\n",
       "}\n",
       "\n",
       "#sk-container-id-1 div.sk-dashed-wrapped {\n",
       "  border: 1px dashed var(--sklearn-color-line);\n",
       "  margin: 0 0.4em 0.5em 0.4em;\n",
       "  box-sizing: border-box;\n",
       "  padding-bottom: 0.4em;\n",
       "  background-color: var(--sklearn-color-background);\n",
       "}\n",
       "\n",
       "#sk-container-id-1 div.sk-container {\n",
       "  /* jupyter's `normalize.less` sets `[hidden] { display: none; }`\n",
       "     but bootstrap.min.css set `[hidden] { display: none !important; }`\n",
       "     so we also need the `!important` here to be able to override the\n",
       "     default hidden behavior on the sphinx rendered scikit-learn.org.\n",
       "     See: https://github.com/scikit-learn/scikit-learn/issues/21755 */\n",
       "  display: inline-block !important;\n",
       "  position: relative;\n",
       "}\n",
       "\n",
       "#sk-container-id-1 div.sk-text-repr-fallback {\n",
       "  display: none;\n",
       "}\n",
       "\n",
       "div.sk-parallel-item,\n",
       "div.sk-serial,\n",
       "div.sk-item {\n",
       "  /* draw centered vertical line to link estimators */\n",
       "  background-image: linear-gradient(var(--sklearn-color-text-on-default-background), var(--sklearn-color-text-on-default-background));\n",
       "  background-size: 2px 100%;\n",
       "  background-repeat: no-repeat;\n",
       "  background-position: center center;\n",
       "}\n",
       "\n",
       "/* Parallel-specific style estimator block */\n",
       "\n",
       "#sk-container-id-1 div.sk-parallel-item::after {\n",
       "  content: \"\";\n",
       "  width: 100%;\n",
       "  border-bottom: 2px solid var(--sklearn-color-text-on-default-background);\n",
       "  flex-grow: 1;\n",
       "}\n",
       "\n",
       "#sk-container-id-1 div.sk-parallel {\n",
       "  display: flex;\n",
       "  align-items: stretch;\n",
       "  justify-content: center;\n",
       "  background-color: var(--sklearn-color-background);\n",
       "  position: relative;\n",
       "}\n",
       "\n",
       "#sk-container-id-1 div.sk-parallel-item {\n",
       "  display: flex;\n",
       "  flex-direction: column;\n",
       "}\n",
       "\n",
       "#sk-container-id-1 div.sk-parallel-item:first-child::after {\n",
       "  align-self: flex-end;\n",
       "  width: 50%;\n",
       "}\n",
       "\n",
       "#sk-container-id-1 div.sk-parallel-item:last-child::after {\n",
       "  align-self: flex-start;\n",
       "  width: 50%;\n",
       "}\n",
       "\n",
       "#sk-container-id-1 div.sk-parallel-item:only-child::after {\n",
       "  width: 0;\n",
       "}\n",
       "\n",
       "/* Serial-specific style estimator block */\n",
       "\n",
       "#sk-container-id-1 div.sk-serial {\n",
       "  display: flex;\n",
       "  flex-direction: column;\n",
       "  align-items: center;\n",
       "  background-color: var(--sklearn-color-background);\n",
       "  padding-right: 1em;\n",
       "  padding-left: 1em;\n",
       "}\n",
       "\n",
       "\n",
       "/* Toggleable style: style used for estimator/Pipeline/ColumnTransformer box that is\n",
       "clickable and can be expanded/collapsed.\n",
       "- Pipeline and ColumnTransformer use this feature and define the default style\n",
       "- Estimators will overwrite some part of the style using the `sk-estimator` class\n",
       "*/\n",
       "\n",
       "/* Pipeline and ColumnTransformer style (default) */\n",
       "\n",
       "#sk-container-id-1 div.sk-toggleable {\n",
       "  /* Default theme specific background. It is overwritten whether we have a\n",
       "  specific estimator or a Pipeline/ColumnTransformer */\n",
       "  background-color: var(--sklearn-color-background);\n",
       "}\n",
       "\n",
       "/* Toggleable label */\n",
       "#sk-container-id-1 label.sk-toggleable__label {\n",
       "  cursor: pointer;\n",
       "  display: block;\n",
       "  width: 100%;\n",
       "  margin-bottom: 0;\n",
       "  padding: 0.5em;\n",
       "  box-sizing: border-box;\n",
       "  text-align: center;\n",
       "}\n",
       "\n",
       "#sk-container-id-1 label.sk-toggleable__label-arrow:before {\n",
       "  /* Arrow on the left of the label */\n",
       "  content: \"▸\";\n",
       "  float: left;\n",
       "  margin-right: 0.25em;\n",
       "  color: var(--sklearn-color-icon);\n",
       "}\n",
       "\n",
       "#sk-container-id-1 label.sk-toggleable__label-arrow:hover:before {\n",
       "  color: var(--sklearn-color-text);\n",
       "}\n",
       "\n",
       "/* Toggleable content - dropdown */\n",
       "\n",
       "#sk-container-id-1 div.sk-toggleable__content {\n",
       "  max-height: 0;\n",
       "  max-width: 0;\n",
       "  overflow: hidden;\n",
       "  text-align: left;\n",
       "  /* unfitted */\n",
       "  background-color: var(--sklearn-color-unfitted-level-0);\n",
       "}\n",
       "\n",
       "#sk-container-id-1 div.sk-toggleable__content.fitted {\n",
       "  /* fitted */\n",
       "  background-color: var(--sklearn-color-fitted-level-0);\n",
       "}\n",
       "\n",
       "#sk-container-id-1 div.sk-toggleable__content pre {\n",
       "  margin: 0.2em;\n",
       "  border-radius: 0.25em;\n",
       "  color: var(--sklearn-color-text);\n",
       "  /* unfitted */\n",
       "  background-color: var(--sklearn-color-unfitted-level-0);\n",
       "}\n",
       "\n",
       "#sk-container-id-1 div.sk-toggleable__content.fitted pre {\n",
       "  /* unfitted */\n",
       "  background-color: var(--sklearn-color-fitted-level-0);\n",
       "}\n",
       "\n",
       "#sk-container-id-1 input.sk-toggleable__control:checked~div.sk-toggleable__content {\n",
       "  /* Expand drop-down */\n",
       "  max-height: 200px;\n",
       "  max-width: 100%;\n",
       "  overflow: auto;\n",
       "}\n",
       "\n",
       "#sk-container-id-1 input.sk-toggleable__control:checked~label.sk-toggleable__label-arrow:before {\n",
       "  content: \"▾\";\n",
       "}\n",
       "\n",
       "/* Pipeline/ColumnTransformer-specific style */\n",
       "\n",
       "#sk-container-id-1 div.sk-label input.sk-toggleable__control:checked~label.sk-toggleable__label {\n",
       "  color: var(--sklearn-color-text);\n",
       "  background-color: var(--sklearn-color-unfitted-level-2);\n",
       "}\n",
       "\n",
       "#sk-container-id-1 div.sk-label.fitted input.sk-toggleable__control:checked~label.sk-toggleable__label {\n",
       "  background-color: var(--sklearn-color-fitted-level-2);\n",
       "}\n",
       "\n",
       "/* Estimator-specific style */\n",
       "\n",
       "/* Colorize estimator box */\n",
       "#sk-container-id-1 div.sk-estimator input.sk-toggleable__control:checked~label.sk-toggleable__label {\n",
       "  /* unfitted */\n",
       "  background-color: var(--sklearn-color-unfitted-level-2);\n",
       "}\n",
       "\n",
       "#sk-container-id-1 div.sk-estimator.fitted input.sk-toggleable__control:checked~label.sk-toggleable__label {\n",
       "  /* fitted */\n",
       "  background-color: var(--sklearn-color-fitted-level-2);\n",
       "}\n",
       "\n",
       "#sk-container-id-1 div.sk-label label.sk-toggleable__label,\n",
       "#sk-container-id-1 div.sk-label label {\n",
       "  /* The background is the default theme color */\n",
       "  color: var(--sklearn-color-text-on-default-background);\n",
       "}\n",
       "\n",
       "/* On hover, darken the color of the background */\n",
       "#sk-container-id-1 div.sk-label:hover label.sk-toggleable__label {\n",
       "  color: var(--sklearn-color-text);\n",
       "  background-color: var(--sklearn-color-unfitted-level-2);\n",
       "}\n",
       "\n",
       "/* Label box, darken color on hover, fitted */\n",
       "#sk-container-id-1 div.sk-label.fitted:hover label.sk-toggleable__label.fitted {\n",
       "  color: var(--sklearn-color-text);\n",
       "  background-color: var(--sklearn-color-fitted-level-2);\n",
       "}\n",
       "\n",
       "/* Estimator label */\n",
       "\n",
       "#sk-container-id-1 div.sk-label label {\n",
       "  font-family: monospace;\n",
       "  font-weight: bold;\n",
       "  display: inline-block;\n",
       "  line-height: 1.2em;\n",
       "}\n",
       "\n",
       "#sk-container-id-1 div.sk-label-container {\n",
       "  text-align: center;\n",
       "}\n",
       "\n",
       "/* Estimator-specific */\n",
       "#sk-container-id-1 div.sk-estimator {\n",
       "  font-family: monospace;\n",
       "  border: 1px dotted var(--sklearn-color-border-box);\n",
       "  border-radius: 0.25em;\n",
       "  box-sizing: border-box;\n",
       "  margin-bottom: 0.5em;\n",
       "  /* unfitted */\n",
       "  background-color: var(--sklearn-color-unfitted-level-0);\n",
       "}\n",
       "\n",
       "#sk-container-id-1 div.sk-estimator.fitted {\n",
       "  /* fitted */\n",
       "  background-color: var(--sklearn-color-fitted-level-0);\n",
       "}\n",
       "\n",
       "/* on hover */\n",
       "#sk-container-id-1 div.sk-estimator:hover {\n",
       "  /* unfitted */\n",
       "  background-color: var(--sklearn-color-unfitted-level-2);\n",
       "}\n",
       "\n",
       "#sk-container-id-1 div.sk-estimator.fitted:hover {\n",
       "  /* fitted */\n",
       "  background-color: var(--sklearn-color-fitted-level-2);\n",
       "}\n",
       "\n",
       "/* Specification for estimator info (e.g. \"i\" and \"?\") */\n",
       "\n",
       "/* Common style for \"i\" and \"?\" */\n",
       "\n",
       ".sk-estimator-doc-link,\n",
       "a:link.sk-estimator-doc-link,\n",
       "a:visited.sk-estimator-doc-link {\n",
       "  float: right;\n",
       "  font-size: smaller;\n",
       "  line-height: 1em;\n",
       "  font-family: monospace;\n",
       "  background-color: var(--sklearn-color-background);\n",
       "  border-radius: 1em;\n",
       "  height: 1em;\n",
       "  width: 1em;\n",
       "  text-decoration: none !important;\n",
       "  margin-left: 1ex;\n",
       "  /* unfitted */\n",
       "  border: var(--sklearn-color-unfitted-level-1) 1pt solid;\n",
       "  color: var(--sklearn-color-unfitted-level-1);\n",
       "}\n",
       "\n",
       ".sk-estimator-doc-link.fitted,\n",
       "a:link.sk-estimator-doc-link.fitted,\n",
       "a:visited.sk-estimator-doc-link.fitted {\n",
       "  /* fitted */\n",
       "  border: var(--sklearn-color-fitted-level-1) 1pt solid;\n",
       "  color: var(--sklearn-color-fitted-level-1);\n",
       "}\n",
       "\n",
       "/* On hover */\n",
       "div.sk-estimator:hover .sk-estimator-doc-link:hover,\n",
       ".sk-estimator-doc-link:hover,\n",
       "div.sk-label-container:hover .sk-estimator-doc-link:hover,\n",
       ".sk-estimator-doc-link:hover {\n",
       "  /* unfitted */\n",
       "  background-color: var(--sklearn-color-unfitted-level-3);\n",
       "  color: var(--sklearn-color-background);\n",
       "  text-decoration: none;\n",
       "}\n",
       "\n",
       "div.sk-estimator.fitted:hover .sk-estimator-doc-link.fitted:hover,\n",
       ".sk-estimator-doc-link.fitted:hover,\n",
       "div.sk-label-container:hover .sk-estimator-doc-link.fitted:hover,\n",
       ".sk-estimator-doc-link.fitted:hover {\n",
       "  /* fitted */\n",
       "  background-color: var(--sklearn-color-fitted-level-3);\n",
       "  color: var(--sklearn-color-background);\n",
       "  text-decoration: none;\n",
       "}\n",
       "\n",
       "/* Span, style for the box shown on hovering the info icon */\n",
       ".sk-estimator-doc-link span {\n",
       "  display: none;\n",
       "  z-index: 9999;\n",
       "  position: relative;\n",
       "  font-weight: normal;\n",
       "  right: .2ex;\n",
       "  padding: .5ex;\n",
       "  margin: .5ex;\n",
       "  width: min-content;\n",
       "  min-width: 20ex;\n",
       "  max-width: 50ex;\n",
       "  color: var(--sklearn-color-text);\n",
       "  box-shadow: 2pt 2pt 4pt #999;\n",
       "  /* unfitted */\n",
       "  background: var(--sklearn-color-unfitted-level-0);\n",
       "  border: .5pt solid var(--sklearn-color-unfitted-level-3);\n",
       "}\n",
       "\n",
       ".sk-estimator-doc-link.fitted span {\n",
       "  /* fitted */\n",
       "  background: var(--sklearn-color-fitted-level-0);\n",
       "  border: var(--sklearn-color-fitted-level-3);\n",
       "}\n",
       "\n",
       ".sk-estimator-doc-link:hover span {\n",
       "  display: block;\n",
       "}\n",
       "\n",
       "/* \"?\"-specific style due to the `<a>` HTML tag */\n",
       "\n",
       "#sk-container-id-1 a.estimator_doc_link {\n",
       "  float: right;\n",
       "  font-size: 1rem;\n",
       "  line-height: 1em;\n",
       "  font-family: monospace;\n",
       "  background-color: var(--sklearn-color-background);\n",
       "  border-radius: 1rem;\n",
       "  height: 1rem;\n",
       "  width: 1rem;\n",
       "  text-decoration: none;\n",
       "  /* unfitted */\n",
       "  color: var(--sklearn-color-unfitted-level-1);\n",
       "  border: var(--sklearn-color-unfitted-level-1) 1pt solid;\n",
       "}\n",
       "\n",
       "#sk-container-id-1 a.estimator_doc_link.fitted {\n",
       "  /* fitted */\n",
       "  border: var(--sklearn-color-fitted-level-1) 1pt solid;\n",
       "  color: var(--sklearn-color-fitted-level-1);\n",
       "}\n",
       "\n",
       "/* On hover */\n",
       "#sk-container-id-1 a.estimator_doc_link:hover {\n",
       "  /* unfitted */\n",
       "  background-color: var(--sklearn-color-unfitted-level-3);\n",
       "  color: var(--sklearn-color-background);\n",
       "  text-decoration: none;\n",
       "}\n",
       "\n",
       "#sk-container-id-1 a.estimator_doc_link.fitted:hover {\n",
       "  /* fitted */\n",
       "  background-color: var(--sklearn-color-fitted-level-3);\n",
       "}\n",
       "</style><div id=\"sk-container-id-1\" class=\"sk-top-container\"><div class=\"sk-text-repr-fallback\"><pre>KNeighborsClassifier(n_neighbors=15)</pre><b>In a Jupyter environment, please rerun this cell to show the HTML representation or trust the notebook. <br />On GitHub, the HTML representation is unable to render, please try loading this page with nbviewer.org.</b></div><div class=\"sk-container\" hidden><div class=\"sk-item\"><div class=\"sk-estimator fitted sk-toggleable\"><input class=\"sk-toggleable__control sk-hidden--visually\" id=\"sk-estimator-id-1\" type=\"checkbox\" checked><label for=\"sk-estimator-id-1\" class=\"sk-toggleable__label fitted sk-toggleable__label-arrow fitted\">&nbsp;&nbsp;KNeighborsClassifier<a class=\"sk-estimator-doc-link fitted\" rel=\"noreferrer\" target=\"_blank\" href=\"https://scikit-learn.org/1.4/modules/generated/sklearn.neighbors.KNeighborsClassifier.html\">?<span>Documentation for KNeighborsClassifier</span></a><span class=\"sk-estimator-doc-link fitted\">i<span>Fitted</span></span></label><div class=\"sk-toggleable__content fitted\"><pre>KNeighborsClassifier(n_neighbors=15)</pre></div> </div></div></div></div>"
      ],
      "text/plain": [
       "KNeighborsClassifier(n_neighbors=15)"
      ]
     },
     "execution_count": 7,
     "metadata": {},
     "output_type": "execute_result"
    }
   ],
   "source": [
    "clf = KNeighborsClassifier(15, weights='uniform')\n",
    "y = points.pop('group')\n",
    "clf.fit(points, y) # No hyperparameter tuning"
   ]
  },
  {
   "cell_type": "markdown",
   "id": "3c845796",
   "metadata": {},
   "source": [
    "**Task 1**: build a contour plot that shows the classification decision made by the nearest neighboard algorithm in the area of x: [-5, 5] and y: [-5, 5]. Make sure that the colours range from '#006d77' to '#e29578' with '#edf6f9' being the midpoint."
   ]
  },
  {
   "cell_type": "code",
   "execution_count": null,
   "id": "9198853b",
   "metadata": {},
   "outputs": [],
   "source": [
    "xrange = np.arange(-5, 5, 0.05)\n",
    "yrange = np.arange(-5, 5, 0.05)\n",
    "\n",
    "plot_data = pd.DataFrame({'x': xrange, 'y': yrange})\n",
    "plot_data.loc[:, 'prediction'] = clf.predict_proba(plot_data)[:,0]\n",
    "xx, yy = np.meshgrid(xrange, yrange)\n",
    "grid_data = pd.DataFrame(np.c_[xx.ravel(), yy.ravel()], columns=['x', 'y'])\n",
    "Z = clf.predict_proba(grid_data)[:, 1]\n",
    "Z = Z.reshape(xx.shape)\n",
    "\n",
    "# Plot the figure\n",
    "fig = go.Figure(data=[\n",
    "    go.Contour(\n",
    "        x=xrange,\n",
    "        y=yrange,\n",
    "        z=Z,\n",
    "        colorscale=[[0, '#e29578'], [0.5, '#edf6f9'], [1, '#006d77']],\n",
    "        showscale=False,\n",
    "    )\n",
    "])\n",
    "\n",
    "fig.show()"
   ]
  },
  {
   "cell_type": "markdown",
   "id": "7772e587",
   "metadata": {},
   "source": [
    "**Task 2**: Overlay the contour plot with the original datapoints."
   ]
  },
  {
   "cell_type": "code",
   "execution_count": null,
   "id": "6c30def3",
   "metadata": {},
   "outputs": [],
   "source": [
    "points = pd.concat([points_1_df, points_2_df])\n",
    "\n",
    "for group, color in zip(points.group.unique(),['#006d77', '#e29578']):\n",
    "    group_data = points[points.group == group].copy()\n",
    "    fig.add_trace(\n",
    "        go.Scatter(\n",
    "            x=group_data['x'], \n",
    "            y=group_data['y'],\n",
    "            mode='markers',\n",
    "            fillcolor=color,\n",
    "            marker={'opacity': 0.8},\n",
    "            name=f'Group: {group}'\n",
    "        )\n",
    "    )\n",
    "fig.update_layout(yaxis_range=[-5,5], xaxis_range=[-5, 5])\n",
    "fig.show()"
   ]
  },
  {
   "cell_type": "markdown",
   "id": "e7ac4499",
   "metadata": {},
   "source": [
    "## Part 2: geographic analysis\n",
    "Geographic data analysis is an important aspect of data science, as it allows for the exploration and visualization of data related to geographic locations. By analyzing geographic data, data scientists can gain insights into various phenomena, such as the distribution of populations, patterns of migration, and the spread of diseases. Geographic data is also important in fields such as marketing and urban planning, where it can be used to identify and analyze trends and patterns.\n",
    "\n",
    "The next part of this notebook will focus on building geographic visualizations using the Plotly library. These visualizations can range from simple scatterplots with markers indicating location to complex maps with different layers of data. By the end of this section, students will have gained experience creating geographic visualizations and will be able to apply this knowledge to their own projects.\n",
    "\n",
    "#### Data\n",
    "The dataset used in this notebook provides information on a sample of water access points in Liberia and Sierra Leone. The data was collected by the Water Point Data Exchange, which is a global platform for sharing data on water points. The dataset includes various attributes related to the water access points, such as their location, type, and functionality. This dataset is particularly useful for exploring the accessibility and quality of water sources in the two countries, and can provide insights into the challenges faced by communities in accessing clean water."
   ]
  },
  {
   "cell_type": "code",
   "execution_count": 10,
   "id": "7174a75e",
   "metadata": {},
   "outputs": [
    {
     "data": {
      "text/html": [
       "<div>\n",
       "<style scoped>\n",
       "    .dataframe tbody tr th:only-of-type {\n",
       "        vertical-align: middle;\n",
       "    }\n",
       "\n",
       "    .dataframe tbody tr th {\n",
       "        vertical-align: top;\n",
       "    }\n",
       "\n",
       "    .dataframe thead th {\n",
       "        text-align: right;\n",
       "    }\n",
       "</style>\n",
       "<table border=\"1\" class=\"dataframe\">\n",
       "  <thead>\n",
       "    <tr style=\"text-align: right;\">\n",
       "      <th></th>\n",
       "      <th>id</th>\n",
       "      <th>lat</th>\n",
       "      <th>lon</th>\n",
       "      <th>source</th>\n",
       "      <th>tech</th>\n",
       "      <th>country</th>\n",
       "    </tr>\n",
       "  </thead>\n",
       "  <tbody>\n",
       "    <tr>\n",
       "      <th>0</th>\n",
       "      <td>390008</td>\n",
       "      <td>7.943277</td>\n",
       "      <td>-11.743180</td>\n",
       "      <td>Protected Shallow Well</td>\n",
       "      <td>Hand Pump - India Mark</td>\n",
       "      <td>Sierra Leone</td>\n",
       "    </tr>\n",
       "    <tr>\n",
       "      <th>1</th>\n",
       "      <td>451864</td>\n",
       "      <td>9.233856</td>\n",
       "      <td>-11.195890</td>\n",
       "      <td>Surface Water (River/Stream/Lake/Pond/Dam)</td>\n",
       "      <td>Hand Pump - Vergnet</td>\n",
       "      <td>Sierra Leone</td>\n",
       "    </tr>\n",
       "    <tr>\n",
       "      <th>2</th>\n",
       "      <td>404187</td>\n",
       "      <td>6.270010</td>\n",
       "      <td>-10.701981</td>\n",
       "      <td>Protected Shallow Well</td>\n",
       "      <td>Hand Pump - Afridev</td>\n",
       "      <td>Liberia</td>\n",
       "    </tr>\n",
       "    <tr>\n",
       "      <th>3</th>\n",
       "      <td>420002</td>\n",
       "      <td>8.438398</td>\n",
       "      <td>-13.158348</td>\n",
       "      <td>Protected Shallow Well</td>\n",
       "      <td>Hand Pump - Afridev</td>\n",
       "      <td>Sierra Leone</td>\n",
       "    </tr>\n",
       "    <tr>\n",
       "      <th>4</th>\n",
       "      <td>410166</td>\n",
       "      <td>6.976923</td>\n",
       "      <td>-9.288272</td>\n",
       "      <td>Protected Shallow Well</td>\n",
       "      <td>Hand Pump - Afridev</td>\n",
       "      <td>Liberia</td>\n",
       "    </tr>\n",
       "  </tbody>\n",
       "</table>\n",
       "</div>"
      ],
      "text/plain": [
       "       id       lat        lon                                      source  \\\n",
       "0  390008  7.943277 -11.743180                      Protected Shallow Well   \n",
       "1  451864  9.233856 -11.195890  Surface Water (River/Stream/Lake/Pond/Dam)   \n",
       "2  404187  6.270010 -10.701981                      Protected Shallow Well   \n",
       "3  420002  8.438398 -13.158348                      Protected Shallow Well   \n",
       "4  410166  6.976923  -9.288272                      Protected Shallow Well   \n",
       "\n",
       "                     tech       country  \n",
       "0  Hand Pump - India Mark  Sierra Leone  \n",
       "1     Hand Pump - Vergnet  Sierra Leone  \n",
       "2     Hand Pump - Afridev       Liberia  \n",
       "3     Hand Pump - Afridev  Sierra Leone  \n",
       "4     Hand Pump - Afridev       Liberia  "
      ]
     },
     "execution_count": 10,
     "metadata": {},
     "output_type": "execute_result"
    }
   ],
   "source": [
    "water_points = pd.read_csv('https://kuleuven-mda.s3.eu-central-1.amazonaws.com/water_points.csv')\n",
    "water_points.head()"
   ]
  },
  {
   "cell_type": "markdown",
   "id": "651d9fc8",
   "metadata": {},
   "source": [
    "The dataset used in this notebook provides information on a sample of water access points in Liberia and Sierra Leone. The data was collected by the Water Point Data Exchange, which is a global platform for sharing data on water points. The dataset includes various attributes related to the water access points, such as their location, type, and functionality. This dataset is particularly useful for exploring the accessibility and quality of water sources in the two countries, and can provide insights into the challenges faced by communities in accessing clean water."
   ]
  },
  {
   "cell_type": "code",
   "execution_count": 11,
   "id": "b16dd974",
   "metadata": {},
   "outputs": [],
   "source": [
    "id_ = 82198"
   ]
  },
  {
   "cell_type": "markdown",
   "id": "dd62f7cc",
   "metadata": {},
   "source": [
    "**Task**: build the visualization as shown on the slides of the lecture on data visualization. Highlight the water access point with the id stored in the id_ variable above. The color codes are: #db9862, #58524e, #a6523c, #b29e8f, #fbf7f1, and #f9f4eb. The comments will guide you through the process."
   ]
  },
  {
   "cell_type": "code",
   "execution_count": 12,
   "id": "0aaa6fcf",
   "metadata": {},
   "outputs": [
    {
     "data": {
      "application/vnd.plotly.v1+json": {
       "config": {
        "plotlyServerURL": "https://plot.ly"
       },
       "data": [
        {
         "geo": "geo",
         "hoverinfo": "none",
         "lat": [
          7.943277,
          9.233856,
          6.27001,
          8.438398,
          6.976923,
          8.846142,
          7.115437,
          6.477652,
          8.69802734,
          4.671268333333333,
          6.496429,
          6.252376,
          8.337292,
          6.062211,
          6.252324,
          6.535885,
          8.412849,
          7.9187596,
          4.422383,
          7.969012,
          8.339803,
          7.01129455,
          5.20222,
          8.041014,
          4.409673333333333,
          5.15062982,
          7.36927,
          7.85685354,
          8.39744003,
          8.846318,
          8.60097723,
          6.566254,
          8.69900559,
          7.10511951,
          6.408103333333334,
          9.080839914769708,
          7.654353,
          8.887577,
          7.233973333333334,
          7.98027,
          8.45946827,
          6.350195,
          6.269576,
          8.47953319,
          8.757443,
          6.417619999999999,
          9.13837891,
          8.884274,
          8.420779,
          8.055591811941792,
          8.294513,
          7.854125,
          8.656650191672464,
          8.323817,
          9.59377202,
          8.32772,
          5.899556172241573,
          8.148053,
          9.59247256,
          9.069368,
          6.007418,
          6.04038,
          7.362757,
          8.70598167,
          6.270860000000001,
          6.38545,
          6.2717,
          6.022329999999999,
          5.881443,
          6.33123932,
          9.59500454,
          6.66254216,
          9.04861915,
          6.44620229,
          8.786984,
          7.12536217,
          9.03475774,
          8.787241411093039,
          9.371347,
          6.189887,
          7.47702753,
          6.809563333333333,
          7.164125,
          6.332415,
          6.109028333333333,
          8.303675,
          7.615781,
          5.119762,
          8.949934376751361,
          8.592224,
          7.2866179,
          7.0204108,
          7.163971,
          6.124705,
          5.007581666666667,
          5.803354,
          6.407485,
          7.966309,
          8.44643851,
          8.773053,
          7.87501,
          6.688259,
          7.465931,
          6.163695,
          8.753648965550754,
          6.33816314,
          6.423605,
          8.74550018,
          4.949253333333333,
          6.986718333333332,
          9.054633,
          7.982023,
          7.793375,
          7.88208149,
          8.18662534,
          7.30004555,
          5.609604,
          7.354443,
          7.495244,
          7.4127579,
          8.762762039222089,
          7.46359213,
          8.322283333,
          7.05003507,
          7.477268,
          7.94187,
          6.757483
         ],
         "lon": [
          -11.74318,
          -11.19589,
          -10.701981,
          -13.158348,
          -9.288272,
          -11.750688,
          -11.304117,
          -10.804944,
          -12.5714429,
          -8.236921666666666,
          -10.875316,
          -10.703826,
          -13.01547,
          -8.135658,
          -10.37641,
          -10.358767,
          -9.759267,
          -10.80980955,
          -7.824264,
          -11.761979,
          -11.141104,
          -9.48971702,
          -7.869293333333333,
          -11.756483,
          -7.686361666666666,
          -7.97311566,
          -11.4088335,
          -11.33705822,
          -11.99484923,
          -12.430577,
          -13.19404587,
          -10.554232,
          -10.91747835,
          -8.41810878,
          -8.557751666666666,
          -12.096482151774,
          -11.964717,
          -12.047112,
          -8.983524999999998,
          -12.162188,
          -13.17431252,
          -9.745456,
          -10.719611,
          -13.24953585,
          -11.966362,
          -9.575711666666669,
          -12.81291938,
          -12.037313,
          -9.827919,
          -11.106806193363168,
          -12.746309,
          -11.211766,
          -12.66836580108949,
          -13.048223,
          -11.55048392,
          -9.951792,
          -10.037630877538271,
          -10.79874,
          -11.55380373,
          -12.631141,
          -9.900681,
          -9.282484,
          -8.711536,
          -12.67758181,
          -10.34499,
          -10.107121666666666,
          -10.68185,
          -9.750846666666666,
          -10.052335,
          -10.73793632,
          -11.54477278,
          -10.78389584,
          -12.77021508,
          -10.60844371,
          -12.298173,
          -8.6339265,
          -12.50299212,
          -13.15339946887437,
          -12.257441,
          -10.499837,
          -11.21849738,
          -9.937318333333334,
          -9.546106,
          -10.737108,
          -9.746628333333332,
          -12.793704,
          -12.14116,
          -7.699973,
          -12.703182115762024,
          -11.382939,
          -11.63658568,
          -11.38116239,
          -9.546001,
          -10.180473333333332,
          -9.039256666666668,
          -9.76281,
          -10.424211,
          -11.724294,
          -13.24637779,
          -12.791102,
          -11.195932,
          -11.120802,
          -11.239187,
          -8.048158333333333,
          -11.81417377155231,
          -10.7551256,
          -10.616889,
          -12.26555224,
          -7.8969966666666656,
          -9.478026666666668,
          -11.963577,
          -9.463816,
          -12.298175,
          -11.1814261,
          -12.52309388,
          -11.5969513,
          -9.631125,
          -11.686512,
          -11.924866,
          -11.40693337,
          -12.781342168871523,
          -11.63461413,
          -13.04896667,
          -9.06354779,
          -12.525726,
          -11.73119,
          -10.800309
         ],
         "marker": {
          "color": "#db9862",
          "opacity": 0.5
         },
         "type": "scattergeo"
        },
        {
         "autocolorscale": false,
         "colorscale": [
          [
           0,
           "#58524e"
          ],
          [
           1,
           "#58524e"
          ]
         ],
         "geo": "geo2",
         "hoverinfo": "none",
         "locationmode": "country names",
         "locations": [
          "Sierra Leone",
          "Sierra Leone",
          "Liberia",
          "Sierra Leone",
          "Liberia",
          "Sierra Leone",
          "Liberia",
          "Liberia",
          "Sierra Leone",
          "Liberia",
          "Liberia",
          "Liberia",
          "Sierra Leone",
          "Liberia",
          "Liberia",
          "Liberia",
          "Liberia",
          "Sierra Leone",
          "Liberia",
          "Sierra Leone",
          "Sierra Leone",
          "Liberia",
          "Liberia",
          "Sierra Leone",
          "Liberia",
          "Liberia",
          "Sierra Leone",
          "Sierra Leone",
          "Sierra Leone",
          "Sierra Leone",
          "Sierra Leone",
          "Liberia",
          "Sierra Leone",
          "Liberia",
          "Liberia",
          "Sierra Leone",
          "Sierra Leone",
          "Sierra Leone",
          "Liberia",
          "Sierra Leone",
          "Sierra Leone",
          "Liberia",
          "Liberia",
          "Sierra Leone",
          "Sierra Leone",
          "Liberia",
          "Sierra Leone",
          "Sierra Leone",
          "Liberia",
          "Sierra Leone",
          "Sierra Leone",
          "Sierra Leone",
          "Sierra Leone",
          "Sierra Leone",
          "Sierra Leone",
          "Liberia",
          "Liberia",
          "Sierra Leone",
          "Sierra Leone",
          "Sierra Leone",
          "Liberia",
          "Liberia",
          "Liberia",
          "Sierra Leone",
          "Liberia",
          "Liberia",
          "Liberia",
          "Liberia",
          "Liberia",
          "Liberia",
          "Sierra Leone",
          "Liberia",
          "Sierra Leone",
          "Liberia",
          "Sierra Leone",
          "Liberia",
          "Sierra Leone",
          "Sierra Leone",
          "Sierra Leone",
          "Liberia",
          "Sierra Leone",
          "Liberia",
          "Liberia",
          "Liberia",
          "Liberia",
          "Sierra Leone",
          "Sierra Leone",
          "Liberia",
          "Sierra Leone",
          "Sierra Leone",
          "Sierra Leone",
          "Sierra Leone",
          "Liberia",
          "Liberia",
          "Liberia",
          "Liberia",
          "Liberia",
          "Sierra Leone",
          "Sierra Leone",
          "Sierra Leone",
          "Sierra Leone",
          "Liberia",
          "Sierra Leone",
          "Liberia",
          "Sierra Leone",
          "Liberia",
          "Liberia",
          "Sierra Leone",
          "Liberia",
          "Liberia",
          "Sierra Leone",
          "Liberia",
          "Sierra Leone",
          "Sierra Leone",
          "Sierra Leone",
          "Sierra Leone",
          "Liberia",
          "Sierra Leone",
          "Sierra Leone",
          "Sierra Leone",
          "Sierra Leone",
          "Sierra Leone",
          "Sierra Leone",
          "Liberia",
          "Sierra Leone",
          "Sierra Leone",
          "Liberia"
         ],
         "showscale": false,
         "text": [
          "Sierra Leone",
          "Sierra Leone",
          "Liberia",
          "Sierra Leone",
          "Liberia",
          "Sierra Leone",
          "Liberia",
          "Liberia",
          "Sierra Leone",
          "Liberia",
          "Liberia",
          "Liberia",
          "Sierra Leone",
          "Liberia",
          "Liberia",
          "Liberia",
          "Liberia",
          "Sierra Leone",
          "Liberia",
          "Sierra Leone",
          "Sierra Leone",
          "Liberia",
          "Liberia",
          "Sierra Leone",
          "Liberia",
          "Liberia",
          "Sierra Leone",
          "Sierra Leone",
          "Sierra Leone",
          "Sierra Leone",
          "Sierra Leone",
          "Liberia",
          "Sierra Leone",
          "Liberia",
          "Liberia",
          "Sierra Leone",
          "Sierra Leone",
          "Sierra Leone",
          "Liberia",
          "Sierra Leone",
          "Sierra Leone",
          "Liberia",
          "Liberia",
          "Sierra Leone",
          "Sierra Leone",
          "Liberia",
          "Sierra Leone",
          "Sierra Leone",
          "Liberia",
          "Sierra Leone",
          "Sierra Leone",
          "Sierra Leone",
          "Sierra Leone",
          "Sierra Leone",
          "Sierra Leone",
          "Liberia",
          "Liberia",
          "Sierra Leone",
          "Sierra Leone",
          "Sierra Leone",
          "Liberia",
          "Liberia",
          "Liberia",
          "Sierra Leone",
          "Liberia",
          "Liberia",
          "Liberia",
          "Liberia",
          "Liberia",
          "Liberia",
          "Sierra Leone",
          "Liberia",
          "Sierra Leone",
          "Liberia",
          "Sierra Leone",
          "Liberia",
          "Sierra Leone",
          "Sierra Leone",
          "Sierra Leone",
          "Liberia",
          "Sierra Leone",
          "Liberia",
          "Liberia",
          "Liberia",
          "Liberia",
          "Sierra Leone",
          "Sierra Leone",
          "Liberia",
          "Sierra Leone",
          "Sierra Leone",
          "Sierra Leone",
          "Sierra Leone",
          "Liberia",
          "Liberia",
          "Liberia",
          "Liberia",
          "Liberia",
          "Sierra Leone",
          "Sierra Leone",
          "Sierra Leone",
          "Sierra Leone",
          "Liberia",
          "Sierra Leone",
          "Liberia",
          "Sierra Leone",
          "Liberia",
          "Liberia",
          "Sierra Leone",
          "Liberia",
          "Liberia",
          "Sierra Leone",
          "Liberia",
          "Sierra Leone",
          "Sierra Leone",
          "Sierra Leone",
          "Sierra Leone",
          "Liberia",
          "Sierra Leone",
          "Sierra Leone",
          "Sierra Leone",
          "Sierra Leone",
          "Sierra Leone",
          "Sierra Leone",
          "Liberia",
          "Sierra Leone",
          "Sierra Leone",
          "Liberia"
         ],
         "type": "choropleth",
         "z": [
          1,
          1,
          1,
          1,
          1,
          1,
          1,
          1,
          1,
          1,
          1,
          1,
          1,
          1,
          1,
          1,
          1,
          1,
          1,
          1,
          1,
          1,
          1,
          1,
          1,
          1,
          1,
          1,
          1,
          1,
          1,
          1,
          1,
          1,
          1,
          1,
          1,
          1,
          1,
          1,
          1,
          1,
          1,
          1,
          1,
          1,
          1,
          1,
          1,
          1,
          1,
          1,
          1,
          1,
          1,
          1,
          1,
          1,
          1,
          1,
          1,
          1,
          1,
          1,
          1,
          1,
          1,
          1,
          1,
          1,
          1,
          1,
          1,
          1,
          1,
          1,
          1,
          1,
          1,
          1,
          1,
          1,
          1,
          1,
          1,
          1,
          1,
          1,
          1,
          1,
          1,
          1,
          1,
          1,
          1,
          1,
          1,
          1,
          1,
          1,
          1,
          1,
          1,
          1,
          1,
          1,
          1,
          1,
          1,
          1,
          1,
          1,
          1,
          1,
          1,
          1,
          1,
          1,
          1,
          1,
          1,
          1,
          1,
          1,
          1,
          1,
          1
         ]
        },
        {
         "geo": "geo",
         "hoverinfo": "none",
         "lat": [
          5.007581666666667
         ],
         "lon": [
          -9.039256666666668
         ],
         "marker": {
          "color": "#a6523c",
          "opacity": 1,
          "size": 10
         },
         "name": "Highlighted point",
         "type": "scattergeo"
        },
        {
         "geo": "geo",
         "hoverinfo": "none",
         "lat": [
          5.007581666666667
         ],
         "lon": [
          -9.039256666666668
         ],
         "marker": {
          "color": "#a6523c",
          "opacity": 0.5,
          "size": 25
         },
         "name": "Highlighted point",
         "type": "scattergeo"
        },
        {
         "geo": "geo",
         "hoverinfo": "none",
         "lat": [
          5.007581666666667
         ],
         "lon": [
          -9.039256666666668
         ],
         "marker": {
          "color": "#a6523c",
          "opacity": 0.25,
          "size": 50
         },
         "name": "Highlighted point",
         "type": "scattergeo"
        },
        {
         "geo": "geo",
         "hoverinfo": "none",
         "lat": [
          5.007581666666667
         ],
         "lon": [
          -9.039256666666668
         ],
         "marker": {
          "color": "#a6523c",
          "opacity": 0.05,
          "size": 100
         },
         "name": "Highlighted point",
         "type": "scattergeo"
        },
        {
         "hoverinfo": "none",
         "marker": {
          "color": "#b29e8f"
         },
         "orientation": "h",
         "text": [
          "1"
         ],
         "type": "bar",
         "x": [
          1
         ],
         "xaxis": "x2",
         "y": [
          "Surface Water (River/Stream/Lake/Pond/Dam)"
         ],
         "yaxis": "y2"
        },
        {
         "hoverinfo": "none",
         "marker": {
          "color": "#b29e8f"
         },
         "orientation": "h",
         "text": [
          "1"
         ],
         "type": "bar",
         "x": [
          1
         ],
         "xaxis": "x2",
         "y": [
          "Delivered Water"
         ],
         "yaxis": "y2"
        },
        {
         "hoverinfo": "none",
         "marker": {
          "color": "#b29e8f"
         },
         "orientation": "h",
         "text": [
          "2"
         ],
         "type": "bar",
         "x": [
          2
         ],
         "xaxis": "x2",
         "y": [
          "Sand or Sub-surface Dam"
         ],
         "yaxis": "y2"
        },
        {
         "hoverinfo": "none",
         "marker": {
          "color": "#b29e8f"
         },
         "orientation": "h",
         "text": [
          "13"
         ],
         "type": "bar",
         "x": [
          13
         ],
         "xaxis": "x2",
         "y": [
          "Unprotected Shallow Well"
         ],
         "yaxis": "y2"
        },
        {
         "hoverinfo": "none",
         "marker": {
          "color": "#b29e8f"
         },
         "orientation": "h",
         "text": [
          "20"
         ],
         "type": "bar",
         "x": [
          20
         ],
         "xaxis": "x2",
         "y": [
          "Borehole"
         ],
         "yaxis": "y2"
        },
        {
         "hoverinfo": "none",
         "marker": {
          "color": "#a6523c"
         },
         "orientation": "h",
         "text": [
          "90"
         ],
         "type": "bar",
         "x": [
          90
         ],
         "xaxis": "x2",
         "y": [
          "Protected Shallow Well"
         ],
         "yaxis": "y2"
        }
       ],
       "layout": {
        "annotations": [
         {
          "font": {
           "size": 16
          },
          "showarrow": false,
          "text": "Water source",
          "x": 0.865,
          "xanchor": "center",
          "xref": "paper",
          "y": 0.375,
          "yanchor": "bottom",
          "yref": "paper"
         },
         {
          "font": {
           "family": "<b>Times New Roman<b>",
           "size": 15
          },
          "showarrow": false,
          "text": "Water Access Points: Liberia and Sierra Leone",
          "x": 0.55,
          "xanchor": "left",
          "xref": "paper",
          "y": 1,
          "yanchor": "top",
          "yref": "paper"
         },
         {
          "align": "left",
          "font": {
           "family": "<b>Times New Roman<b>",
           "size": 10
          },
          "showarrow": false,
          "text": "\n    Liberia and Sierra Leone are two West African countries that face significant challenges<br>\n    in accessing clean water. Both countries have low access rates to safe drinking water,<br>\n    particularly in rural areas, and limited infrastructure for water supply and sanitation<br>\n    services. This has resulted in high rates of waterborne diseases and health problems,<br>\n    particularly among vulnerable populations.<br>\n    <br>\n    <b>Selected water access point</b><br>\n    Identifier: 82198<br>\n    Water source: Protected Shallow Well<br>\n    Technology: Hand Pump - Afridev<br>\n    Country: Liberia\n    \n    ",
          "x": 0.512,
          "xanchor": "left",
          "xref": "paper",
          "y": 0.93,
          "yanchor": "top",
          "yref": "paper"
         }
        ],
        "font": {
         "family": "Times New Roman"
        },
        "geo": {
         "bgcolor": "rgba(255, 255, 255, 0.0)",
         "countrycolor": "#e7d3bb",
         "domain": {
          "x": [
           0,
           0.5
          ],
          "y": [
           0,
           1
          ]
         },
         "landcolor": "#fbf7f1",
         "lataxis": {
          "range": [
           2,
           10
          ]
         },
         "lonaxis": {
          "range": [
           -15,
           -6
          ]
         },
         "scope": "africa",
         "showcountries": true,
         "showframe": false
        },
        "geo2": {
         "bgcolor": "rgba(255, 255, 255, 0.0)",
         "domain": {
          "x": [
           0,
           0.2
          ],
          "y": [
           0,
           0.7
          ]
         },
         "landcolor": "#f9f4eb",
         "scope": "africa",
         "showcountries": false,
         "showframe": false
        },
        "showlegend": false,
        "template": {
         "data": {
          "bar": [
           {
            "error_x": {
             "color": "rgb(36,36,36)"
            },
            "error_y": {
             "color": "rgb(36,36,36)"
            },
            "marker": {
             "line": {
              "color": "white",
              "width": 0.5
             },
             "pattern": {
              "fillmode": "overlay",
              "size": 10,
              "solidity": 0.2
             }
            },
            "type": "bar"
           }
          ],
          "barpolar": [
           {
            "marker": {
             "line": {
              "color": "white",
              "width": 0.5
             },
             "pattern": {
              "fillmode": "overlay",
              "size": 10,
              "solidity": 0.2
             }
            },
            "type": "barpolar"
           }
          ],
          "carpet": [
           {
            "aaxis": {
             "endlinecolor": "rgb(36,36,36)",
             "gridcolor": "white",
             "linecolor": "white",
             "minorgridcolor": "white",
             "startlinecolor": "rgb(36,36,36)"
            },
            "baxis": {
             "endlinecolor": "rgb(36,36,36)",
             "gridcolor": "white",
             "linecolor": "white",
             "minorgridcolor": "white",
             "startlinecolor": "rgb(36,36,36)"
            },
            "type": "carpet"
           }
          ],
          "choropleth": [
           {
            "colorbar": {
             "outlinewidth": 1,
             "tickcolor": "rgb(36,36,36)",
             "ticks": "outside"
            },
            "type": "choropleth"
           }
          ],
          "contour": [
           {
            "colorbar": {
             "outlinewidth": 1,
             "tickcolor": "rgb(36,36,36)",
             "ticks": "outside"
            },
            "colorscale": [
             [
              0,
              "#440154"
             ],
             [
              0.1111111111111111,
              "#482878"
             ],
             [
              0.2222222222222222,
              "#3e4989"
             ],
             [
              0.3333333333333333,
              "#31688e"
             ],
             [
              0.4444444444444444,
              "#26828e"
             ],
             [
              0.5555555555555556,
              "#1f9e89"
             ],
             [
              0.6666666666666666,
              "#35b779"
             ],
             [
              0.7777777777777778,
              "#6ece58"
             ],
             [
              0.8888888888888888,
              "#b5de2b"
             ],
             [
              1,
              "#fde725"
             ]
            ],
            "type": "contour"
           }
          ],
          "contourcarpet": [
           {
            "colorbar": {
             "outlinewidth": 1,
             "tickcolor": "rgb(36,36,36)",
             "ticks": "outside"
            },
            "type": "contourcarpet"
           }
          ],
          "heatmap": [
           {
            "colorbar": {
             "outlinewidth": 1,
             "tickcolor": "rgb(36,36,36)",
             "ticks": "outside"
            },
            "colorscale": [
             [
              0,
              "#440154"
             ],
             [
              0.1111111111111111,
              "#482878"
             ],
             [
              0.2222222222222222,
              "#3e4989"
             ],
             [
              0.3333333333333333,
              "#31688e"
             ],
             [
              0.4444444444444444,
              "#26828e"
             ],
             [
              0.5555555555555556,
              "#1f9e89"
             ],
             [
              0.6666666666666666,
              "#35b779"
             ],
             [
              0.7777777777777778,
              "#6ece58"
             ],
             [
              0.8888888888888888,
              "#b5de2b"
             ],
             [
              1,
              "#fde725"
             ]
            ],
            "type": "heatmap"
           }
          ],
          "heatmapgl": [
           {
            "colorbar": {
             "outlinewidth": 1,
             "tickcolor": "rgb(36,36,36)",
             "ticks": "outside"
            },
            "colorscale": [
             [
              0,
              "#440154"
             ],
             [
              0.1111111111111111,
              "#482878"
             ],
             [
              0.2222222222222222,
              "#3e4989"
             ],
             [
              0.3333333333333333,
              "#31688e"
             ],
             [
              0.4444444444444444,
              "#26828e"
             ],
             [
              0.5555555555555556,
              "#1f9e89"
             ],
             [
              0.6666666666666666,
              "#35b779"
             ],
             [
              0.7777777777777778,
              "#6ece58"
             ],
             [
              0.8888888888888888,
              "#b5de2b"
             ],
             [
              1,
              "#fde725"
             ]
            ],
            "type": "heatmapgl"
           }
          ],
          "histogram": [
           {
            "marker": {
             "line": {
              "color": "white",
              "width": 0.6
             }
            },
            "type": "histogram"
           }
          ],
          "histogram2d": [
           {
            "colorbar": {
             "outlinewidth": 1,
             "tickcolor": "rgb(36,36,36)",
             "ticks": "outside"
            },
            "colorscale": [
             [
              0,
              "#440154"
             ],
             [
              0.1111111111111111,
              "#482878"
             ],
             [
              0.2222222222222222,
              "#3e4989"
             ],
             [
              0.3333333333333333,
              "#31688e"
             ],
             [
              0.4444444444444444,
              "#26828e"
             ],
             [
              0.5555555555555556,
              "#1f9e89"
             ],
             [
              0.6666666666666666,
              "#35b779"
             ],
             [
              0.7777777777777778,
              "#6ece58"
             ],
             [
              0.8888888888888888,
              "#b5de2b"
             ],
             [
              1,
              "#fde725"
             ]
            ],
            "type": "histogram2d"
           }
          ],
          "histogram2dcontour": [
           {
            "colorbar": {
             "outlinewidth": 1,
             "tickcolor": "rgb(36,36,36)",
             "ticks": "outside"
            },
            "colorscale": [
             [
              0,
              "#440154"
             ],
             [
              0.1111111111111111,
              "#482878"
             ],
             [
              0.2222222222222222,
              "#3e4989"
             ],
             [
              0.3333333333333333,
              "#31688e"
             ],
             [
              0.4444444444444444,
              "#26828e"
             ],
             [
              0.5555555555555556,
              "#1f9e89"
             ],
             [
              0.6666666666666666,
              "#35b779"
             ],
             [
              0.7777777777777778,
              "#6ece58"
             ],
             [
              0.8888888888888888,
              "#b5de2b"
             ],
             [
              1,
              "#fde725"
             ]
            ],
            "type": "histogram2dcontour"
           }
          ],
          "mesh3d": [
           {
            "colorbar": {
             "outlinewidth": 1,
             "tickcolor": "rgb(36,36,36)",
             "ticks": "outside"
            },
            "type": "mesh3d"
           }
          ],
          "parcoords": [
           {
            "line": {
             "colorbar": {
              "outlinewidth": 1,
              "tickcolor": "rgb(36,36,36)",
              "ticks": "outside"
             }
            },
            "type": "parcoords"
           }
          ],
          "pie": [
           {
            "automargin": true,
            "type": "pie"
           }
          ],
          "scatter": [
           {
            "fillpattern": {
             "fillmode": "overlay",
             "size": 10,
             "solidity": 0.2
            },
            "type": "scatter"
           }
          ],
          "scatter3d": [
           {
            "line": {
             "colorbar": {
              "outlinewidth": 1,
              "tickcolor": "rgb(36,36,36)",
              "ticks": "outside"
             }
            },
            "marker": {
             "colorbar": {
              "outlinewidth": 1,
              "tickcolor": "rgb(36,36,36)",
              "ticks": "outside"
             }
            },
            "type": "scatter3d"
           }
          ],
          "scattercarpet": [
           {
            "marker": {
             "colorbar": {
              "outlinewidth": 1,
              "tickcolor": "rgb(36,36,36)",
              "ticks": "outside"
             }
            },
            "type": "scattercarpet"
           }
          ],
          "scattergeo": [
           {
            "marker": {
             "colorbar": {
              "outlinewidth": 1,
              "tickcolor": "rgb(36,36,36)",
              "ticks": "outside"
             }
            },
            "type": "scattergeo"
           }
          ],
          "scattergl": [
           {
            "marker": {
             "colorbar": {
              "outlinewidth": 1,
              "tickcolor": "rgb(36,36,36)",
              "ticks": "outside"
             }
            },
            "type": "scattergl"
           }
          ],
          "scattermapbox": [
           {
            "marker": {
             "colorbar": {
              "outlinewidth": 1,
              "tickcolor": "rgb(36,36,36)",
              "ticks": "outside"
             }
            },
            "type": "scattermapbox"
           }
          ],
          "scatterpolar": [
           {
            "marker": {
             "colorbar": {
              "outlinewidth": 1,
              "tickcolor": "rgb(36,36,36)",
              "ticks": "outside"
             }
            },
            "type": "scatterpolar"
           }
          ],
          "scatterpolargl": [
           {
            "marker": {
             "colorbar": {
              "outlinewidth": 1,
              "tickcolor": "rgb(36,36,36)",
              "ticks": "outside"
             }
            },
            "type": "scatterpolargl"
           }
          ],
          "scatterternary": [
           {
            "marker": {
             "colorbar": {
              "outlinewidth": 1,
              "tickcolor": "rgb(36,36,36)",
              "ticks": "outside"
             }
            },
            "type": "scatterternary"
           }
          ],
          "surface": [
           {
            "colorbar": {
             "outlinewidth": 1,
             "tickcolor": "rgb(36,36,36)",
             "ticks": "outside"
            },
            "colorscale": [
             [
              0,
              "#440154"
             ],
             [
              0.1111111111111111,
              "#482878"
             ],
             [
              0.2222222222222222,
              "#3e4989"
             ],
             [
              0.3333333333333333,
              "#31688e"
             ],
             [
              0.4444444444444444,
              "#26828e"
             ],
             [
              0.5555555555555556,
              "#1f9e89"
             ],
             [
              0.6666666666666666,
              "#35b779"
             ],
             [
              0.7777777777777778,
              "#6ece58"
             ],
             [
              0.8888888888888888,
              "#b5de2b"
             ],
             [
              1,
              "#fde725"
             ]
            ],
            "type": "surface"
           }
          ],
          "table": [
           {
            "cells": {
             "fill": {
              "color": "rgb(237,237,237)"
             },
             "line": {
              "color": "white"
             }
            },
            "header": {
             "fill": {
              "color": "rgb(217,217,217)"
             },
             "line": {
              "color": "white"
             }
            },
            "type": "table"
           }
          ]
         },
         "layout": {
          "annotationdefaults": {
           "arrowhead": 0,
           "arrowwidth": 1
          },
          "autotypenumbers": "strict",
          "coloraxis": {
           "colorbar": {
            "outlinewidth": 1,
            "tickcolor": "rgb(36,36,36)",
            "ticks": "outside"
           }
          },
          "colorscale": {
           "diverging": [
            [
             0,
             "rgb(103,0,31)"
            ],
            [
             0.1,
             "rgb(178,24,43)"
            ],
            [
             0.2,
             "rgb(214,96,77)"
            ],
            [
             0.3,
             "rgb(244,165,130)"
            ],
            [
             0.4,
             "rgb(253,219,199)"
            ],
            [
             0.5,
             "rgb(247,247,247)"
            ],
            [
             0.6,
             "rgb(209,229,240)"
            ],
            [
             0.7,
             "rgb(146,197,222)"
            ],
            [
             0.8,
             "rgb(67,147,195)"
            ],
            [
             0.9,
             "rgb(33,102,172)"
            ],
            [
             1,
             "rgb(5,48,97)"
            ]
           ],
           "sequential": [
            [
             0,
             "#440154"
            ],
            [
             0.1111111111111111,
             "#482878"
            ],
            [
             0.2222222222222222,
             "#3e4989"
            ],
            [
             0.3333333333333333,
             "#31688e"
            ],
            [
             0.4444444444444444,
             "#26828e"
            ],
            [
             0.5555555555555556,
             "#1f9e89"
            ],
            [
             0.6666666666666666,
             "#35b779"
            ],
            [
             0.7777777777777778,
             "#6ece58"
            ],
            [
             0.8888888888888888,
             "#b5de2b"
            ],
            [
             1,
             "#fde725"
            ]
           ],
           "sequentialminus": [
            [
             0,
             "#440154"
            ],
            [
             0.1111111111111111,
             "#482878"
            ],
            [
             0.2222222222222222,
             "#3e4989"
            ],
            [
             0.3333333333333333,
             "#31688e"
            ],
            [
             0.4444444444444444,
             "#26828e"
            ],
            [
             0.5555555555555556,
             "#1f9e89"
            ],
            [
             0.6666666666666666,
             "#35b779"
            ],
            [
             0.7777777777777778,
             "#6ece58"
            ],
            [
             0.8888888888888888,
             "#b5de2b"
            ],
            [
             1,
             "#fde725"
            ]
           ]
          },
          "colorway": [
           "#1F77B4",
           "#FF7F0E",
           "#2CA02C",
           "#D62728",
           "#9467BD",
           "#8C564B",
           "#E377C2",
           "#7F7F7F",
           "#BCBD22",
           "#17BECF"
          ],
          "font": {
           "color": "rgb(36,36,36)"
          },
          "geo": {
           "bgcolor": "white",
           "lakecolor": "white",
           "landcolor": "white",
           "showlakes": true,
           "showland": true,
           "subunitcolor": "white"
          },
          "hoverlabel": {
           "align": "left"
          },
          "hovermode": "closest",
          "mapbox": {
           "style": "light"
          },
          "paper_bgcolor": "white",
          "plot_bgcolor": "white",
          "polar": {
           "angularaxis": {
            "gridcolor": "rgb(232,232,232)",
            "linecolor": "rgb(36,36,36)",
            "showgrid": false,
            "showline": true,
            "ticks": "outside"
           },
           "bgcolor": "white",
           "radialaxis": {
            "gridcolor": "rgb(232,232,232)",
            "linecolor": "rgb(36,36,36)",
            "showgrid": false,
            "showline": true,
            "ticks": "outside"
           }
          },
          "scene": {
           "xaxis": {
            "backgroundcolor": "white",
            "gridcolor": "rgb(232,232,232)",
            "gridwidth": 2,
            "linecolor": "rgb(36,36,36)",
            "showbackground": true,
            "showgrid": false,
            "showline": true,
            "ticks": "outside",
            "zeroline": false,
            "zerolinecolor": "rgb(36,36,36)"
           },
           "yaxis": {
            "backgroundcolor": "white",
            "gridcolor": "rgb(232,232,232)",
            "gridwidth": 2,
            "linecolor": "rgb(36,36,36)",
            "showbackground": true,
            "showgrid": false,
            "showline": true,
            "ticks": "outside",
            "zeroline": false,
            "zerolinecolor": "rgb(36,36,36)"
           },
           "zaxis": {
            "backgroundcolor": "white",
            "gridcolor": "rgb(232,232,232)",
            "gridwidth": 2,
            "linecolor": "rgb(36,36,36)",
            "showbackground": true,
            "showgrid": false,
            "showline": true,
            "ticks": "outside",
            "zeroline": false,
            "zerolinecolor": "rgb(36,36,36)"
           }
          },
          "shapedefaults": {
           "fillcolor": "black",
           "line": {
            "width": 0
           },
           "opacity": 0.3
          },
          "ternary": {
           "aaxis": {
            "gridcolor": "rgb(232,232,232)",
            "linecolor": "rgb(36,36,36)",
            "showgrid": false,
            "showline": true,
            "ticks": "outside"
           },
           "baxis": {
            "gridcolor": "rgb(232,232,232)",
            "linecolor": "rgb(36,36,36)",
            "showgrid": false,
            "showline": true,
            "ticks": "outside"
           },
           "bgcolor": "white",
           "caxis": {
            "gridcolor": "rgb(232,232,232)",
            "linecolor": "rgb(36,36,36)",
            "showgrid": false,
            "showline": true,
            "ticks": "outside"
           }
          },
          "title": {
           "x": 0.05
          },
          "xaxis": {
           "automargin": true,
           "gridcolor": "rgb(232,232,232)",
           "linecolor": "rgb(36,36,36)",
           "showgrid": false,
           "showline": true,
           "ticks": "outside",
           "title": {
            "standoff": 15
           },
           "zeroline": false,
           "zerolinecolor": "rgb(36,36,36)"
          },
          "yaxis": {
           "automargin": true,
           "gridcolor": "rgb(232,232,232)",
           "linecolor": "rgb(36,36,36)",
           "showgrid": false,
           "showline": true,
           "ticks": "outside",
           "title": {
            "standoff": 15
           },
           "zeroline": false,
           "zerolinecolor": "rgb(36,36,36)"
          }
         }
        },
        "xaxis": {
         "anchor": "y",
         "domain": [
          0.73,
          1
         ]
        },
        "xaxis2": {
         "anchor": "y2",
         "domain": [
          0.73,
          1
         ],
         "title": {
          "font": {
           "size": 10
          },
          "text": "Number of Access Points"
         }
        },
        "yaxis": {
         "anchor": "x",
         "domain": [
          0.625,
          1
         ]
        },
        "yaxis2": {
         "anchor": "x2",
         "domain": [
          0,
          0.375
         ]
        }
       }
      },
      "text/html": [
       "<div>                            <div id=\"00e0dbf2-6310-4eec-8481-c11e5194a3fb\" class=\"plotly-graph-div\" style=\"height:525px; width:100%;\"></div>            <script type=\"text/javascript\">                require([\"plotly\"], function(Plotly) {                    window.PLOTLYENV=window.PLOTLYENV || {};                                    if (document.getElementById(\"00e0dbf2-6310-4eec-8481-c11e5194a3fb\")) {                    Plotly.newPlot(                        \"00e0dbf2-6310-4eec-8481-c11e5194a3fb\",                        [{\"geo\":\"geo\",\"hoverinfo\":\"none\",\"lat\":[7.943277,9.233856,6.27001,8.438398,6.976923,8.846142,7.115437,6.477652,8.69802734,4.671268333333333,6.496429,6.252376,8.337292,6.062211,6.252324,6.535885,8.412849,7.9187596,4.422383,7.969012,8.339803,7.01129455,5.20222,8.041014,4.409673333333333,5.15062982,7.36927,7.85685354,8.39744003,8.846318,8.60097723,6.566254,8.69900559,7.10511951,6.408103333333334,9.080839914769708,7.654353,8.887577,7.233973333333334,7.98027,8.45946827,6.350195,6.269576,8.47953319,8.757443,6.417619999999999,9.13837891,8.884274,8.420779,8.055591811941792,8.294513,7.854125,8.656650191672464,8.323817,9.59377202,8.32772,5.899556172241573,8.148053,9.59247256,9.069368,6.007418,6.04038,7.362757,8.70598167,6.270860000000001,6.38545,6.2717,6.022329999999999,5.881443,6.33123932,9.59500454,6.66254216,9.04861915,6.44620229,8.786984,7.12536217,9.03475774,8.787241411093039,9.371347,6.189887,7.47702753,6.809563333333333,7.164125,6.332415,6.109028333333333,8.303675,7.615781,5.119762,8.949934376751361,8.592224,7.2866179,7.0204108,7.163971,6.124705,5.007581666666667,5.803354,6.407485,7.966309,8.44643851,8.773053,7.87501,6.688259,7.465931,6.163695,8.753648965550754,6.33816314,6.423605,8.74550018,4.949253333333333,6.986718333333332,9.054633,7.982023,7.793375,7.88208149,8.18662534,7.30004555,5.609604,7.354443,7.495244,7.4127579,8.762762039222089,7.46359213,8.322283333,7.05003507,7.477268,7.94187,6.757483],\"lon\":[-11.74318,-11.19589,-10.701981,-13.158348,-9.288272,-11.750688,-11.304117,-10.804944,-12.5714429,-8.236921666666666,-10.875316,-10.703826,-13.01547,-8.135658,-10.37641,-10.358767,-9.759267,-10.80980955,-7.824264,-11.761979,-11.141104,-9.48971702,-7.869293333333333,-11.756483,-7.686361666666666,-7.97311566,-11.4088335,-11.33705822,-11.99484923,-12.430577,-13.19404587,-10.554232,-10.91747835,-8.41810878,-8.557751666666666,-12.096482151774,-11.964717,-12.047112,-8.983524999999998,-12.162188,-13.17431252,-9.745456,-10.719611,-13.24953585,-11.966362,-9.575711666666669,-12.81291938,-12.037313,-9.827919,-11.106806193363168,-12.746309,-11.211766,-12.66836580108949,-13.048223,-11.55048392,-9.951792,-10.037630877538271,-10.79874,-11.55380373,-12.631141,-9.900681,-9.282484,-8.711536,-12.67758181,-10.34499,-10.107121666666666,-10.68185,-9.750846666666666,-10.052335,-10.73793632,-11.54477278,-10.78389584,-12.77021508,-10.60844371,-12.298173,-8.6339265,-12.50299212,-13.15339946887437,-12.257441,-10.499837,-11.21849738,-9.937318333333334,-9.546106,-10.737108,-9.746628333333332,-12.793704,-12.14116,-7.699973,-12.703182115762024,-11.382939,-11.63658568,-11.38116239,-9.546001,-10.180473333333332,-9.039256666666668,-9.76281,-10.424211,-11.724294,-13.24637779,-12.791102,-11.195932,-11.120802,-11.239187,-8.048158333333333,-11.81417377155231,-10.7551256,-10.616889,-12.26555224,-7.8969966666666656,-9.478026666666668,-11.963577,-9.463816,-12.298175,-11.1814261,-12.52309388,-11.5969513,-9.631125,-11.686512,-11.924866,-11.40693337,-12.781342168871523,-11.63461413,-13.04896667,-9.06354779,-12.525726,-11.73119,-10.800309],\"marker\":{\"color\":\"#db9862\",\"opacity\":0.5},\"type\":\"scattergeo\"},{\"autocolorscale\":false,\"colorscale\":[[0,\"#58524e\"],[1,\"#58524e\"]],\"geo\":\"geo2\",\"hoverinfo\":\"none\",\"locationmode\":\"country names\",\"locations\":[\"Sierra Leone\",\"Sierra Leone\",\"Liberia\",\"Sierra Leone\",\"Liberia\",\"Sierra Leone\",\"Liberia\",\"Liberia\",\"Sierra Leone\",\"Liberia\",\"Liberia\",\"Liberia\",\"Sierra Leone\",\"Liberia\",\"Liberia\",\"Liberia\",\"Liberia\",\"Sierra Leone\",\"Liberia\",\"Sierra Leone\",\"Sierra Leone\",\"Liberia\",\"Liberia\",\"Sierra Leone\",\"Liberia\",\"Liberia\",\"Sierra Leone\",\"Sierra Leone\",\"Sierra Leone\",\"Sierra Leone\",\"Sierra Leone\",\"Liberia\",\"Sierra Leone\",\"Liberia\",\"Liberia\",\"Sierra Leone\",\"Sierra Leone\",\"Sierra Leone\",\"Liberia\",\"Sierra Leone\",\"Sierra Leone\",\"Liberia\",\"Liberia\",\"Sierra Leone\",\"Sierra Leone\",\"Liberia\",\"Sierra Leone\",\"Sierra Leone\",\"Liberia\",\"Sierra Leone\",\"Sierra Leone\",\"Sierra Leone\",\"Sierra Leone\",\"Sierra Leone\",\"Sierra Leone\",\"Liberia\",\"Liberia\",\"Sierra Leone\",\"Sierra Leone\",\"Sierra Leone\",\"Liberia\",\"Liberia\",\"Liberia\",\"Sierra Leone\",\"Liberia\",\"Liberia\",\"Liberia\",\"Liberia\",\"Liberia\",\"Liberia\",\"Sierra Leone\",\"Liberia\",\"Sierra Leone\",\"Liberia\",\"Sierra Leone\",\"Liberia\",\"Sierra Leone\",\"Sierra Leone\",\"Sierra Leone\",\"Liberia\",\"Sierra Leone\",\"Liberia\",\"Liberia\",\"Liberia\",\"Liberia\",\"Sierra Leone\",\"Sierra Leone\",\"Liberia\",\"Sierra Leone\",\"Sierra Leone\",\"Sierra Leone\",\"Sierra Leone\",\"Liberia\",\"Liberia\",\"Liberia\",\"Liberia\",\"Liberia\",\"Sierra Leone\",\"Sierra Leone\",\"Sierra Leone\",\"Sierra Leone\",\"Liberia\",\"Sierra Leone\",\"Liberia\",\"Sierra Leone\",\"Liberia\",\"Liberia\",\"Sierra Leone\",\"Liberia\",\"Liberia\",\"Sierra Leone\",\"Liberia\",\"Sierra Leone\",\"Sierra Leone\",\"Sierra Leone\",\"Sierra Leone\",\"Liberia\",\"Sierra Leone\",\"Sierra Leone\",\"Sierra Leone\",\"Sierra Leone\",\"Sierra Leone\",\"Sierra Leone\",\"Liberia\",\"Sierra Leone\",\"Sierra Leone\",\"Liberia\"],\"showscale\":false,\"text\":[\"Sierra Leone\",\"Sierra Leone\",\"Liberia\",\"Sierra Leone\",\"Liberia\",\"Sierra Leone\",\"Liberia\",\"Liberia\",\"Sierra Leone\",\"Liberia\",\"Liberia\",\"Liberia\",\"Sierra Leone\",\"Liberia\",\"Liberia\",\"Liberia\",\"Liberia\",\"Sierra Leone\",\"Liberia\",\"Sierra Leone\",\"Sierra Leone\",\"Liberia\",\"Liberia\",\"Sierra Leone\",\"Liberia\",\"Liberia\",\"Sierra Leone\",\"Sierra Leone\",\"Sierra Leone\",\"Sierra Leone\",\"Sierra Leone\",\"Liberia\",\"Sierra Leone\",\"Liberia\",\"Liberia\",\"Sierra Leone\",\"Sierra Leone\",\"Sierra Leone\",\"Liberia\",\"Sierra Leone\",\"Sierra Leone\",\"Liberia\",\"Liberia\",\"Sierra Leone\",\"Sierra Leone\",\"Liberia\",\"Sierra Leone\",\"Sierra Leone\",\"Liberia\",\"Sierra Leone\",\"Sierra Leone\",\"Sierra Leone\",\"Sierra Leone\",\"Sierra Leone\",\"Sierra Leone\",\"Liberia\",\"Liberia\",\"Sierra Leone\",\"Sierra Leone\",\"Sierra Leone\",\"Liberia\",\"Liberia\",\"Liberia\",\"Sierra Leone\",\"Liberia\",\"Liberia\",\"Liberia\",\"Liberia\",\"Liberia\",\"Liberia\",\"Sierra Leone\",\"Liberia\",\"Sierra Leone\",\"Liberia\",\"Sierra Leone\",\"Liberia\",\"Sierra Leone\",\"Sierra Leone\",\"Sierra Leone\",\"Liberia\",\"Sierra Leone\",\"Liberia\",\"Liberia\",\"Liberia\",\"Liberia\",\"Sierra Leone\",\"Sierra Leone\",\"Liberia\",\"Sierra Leone\",\"Sierra Leone\",\"Sierra Leone\",\"Sierra Leone\",\"Liberia\",\"Liberia\",\"Liberia\",\"Liberia\",\"Liberia\",\"Sierra Leone\",\"Sierra Leone\",\"Sierra Leone\",\"Sierra Leone\",\"Liberia\",\"Sierra Leone\",\"Liberia\",\"Sierra Leone\",\"Liberia\",\"Liberia\",\"Sierra Leone\",\"Liberia\",\"Liberia\",\"Sierra Leone\",\"Liberia\",\"Sierra Leone\",\"Sierra Leone\",\"Sierra Leone\",\"Sierra Leone\",\"Liberia\",\"Sierra Leone\",\"Sierra Leone\",\"Sierra Leone\",\"Sierra Leone\",\"Sierra Leone\",\"Sierra Leone\",\"Liberia\",\"Sierra Leone\",\"Sierra Leone\",\"Liberia\"],\"z\":[1,1,1,1,1,1,1,1,1,1,1,1,1,1,1,1,1,1,1,1,1,1,1,1,1,1,1,1,1,1,1,1,1,1,1,1,1,1,1,1,1,1,1,1,1,1,1,1,1,1,1,1,1,1,1,1,1,1,1,1,1,1,1,1,1,1,1,1,1,1,1,1,1,1,1,1,1,1,1,1,1,1,1,1,1,1,1,1,1,1,1,1,1,1,1,1,1,1,1,1,1,1,1,1,1,1,1,1,1,1,1,1,1,1,1,1,1,1,1,1,1,1,1,1,1,1,1],\"type\":\"choropleth\"},{\"hoverinfo\":\"none\",\"lat\":[5.007581666666667],\"lon\":[-9.039256666666668],\"marker\":{\"color\":\"#a6523c\",\"opacity\":1,\"size\":10},\"name\":\"Highlighted point\",\"type\":\"scattergeo\",\"geo\":\"geo\"},{\"hoverinfo\":\"none\",\"lat\":[5.007581666666667],\"lon\":[-9.039256666666668],\"marker\":{\"color\":\"#a6523c\",\"opacity\":0.5,\"size\":25},\"name\":\"Highlighted point\",\"type\":\"scattergeo\",\"geo\":\"geo\"},{\"hoverinfo\":\"none\",\"lat\":[5.007581666666667],\"lon\":[-9.039256666666668],\"marker\":{\"color\":\"#a6523c\",\"opacity\":0.25,\"size\":50},\"name\":\"Highlighted point\",\"type\":\"scattergeo\",\"geo\":\"geo\"},{\"hoverinfo\":\"none\",\"lat\":[5.007581666666667],\"lon\":[-9.039256666666668],\"marker\":{\"color\":\"#a6523c\",\"opacity\":0.05,\"size\":100},\"name\":\"Highlighted point\",\"type\":\"scattergeo\",\"geo\":\"geo\"},{\"hoverinfo\":\"none\",\"marker\":{\"color\":\"#b29e8f\"},\"orientation\":\"h\",\"text\":[\"1\"],\"x\":[1],\"y\":[\"Surface Water (River\\u002fStream\\u002fLake\\u002fPond\\u002fDam)\"],\"type\":\"bar\",\"xaxis\":\"x2\",\"yaxis\":\"y2\"},{\"hoverinfo\":\"none\",\"marker\":{\"color\":\"#b29e8f\"},\"orientation\":\"h\",\"text\":[\"1\"],\"x\":[1],\"y\":[\"Delivered Water\"],\"type\":\"bar\",\"xaxis\":\"x2\",\"yaxis\":\"y2\"},{\"hoverinfo\":\"none\",\"marker\":{\"color\":\"#b29e8f\"},\"orientation\":\"h\",\"text\":[\"2\"],\"x\":[2],\"y\":[\"Sand or Sub-surface Dam\"],\"type\":\"bar\",\"xaxis\":\"x2\",\"yaxis\":\"y2\"},{\"hoverinfo\":\"none\",\"marker\":{\"color\":\"#b29e8f\"},\"orientation\":\"h\",\"text\":[\"13\"],\"x\":[13],\"y\":[\"Unprotected Shallow Well\"],\"type\":\"bar\",\"xaxis\":\"x2\",\"yaxis\":\"y2\"},{\"hoverinfo\":\"none\",\"marker\":{\"color\":\"#b29e8f\"},\"orientation\":\"h\",\"text\":[\"20\"],\"x\":[20],\"y\":[\"Borehole\"],\"type\":\"bar\",\"xaxis\":\"x2\",\"yaxis\":\"y2\"},{\"hoverinfo\":\"none\",\"marker\":{\"color\":\"#a6523c\"},\"orientation\":\"h\",\"text\":[\"90\"],\"x\":[90],\"y\":[\"Protected Shallow Well\"],\"type\":\"bar\",\"xaxis\":\"x2\",\"yaxis\":\"y2\"}],                        {\"template\":{\"data\":{\"barpolar\":[{\"marker\":{\"line\":{\"color\":\"white\",\"width\":0.5},\"pattern\":{\"fillmode\":\"overlay\",\"size\":10,\"solidity\":0.2}},\"type\":\"barpolar\"}],\"bar\":[{\"error_x\":{\"color\":\"rgb(36,36,36)\"},\"error_y\":{\"color\":\"rgb(36,36,36)\"},\"marker\":{\"line\":{\"color\":\"white\",\"width\":0.5},\"pattern\":{\"fillmode\":\"overlay\",\"size\":10,\"solidity\":0.2}},\"type\":\"bar\"}],\"carpet\":[{\"aaxis\":{\"endlinecolor\":\"rgb(36,36,36)\",\"gridcolor\":\"white\",\"linecolor\":\"white\",\"minorgridcolor\":\"white\",\"startlinecolor\":\"rgb(36,36,36)\"},\"baxis\":{\"endlinecolor\":\"rgb(36,36,36)\",\"gridcolor\":\"white\",\"linecolor\":\"white\",\"minorgridcolor\":\"white\",\"startlinecolor\":\"rgb(36,36,36)\"},\"type\":\"carpet\"}],\"choropleth\":[{\"colorbar\":{\"outlinewidth\":1,\"tickcolor\":\"rgb(36,36,36)\",\"ticks\":\"outside\"},\"type\":\"choropleth\"}],\"contourcarpet\":[{\"colorbar\":{\"outlinewidth\":1,\"tickcolor\":\"rgb(36,36,36)\",\"ticks\":\"outside\"},\"type\":\"contourcarpet\"}],\"contour\":[{\"colorbar\":{\"outlinewidth\":1,\"tickcolor\":\"rgb(36,36,36)\",\"ticks\":\"outside\"},\"colorscale\":[[0.0,\"#440154\"],[0.1111111111111111,\"#482878\"],[0.2222222222222222,\"#3e4989\"],[0.3333333333333333,\"#31688e\"],[0.4444444444444444,\"#26828e\"],[0.5555555555555556,\"#1f9e89\"],[0.6666666666666666,\"#35b779\"],[0.7777777777777778,\"#6ece58\"],[0.8888888888888888,\"#b5de2b\"],[1.0,\"#fde725\"]],\"type\":\"contour\"}],\"heatmapgl\":[{\"colorbar\":{\"outlinewidth\":1,\"tickcolor\":\"rgb(36,36,36)\",\"ticks\":\"outside\"},\"colorscale\":[[0.0,\"#440154\"],[0.1111111111111111,\"#482878\"],[0.2222222222222222,\"#3e4989\"],[0.3333333333333333,\"#31688e\"],[0.4444444444444444,\"#26828e\"],[0.5555555555555556,\"#1f9e89\"],[0.6666666666666666,\"#35b779\"],[0.7777777777777778,\"#6ece58\"],[0.8888888888888888,\"#b5de2b\"],[1.0,\"#fde725\"]],\"type\":\"heatmapgl\"}],\"heatmap\":[{\"colorbar\":{\"outlinewidth\":1,\"tickcolor\":\"rgb(36,36,36)\",\"ticks\":\"outside\"},\"colorscale\":[[0.0,\"#440154\"],[0.1111111111111111,\"#482878\"],[0.2222222222222222,\"#3e4989\"],[0.3333333333333333,\"#31688e\"],[0.4444444444444444,\"#26828e\"],[0.5555555555555556,\"#1f9e89\"],[0.6666666666666666,\"#35b779\"],[0.7777777777777778,\"#6ece58\"],[0.8888888888888888,\"#b5de2b\"],[1.0,\"#fde725\"]],\"type\":\"heatmap\"}],\"histogram2dcontour\":[{\"colorbar\":{\"outlinewidth\":1,\"tickcolor\":\"rgb(36,36,36)\",\"ticks\":\"outside\"},\"colorscale\":[[0.0,\"#440154\"],[0.1111111111111111,\"#482878\"],[0.2222222222222222,\"#3e4989\"],[0.3333333333333333,\"#31688e\"],[0.4444444444444444,\"#26828e\"],[0.5555555555555556,\"#1f9e89\"],[0.6666666666666666,\"#35b779\"],[0.7777777777777778,\"#6ece58\"],[0.8888888888888888,\"#b5de2b\"],[1.0,\"#fde725\"]],\"type\":\"histogram2dcontour\"}],\"histogram2d\":[{\"colorbar\":{\"outlinewidth\":1,\"tickcolor\":\"rgb(36,36,36)\",\"ticks\":\"outside\"},\"colorscale\":[[0.0,\"#440154\"],[0.1111111111111111,\"#482878\"],[0.2222222222222222,\"#3e4989\"],[0.3333333333333333,\"#31688e\"],[0.4444444444444444,\"#26828e\"],[0.5555555555555556,\"#1f9e89\"],[0.6666666666666666,\"#35b779\"],[0.7777777777777778,\"#6ece58\"],[0.8888888888888888,\"#b5de2b\"],[1.0,\"#fde725\"]],\"type\":\"histogram2d\"}],\"histogram\":[{\"marker\":{\"line\":{\"color\":\"white\",\"width\":0.6}},\"type\":\"histogram\"}],\"mesh3d\":[{\"colorbar\":{\"outlinewidth\":1,\"tickcolor\":\"rgb(36,36,36)\",\"ticks\":\"outside\"},\"type\":\"mesh3d\"}],\"parcoords\":[{\"line\":{\"colorbar\":{\"outlinewidth\":1,\"tickcolor\":\"rgb(36,36,36)\",\"ticks\":\"outside\"}},\"type\":\"parcoords\"}],\"pie\":[{\"automargin\":true,\"type\":\"pie\"}],\"scatter3d\":[{\"line\":{\"colorbar\":{\"outlinewidth\":1,\"tickcolor\":\"rgb(36,36,36)\",\"ticks\":\"outside\"}},\"marker\":{\"colorbar\":{\"outlinewidth\":1,\"tickcolor\":\"rgb(36,36,36)\",\"ticks\":\"outside\"}},\"type\":\"scatter3d\"}],\"scattercarpet\":[{\"marker\":{\"colorbar\":{\"outlinewidth\":1,\"tickcolor\":\"rgb(36,36,36)\",\"ticks\":\"outside\"}},\"type\":\"scattercarpet\"}],\"scattergeo\":[{\"marker\":{\"colorbar\":{\"outlinewidth\":1,\"tickcolor\":\"rgb(36,36,36)\",\"ticks\":\"outside\"}},\"type\":\"scattergeo\"}],\"scattergl\":[{\"marker\":{\"colorbar\":{\"outlinewidth\":1,\"tickcolor\":\"rgb(36,36,36)\",\"ticks\":\"outside\"}},\"type\":\"scattergl\"}],\"scattermapbox\":[{\"marker\":{\"colorbar\":{\"outlinewidth\":1,\"tickcolor\":\"rgb(36,36,36)\",\"ticks\":\"outside\"}},\"type\":\"scattermapbox\"}],\"scatterpolargl\":[{\"marker\":{\"colorbar\":{\"outlinewidth\":1,\"tickcolor\":\"rgb(36,36,36)\",\"ticks\":\"outside\"}},\"type\":\"scatterpolargl\"}],\"scatterpolar\":[{\"marker\":{\"colorbar\":{\"outlinewidth\":1,\"tickcolor\":\"rgb(36,36,36)\",\"ticks\":\"outside\"}},\"type\":\"scatterpolar\"}],\"scatter\":[{\"fillpattern\":{\"fillmode\":\"overlay\",\"size\":10,\"solidity\":0.2},\"type\":\"scatter\"}],\"scatterternary\":[{\"marker\":{\"colorbar\":{\"outlinewidth\":1,\"tickcolor\":\"rgb(36,36,36)\",\"ticks\":\"outside\"}},\"type\":\"scatterternary\"}],\"surface\":[{\"colorbar\":{\"outlinewidth\":1,\"tickcolor\":\"rgb(36,36,36)\",\"ticks\":\"outside\"},\"colorscale\":[[0.0,\"#440154\"],[0.1111111111111111,\"#482878\"],[0.2222222222222222,\"#3e4989\"],[0.3333333333333333,\"#31688e\"],[0.4444444444444444,\"#26828e\"],[0.5555555555555556,\"#1f9e89\"],[0.6666666666666666,\"#35b779\"],[0.7777777777777778,\"#6ece58\"],[0.8888888888888888,\"#b5de2b\"],[1.0,\"#fde725\"]],\"type\":\"surface\"}],\"table\":[{\"cells\":{\"fill\":{\"color\":\"rgb(237,237,237)\"},\"line\":{\"color\":\"white\"}},\"header\":{\"fill\":{\"color\":\"rgb(217,217,217)\"},\"line\":{\"color\":\"white\"}},\"type\":\"table\"}]},\"layout\":{\"annotationdefaults\":{\"arrowhead\":0,\"arrowwidth\":1},\"autotypenumbers\":\"strict\",\"coloraxis\":{\"colorbar\":{\"outlinewidth\":1,\"tickcolor\":\"rgb(36,36,36)\",\"ticks\":\"outside\"}},\"colorscale\":{\"diverging\":[[0.0,\"rgb(103,0,31)\"],[0.1,\"rgb(178,24,43)\"],[0.2,\"rgb(214,96,77)\"],[0.3,\"rgb(244,165,130)\"],[0.4,\"rgb(253,219,199)\"],[0.5,\"rgb(247,247,247)\"],[0.6,\"rgb(209,229,240)\"],[0.7,\"rgb(146,197,222)\"],[0.8,\"rgb(67,147,195)\"],[0.9,\"rgb(33,102,172)\"],[1.0,\"rgb(5,48,97)\"]],\"sequential\":[[0.0,\"#440154\"],[0.1111111111111111,\"#482878\"],[0.2222222222222222,\"#3e4989\"],[0.3333333333333333,\"#31688e\"],[0.4444444444444444,\"#26828e\"],[0.5555555555555556,\"#1f9e89\"],[0.6666666666666666,\"#35b779\"],[0.7777777777777778,\"#6ece58\"],[0.8888888888888888,\"#b5de2b\"],[1.0,\"#fde725\"]],\"sequentialminus\":[[0.0,\"#440154\"],[0.1111111111111111,\"#482878\"],[0.2222222222222222,\"#3e4989\"],[0.3333333333333333,\"#31688e\"],[0.4444444444444444,\"#26828e\"],[0.5555555555555556,\"#1f9e89\"],[0.6666666666666666,\"#35b779\"],[0.7777777777777778,\"#6ece58\"],[0.8888888888888888,\"#b5de2b\"],[1.0,\"#fde725\"]]},\"colorway\":[\"#1F77B4\",\"#FF7F0E\",\"#2CA02C\",\"#D62728\",\"#9467BD\",\"#8C564B\",\"#E377C2\",\"#7F7F7F\",\"#BCBD22\",\"#17BECF\"],\"font\":{\"color\":\"rgb(36,36,36)\"},\"geo\":{\"bgcolor\":\"white\",\"lakecolor\":\"white\",\"landcolor\":\"white\",\"showlakes\":true,\"showland\":true,\"subunitcolor\":\"white\"},\"hoverlabel\":{\"align\":\"left\"},\"hovermode\":\"closest\",\"mapbox\":{\"style\":\"light\"},\"paper_bgcolor\":\"white\",\"plot_bgcolor\":\"white\",\"polar\":{\"angularaxis\":{\"gridcolor\":\"rgb(232,232,232)\",\"linecolor\":\"rgb(36,36,36)\",\"showgrid\":false,\"showline\":true,\"ticks\":\"outside\"},\"bgcolor\":\"white\",\"radialaxis\":{\"gridcolor\":\"rgb(232,232,232)\",\"linecolor\":\"rgb(36,36,36)\",\"showgrid\":false,\"showline\":true,\"ticks\":\"outside\"}},\"scene\":{\"xaxis\":{\"backgroundcolor\":\"white\",\"gridcolor\":\"rgb(232,232,232)\",\"gridwidth\":2,\"linecolor\":\"rgb(36,36,36)\",\"showbackground\":true,\"showgrid\":false,\"showline\":true,\"ticks\":\"outside\",\"zeroline\":false,\"zerolinecolor\":\"rgb(36,36,36)\"},\"yaxis\":{\"backgroundcolor\":\"white\",\"gridcolor\":\"rgb(232,232,232)\",\"gridwidth\":2,\"linecolor\":\"rgb(36,36,36)\",\"showbackground\":true,\"showgrid\":false,\"showline\":true,\"ticks\":\"outside\",\"zeroline\":false,\"zerolinecolor\":\"rgb(36,36,36)\"},\"zaxis\":{\"backgroundcolor\":\"white\",\"gridcolor\":\"rgb(232,232,232)\",\"gridwidth\":2,\"linecolor\":\"rgb(36,36,36)\",\"showbackground\":true,\"showgrid\":false,\"showline\":true,\"ticks\":\"outside\",\"zeroline\":false,\"zerolinecolor\":\"rgb(36,36,36)\"}},\"shapedefaults\":{\"fillcolor\":\"black\",\"line\":{\"width\":0},\"opacity\":0.3},\"ternary\":{\"aaxis\":{\"gridcolor\":\"rgb(232,232,232)\",\"linecolor\":\"rgb(36,36,36)\",\"showgrid\":false,\"showline\":true,\"ticks\":\"outside\"},\"baxis\":{\"gridcolor\":\"rgb(232,232,232)\",\"linecolor\":\"rgb(36,36,36)\",\"showgrid\":false,\"showline\":true,\"ticks\":\"outside\"},\"bgcolor\":\"white\",\"caxis\":{\"gridcolor\":\"rgb(232,232,232)\",\"linecolor\":\"rgb(36,36,36)\",\"showgrid\":false,\"showline\":true,\"ticks\":\"outside\"}},\"title\":{\"x\":0.05},\"xaxis\":{\"automargin\":true,\"gridcolor\":\"rgb(232,232,232)\",\"linecolor\":\"rgb(36,36,36)\",\"showgrid\":false,\"showline\":true,\"ticks\":\"outside\",\"title\":{\"standoff\":15},\"zeroline\":false,\"zerolinecolor\":\"rgb(36,36,36)\"},\"yaxis\":{\"automargin\":true,\"gridcolor\":\"rgb(232,232,232)\",\"linecolor\":\"rgb(36,36,36)\",\"showgrid\":false,\"showline\":true,\"ticks\":\"outside\",\"title\":{\"standoff\":15},\"zeroline\":false,\"zerolinecolor\":\"rgb(36,36,36)\"}}},\"geo\":{\"bgcolor\":\"rgba(255, 255, 255, 0.0)\",\"countrycolor\":\"#e7d3bb\",\"domain\":{\"x\":[0,0.5],\"y\":[0,1]},\"landcolor\":\"#fbf7f1\",\"lataxis\":{\"range\":[2,10]},\"lonaxis\":{\"range\":[-15,-6]},\"scope\":\"africa\",\"showcountries\":true,\"showframe\":false},\"xaxis\":{\"anchor\":\"y\",\"domain\":[0.73,1.0]},\"yaxis\":{\"anchor\":\"x\",\"domain\":[0.625,1.0]},\"geo2\":{\"bgcolor\":\"rgba(255, 255, 255, 0.0)\",\"domain\":{\"x\":[0,0.2],\"y\":[0,0.7]},\"landcolor\":\"#f9f4eb\",\"scope\":\"africa\",\"showcountries\":false,\"showframe\":false},\"xaxis2\":{\"anchor\":\"y2\",\"domain\":[0.73,1.0],\"title\":{\"font\":{\"size\":10},\"text\":\"Number of Access Points\"}},\"yaxis2\":{\"anchor\":\"x2\",\"domain\":[0.0,0.375]},\"annotations\":[{\"font\":{\"size\":16},\"showarrow\":false,\"text\":\"Water source\",\"x\":0.865,\"xanchor\":\"center\",\"xref\":\"paper\",\"y\":0.375,\"yanchor\":\"bottom\",\"yref\":\"paper\"},{\"font\":{\"family\":\"\\u003cb\\u003eTimes New Roman\\u003cb\\u003e\",\"size\":15},\"showarrow\":false,\"text\":\"Water Access Points: Liberia and Sierra Leone\",\"x\":0.55,\"xanchor\":\"left\",\"xref\":\"paper\",\"y\":1,\"yanchor\":\"top\",\"yref\":\"paper\"},{\"align\":\"left\",\"font\":{\"family\":\"\\u003cb\\u003eTimes New Roman\\u003cb\\u003e\",\"size\":10},\"showarrow\":false,\"text\":\"\\n    Liberia and Sierra Leone are two West African countries that face significant challenges\\u003cbr\\u003e\\n    in accessing clean water. Both countries have low access rates to safe drinking water,\\u003cbr\\u003e\\n    particularly in rural areas, and limited infrastructure for water supply and sanitation\\u003cbr\\u003e\\n    services. This has resulted in high rates of waterborne diseases and health problems,\\u003cbr\\u003e\\n    particularly among vulnerable populations.\\u003cbr\\u003e\\n    \\u003cbr\\u003e\\n    \\u003cb\\u003eSelected water access point\\u003c\\u002fb\\u003e\\u003cbr\\u003e\\n    Identifier: 82198\\u003cbr\\u003e\\n    Water source: Protected Shallow Well\\u003cbr\\u003e\\n    Technology: Hand Pump - Afridev\\u003cbr\\u003e\\n    Country: Liberia\\n    \\n    \",\"x\":0.512,\"xanchor\":\"left\",\"xref\":\"paper\",\"y\":0.93,\"yanchor\":\"top\",\"yref\":\"paper\"}],\"font\":{\"family\":\"Times New Roman\"},\"showlegend\":false},                        {\"responsive\": true}                    ).then(function(){\n",
       "                            \n",
       "var gd = document.getElementById('00e0dbf2-6310-4eec-8481-c11e5194a3fb');\n",
       "var x = new MutationObserver(function (mutations, observer) {{\n",
       "        var display = window.getComputedStyle(gd).display;\n",
       "        if (!display || display === 'none') {{\n",
       "            console.log([gd, 'removed!']);\n",
       "            Plotly.purge(gd);\n",
       "            observer.disconnect();\n",
       "        }}\n",
       "}});\n",
       "\n",
       "// Listen for the removal of the full notebook cells\n",
       "var notebookContainer = gd.closest('#notebook-container');\n",
       "if (notebookContainer) {{\n",
       "    x.observe(notebookContainer, {childList: true});\n",
       "}}\n",
       "\n",
       "// Listen for the clearing of the current output cell\n",
       "var outputEl = gd.closest('.output');\n",
       "if (outputEl) {{\n",
       "    x.observe(outputEl, {childList: true});\n",
       "}}\n",
       "\n",
       "                        })                };                });            </script>        </div>"
      ]
     },
     "metadata": {},
     "output_type": "display_data"
    }
   ],
   "source": [
    "### Extract the information from the id_ above and store it in a dictionary\n",
    "info = water_points[water_points.id == id_].to_dict(orient='records')[0]\n",
    "\n",
    "# Initialize the figure, but this time, make use of the make_subplots function of the plotly.subplots interface\n",
    "# Specify the following parameters:\n",
    "# - Number of rows: 2\n",
    "# - Number of columns: 2\n",
    "# - Column widths: 0.7, 0.3\n",
    "# - Explore the specs parameter and provide it with the correct values such that it allows both scattergeo and xy plots.\n",
    "\n",
    "fig = make_subplots(rows=2, cols=2, \n",
    "                    specs=[[{'type': 'scattergeo'},{'type': 'xy'}],\n",
    "                           [{'type': 'scattergeo'},{'type': 'xy'}]],\n",
    "                   column_widths=[0.7, 0.3],\n",
    "                   subplot_titles=(\"\", \"\", \"\", \"Water source\"))\n",
    "\n",
    "# Add the general plot that highlights the locations of water access points using the Scattergeo object\n",
    "# the marker color is equal to  \"#db9862\" and the opacity was set to 0.5\n",
    "# give the geo attribute the value 'geo'\n",
    "# put the figure on row 1 column 1\n",
    "fig.add_trace(\n",
    "    go.Scattergeo(\n",
    "        lon = water_points['lon'],\n",
    "        lat = water_points['lat'],\n",
    "        hoverinfo= 'none',\n",
    "        marker=dict(color=\"#db9862\", opacity=0.5),\n",
    "        geo='geo'\n",
    "    ),\n",
    "    row=1, col=1\n",
    ")\n",
    "\n",
    "\n",
    "# Add the second map that shows the location of the two contries.\n",
    "# Explore the examples in the plotly documentation to achieve this\n",
    "# set the geo attribute equal to 'geo2' and put the map in the second row, first column\n",
    "fig.add_trace(go.Choropleth(\n",
    "        locationmode = 'country names',\n",
    "        locations = water_points['country'],\n",
    "        text = water_points['country'],\n",
    "        hoverinfo= 'none',\n",
    "        z = [1]*len(water_points),\n",
    "        colorscale = [[0,'#58524e'],[1,'#58524e']],\n",
    "        autocolorscale = False,\n",
    "        showscale = False,\n",
    "        geo = 'geo2',\n",
    "    ),\n",
    "    row=2, col=1\n",
    ")\n",
    "\n",
    "# Create the highlighted point:\n",
    "# tip: for size, opacity in zip([10, 25, 50, 100], [1, 0.5, 0.25, 0.05]):\n",
    "#.        fig.add_trace(...)\n",
    "# color of the marker is #a6523c\n",
    "for size, opacity in zip([10, 25, 50, 100], [1, 0.5, 0.25, 0.05]):\n",
    "    fig.add_trace(go.Scattergeo(\n",
    "            lon = [info['lon']],\n",
    "            lat = [info['lat']],\n",
    "            name = 'Highlighted point',\n",
    "            hoverinfo= 'none',\n",
    "            marker = dict(\n",
    "                size = size,\n",
    "                color = '#a6523c',\n",
    "                opacity = opacity\n",
    "            )\n",
    "        ),\n",
    "        row=1, col=1\n",
    "    )\n",
    "\n",
    "# Create the bar chart making sure that the water source for the highlighted point\n",
    "# is in the color '#a6523c' and the other sources are in the color '#b29e8f'\n",
    "# Put this in row 2, column 2\n",
    "for source in water_points.source.value_counts().sort_values(ascending=True).index:\n",
    "    number = water_points.source.value_counts()[source]\n",
    "    if source == info['source']:\n",
    "        color = '#a6523c'\n",
    "    else:\n",
    "        color = '#b29e8f'\n",
    "    fig.add_trace(\n",
    "        go.Bar(\n",
    "            x=[number], \n",
    "            y=[source],\n",
    "            text=[number],\n",
    "            orientation='h',\n",
    "            marker=dict(color=color),\n",
    "            hoverinfo='none'\n",
    "        ),\n",
    "        row=2, col=2\n",
    "    )\n",
    "\n",
    "# Add the text annotations: just use the fig.add_annotation() method\n",
    "fig.add_annotation(\n",
    "    text=\"Water Access Points: Liberia and Sierra Leone\",\n",
    "    xref=\"paper\", yref=\"paper\",\n",
    "    font=dict(family='<b>Times New Roman<b>', size=15),\n",
    "    x=0.55, y=1, showarrow=False, xanchor='left', yanchor='top')\n",
    "\n",
    "fig.add_annotation(\n",
    "    text=f\"\"\"\n",
    "    Liberia and Sierra Leone are two West African countries that face significant challenges<br>\n",
    "    in accessing clean water. Both countries have low access rates to safe drinking water,<br>\n",
    "    particularly in rural areas, and limited infrastructure for water supply and sanitation<br>\n",
    "    services. This has resulted in high rates of waterborne diseases and health problems,<br>\n",
    "    particularly among vulnerable populations.<br>\n",
    "    <br>\n",
    "    <b>Selected water access point</b><br>\n",
    "    Identifier: {info['id']}<br>\n",
    "    Water source: {info['source']}<br>\n",
    "    Technology: {info['tech']}<br>\n",
    "    Country: {info['country']}\n",
    "    \n",
    "    \"\"\",\n",
    "    xref=\"paper\", yref=\"paper\",\n",
    "    align=\"left\",\n",
    "    font=dict(family='<b>Times New Roman<b>', size=10),\n",
    "    x=0.512, y=0.93, showarrow=False, xanchor='left', yanchor='top')\n",
    "\n",
    "# Update the layout (difficult step)\n",
    "# - Make sure the legend is hidden\n",
    "# - Make the geo and geo2 layouts based on the examples provided in the example gallery\n",
    "#     GEO 1:\n",
    "#       - country color: #e7d3bb, landcolor: #fbf7f1, bgcolor: rgba(255, 255, 255, 0.0)\n",
    "#       - Other specs should be inferred from picture shown during lecture\n",
    "#     GEO 2:\n",
    "#       - landcolor: #f9f4eb\n",
    "#       - Other specs should be inferred from picture shown during lecture\n",
    "# - use the simple_white template\n",
    "# - Set the font equal to Times New Roman\n",
    "fig.update_layout(\n",
    "    showlegend=False,\n",
    "    geo = go.layout.Geo(\n",
    "        scope = 'africa',\n",
    "        countrycolor = \"#e7d3bb\",\n",
    "        landcolor='#fbf7f1',\n",
    "        showframe = False,\n",
    "        showcountries = True,\n",
    "        lonaxis_range= [-15, -6],\n",
    "        lataxis_range= [2, 10],\n",
    "        domain = dict(x = [ 0, 0.5 ], y = [ 0, 1]),\n",
    "        bgcolor = 'rgba(255, 255, 255, 0.0)',\n",
    "    ),\n",
    "    geo2 = go.layout.Geo(\n",
    "        scope = 'africa',\n",
    "        showframe = False,\n",
    "        landcolor = \"#f9f4eb\",\n",
    "        showcountries = False,\n",
    "        domain = dict(x = [ 0, 0.2 ], y = [ 0, 0.7]),\n",
    "        bgcolor = 'rgba(255, 255, 255, 0.0)',\n",
    "    ),\n",
    "    template='simple_white',\n",
    "    font=dict(\n",
    "        family=\"Times New Roman\"\n",
    "    )\n",
    ")\n",
    "\n",
    "# Ensure that the x axis of the barplot has the correct label 'Number of Access Points'\n",
    "fig.update_xaxes(title_text=\"Number of Access Points\", title_font=dict(size=10), row=2, col=2,)\n",
    "\n",
    "fig.show()"
   ]
  }
 ],
 "metadata": {
  "kernelspec": {
   "display_name": "MDA 2024",
   "language": "python",
   "name": ".env"
  },
  "language_info": {
   "codemirror_mode": {
    "name": "ipython",
    "version": 3
   },
   "file_extension": ".py",
   "mimetype": "text/x-python",
   "name": "python",
   "nbconvert_exporter": "python",
   "pygments_lexer": "ipython3",
   "version": "3.9.18"
  }
 },
 "nbformat": 4,
 "nbformat_minor": 5
}
