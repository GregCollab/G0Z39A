{
 "cells": [
  {
   "cell_type": "markdown",
   "id": "35145c96",
   "metadata": {},
   "source": [
    "# Variable Assignment\n",
    "This notebook implements the functionality related to the assignment of variables.\n",
    "\n",
    "**Integers**"
   ]
  },
  {
   "cell_type": "code",
   "execution_count": 1,
   "id": "570c8a9a",
   "metadata": {},
   "outputs": [
    {
     "name": "stdout",
     "output_type": "stream",
     "text": [
      "<class 'int'>\n"
     ]
    }
   ],
   "source": [
    "some_integer = 123\n",
    "print(type(some_integer))"
   ]
  },
  {
   "cell_type": "markdown",
   "id": "41cb5d23",
   "metadata": {},
   "source": [
    "**Floats**"
   ]
  },
  {
   "cell_type": "code",
   "execution_count": 2,
   "id": "87f331b3",
   "metadata": {},
   "outputs": [
    {
     "name": "stdout",
     "output_type": "stream",
     "text": [
      "<class 'float'>\n"
     ]
    }
   ],
   "source": [
    "some_float = 123.45\n",
    "print(type(some_float))"
   ]
  },
  {
   "cell_type": "markdown",
   "id": "eba8376c",
   "metadata": {},
   "source": [
    "**Strings**"
   ]
  },
  {
   "cell_type": "code",
   "execution_count": 3,
   "id": "ee4979b2",
   "metadata": {},
   "outputs": [
    {
     "name": "stdout",
     "output_type": "stream",
     "text": [
      "<class 'str'>\n"
     ]
    }
   ],
   "source": [
    "some_string = 'Just some random text'\n",
    "print(type(some_string))"
   ]
  },
  {
   "cell_type": "markdown",
   "id": "a6fb7971",
   "metadata": {},
   "source": [
    "**Boolean**"
   ]
  },
  {
   "cell_type": "code",
   "execution_count": 4,
   "id": "d9fd2d4a",
   "metadata": {},
   "outputs": [
    {
     "name": "stdout",
     "output_type": "stream",
     "text": [
      "<class 'bool'>\n"
     ]
    }
   ],
   "source": [
    "some_boolean = True\n",
    "print(type(some_boolean))"
   ]
  },
  {
   "cell_type": "markdown",
   "id": "2dea430a",
   "metadata": {},
   "source": [
    "### Using variables in the Hello World program"
   ]
  },
  {
   "cell_type": "code",
   "execution_count": 2,
   "id": "6df212e1",
   "metadata": {},
   "outputs": [
    {
     "name": "stdout",
     "output_type": "stream",
     "text": [
      "Hello World!\n"
     ]
    }
   ],
   "source": [
    "hello_world_text = \"Hello World!\"\n",
    "print(hello_world_text)"
   ]
  },
  {
   "cell_type": "code",
   "execution_count": null,
   "id": "91940db0",
   "metadata": {},
   "outputs": [],
   "source": []
  }
 ],
 "metadata": {
  "kernelspec": {
   "display_name": "Python 3 (ipykernel)",
   "language": "python",
   "name": "python3"
  },
  "language_info": {
   "codemirror_mode": {
    "name": "ipython",
    "version": 3
   },
   "file_extension": ".py",
   "mimetype": "text/x-python",
   "name": "python",
   "nbconvert_exporter": "python",
   "pygments_lexer": "ipython3",
   "version": "3.9.18"
  }
 },
 "nbformat": 4,
 "nbformat_minor": 5
}
