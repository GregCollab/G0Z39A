{
 "cells": [
  {
   "cell_type": "markdown",
   "id": "d34b0b81",
   "metadata": {},
   "source": [
    "# Conditionals\n",
    "Triggering code only when a certain condition is met."
   ]
  },
  {
   "cell_type": "markdown",
   "id": "03cf277c",
   "metadata": {},
   "source": [
    "##### Asking for and handling user input"
   ]
  },
  {
   "cell_type": "code",
   "execution_count": 1,
   "id": "980988aa",
   "metadata": {},
   "outputs": [],
   "source": [
    "provided_number = int(input('Please provide a whole number? \\n'))"
   ]
  },
  {
   "cell_type": "markdown",
   "id": "69cf2286",
   "metadata": {},
   "source": [
    "##### Check if number is positive or negative\n",
    "Print positive, negative, or equal to 0."
   ]
  },
  {
   "cell_type": "code",
   "execution_count": 2,
   "id": "e0dd76dc",
   "metadata": {},
   "outputs": [
    {
     "name": "stdout",
     "output_type": "stream",
     "text": [
      "Positive\n"
     ]
    }
   ],
   "source": [
    "if provided_number > 0:\n",
    "    print('Positive')\n",
    "elif provided_number == 0:\n",
    "    print('Equal to 0')\n",
    "else:\n",
    "    print('Negative')"
   ]
  },
  {
   "cell_type": "markdown",
   "id": "ab25bdf8",
   "metadata": {},
   "source": [
    "#### Check if number is even"
   ]
  },
  {
   "cell_type": "code",
   "execution_count": 3,
   "id": "ce26b884",
   "metadata": {},
   "outputs": [
    {
     "name": "stdout",
     "output_type": "stream",
     "text": [
      "Even\n"
     ]
    }
   ],
   "source": [
    "if provided_number % 2 == 0:\n",
    "    print('Even')\n",
    "else:\n",
    "    print('Uneven')"
   ]
  }
 ],
 "metadata": {
  "kernelspec": {
   "display_name": "Python 3 (ipykernel)",
   "language": "python",
   "name": "python3"
  },
  "language_info": {
   "codemirror_mode": {
    "name": "ipython",
    "version": 3
   },
   "file_extension": ".py",
   "mimetype": "text/x-python",
   "name": "python",
   "nbconvert_exporter": "python",
   "pygments_lexer": "ipython3",
   "version": "3.9.18"
  }
 },
 "nbformat": 4,
 "nbformat_minor": 5
}
