{
 "cells": [
  {
   "cell_type": "markdown",
   "id": "1a9cf064",
   "metadata": {},
   "source": [
    "# Lists\n",
    "This notebook shows the main functionality of lists."
   ]
  },
  {
   "cell_type": "code",
   "execution_count": 1,
   "id": "bdfd4025",
   "metadata": {},
   "outputs": [],
   "source": [
    "programming_languages = [\"Python\", \"Swift\", \"C++\"]"
   ]
  },
  {
   "cell_type": "markdown",
   "id": "5fb3f96f",
   "metadata": {},
   "source": [
    "##### Accessing list elements"
   ]
  },
  {
   "cell_type": "code",
   "execution_count": 2,
   "id": "f0c2b059",
   "metadata": {},
   "outputs": [
    {
     "name": "stdout",
     "output_type": "stream",
     "text": [
      "Python\n"
     ]
    }
   ],
   "source": [
    "first_element = programming_languages[0]\n",
    "print(first_element)"
   ]
  },
  {
   "cell_type": "code",
   "execution_count": 3,
   "id": "0c759e39",
   "metadata": {},
   "outputs": [
    {
     "name": "stdout",
     "output_type": "stream",
     "text": [
      "C++\n"
     ]
    }
   ],
   "source": [
    "last_element = programming_languages[-1]\n",
    "print(last_element)"
   ]
  },
  {
   "cell_type": "code",
   "execution_count": 4,
   "id": "e92120f4",
   "metadata": {},
   "outputs": [
    {
     "name": "stdout",
     "output_type": "stream",
     "text": [
      "C++\n"
     ]
    }
   ],
   "source": [
    "# Alternative\n",
    "last_element = programming_languages[2]\n",
    "print(last_element)"
   ]
  },
  {
   "cell_type": "markdown",
   "id": "2cef8485",
   "metadata": {},
   "source": [
    "##### Number of elements in a list"
   ]
  },
  {
   "cell_type": "code",
   "execution_count": 5,
   "id": "07f9fc73",
   "metadata": {},
   "outputs": [
    {
     "name": "stdout",
     "output_type": "stream",
     "text": [
      "<class 'int'>\n",
      "3\n"
     ]
    }
   ],
   "source": [
    "number_of_languages = len(programming_languages)\n",
    "print(type(number_of_languages))\n",
    "print(number_of_languages)"
   ]
  },
  {
   "cell_type": "markdown",
   "id": "6da41a39",
   "metadata": {},
   "source": [
    "##### Adding elements to a list"
   ]
  },
  {
   "cell_type": "code",
   "execution_count": 6,
   "id": "56b8ffb8",
   "metadata": {},
   "outputs": [
    {
     "name": "stdout",
     "output_type": "stream",
     "text": [
      "['Python', 'Swift', 'C++', 'Java']\n"
     ]
    }
   ],
   "source": [
    "programming_languages.append('Java')\n",
    "print(programming_languages)"
   ]
  },
  {
   "cell_type": "code",
   "execution_count": 7,
   "id": "0014fdcc",
   "metadata": {},
   "outputs": [
    {
     "name": "stdout",
     "output_type": "stream",
     "text": [
      "['Python', 'Swift', 'C++', 'Java', 'JavaScipt', 'Golang']\n"
     ]
    }
   ],
   "source": [
    "programming_languages.extend(['JavaScipt', 'Golang'])\n",
    "print(programming_languages)"
   ]
  },
  {
   "cell_type": "code",
   "execution_count": 8,
   "id": "a293babe",
   "metadata": {},
   "outputs": [
    {
     "name": "stdout",
     "output_type": "stream",
     "text": [
      "['Python', 'Swift', 'C++', 'Java', 'JavaScipt', 'Golang', ['Assembly', 'Rust']]\n"
     ]
    }
   ],
   "source": [
    "programming_languages.append(['Assembly', 'Rust']) # Be careful!\n",
    "print(programming_languages)"
   ]
  },
  {
   "cell_type": "markdown",
   "id": "ce7bbae9",
   "metadata": {},
   "source": [
    "##### Removing elements from a list"
   ]
  },
  {
   "cell_type": "code",
   "execution_count": 9,
   "id": "4a26dbb3",
   "metadata": {},
   "outputs": [
    {
     "name": "stdout",
     "output_type": "stream",
     "text": [
      "['Python', 'Swift', 'C++', 'JavaScipt', 'Golang', ['Assembly', 'Rust']]\n"
     ]
    }
   ],
   "source": [
    "programming_languages.remove('Java')\n",
    "print(programming_languages)"
   ]
  },
  {
   "cell_type": "code",
   "execution_count": 10,
   "id": "c056dea3",
   "metadata": {},
   "outputs": [
    {
     "name": "stdout",
     "output_type": "stream",
     "text": [
      "JavaScipt\n",
      "['Python', 'Swift', 'C++', 'Golang', ['Assembly', 'Rust']]\n"
     ]
    }
   ],
   "source": [
    "javascript = programming_languages.pop(3)\n",
    "print(javascript)\n",
    "print(programming_languages)"
   ]
  },
  {
   "cell_type": "markdown",
   "id": "b907209a",
   "metadata": {},
   "source": [
    "##### Getting the index from a list"
   ]
  },
  {
   "cell_type": "code",
   "execution_count": 11,
   "id": "6486c367",
   "metadata": {},
   "outputs": [
    {
     "name": "stdout",
     "output_type": "stream",
     "text": [
      "2\n"
     ]
    }
   ],
   "source": [
    "index_cpp = programming_languages.index('C++')\n",
    "print(index_cpp)"
   ]
  },
  {
   "cell_type": "markdown",
   "id": "da735958",
   "metadata": {},
   "source": [
    "##### Overwriting element\n",
    "Let's say we want to change C++ into CPP:"
   ]
  },
  {
   "cell_type": "code",
   "execution_count": 12,
   "id": "f19acbe6",
   "metadata": {},
   "outputs": [
    {
     "name": "stdout",
     "output_type": "stream",
     "text": [
      "['Python', 'Swift', 'CPP', 'Golang', ['Assembly', 'Rust']]\n"
     ]
    }
   ],
   "source": [
    "programming_languages[index_cpp] = 'CPP'\n",
    "print(programming_languages)"
   ]
  }
 ],
 "metadata": {
  "kernelspec": {
   "display_name": "Python 3 (ipykernel)",
   "language": "python",
   "name": "python3"
  },
  "language_info": {
   "codemirror_mode": {
    "name": "ipython",
    "version": 3
   },
   "file_extension": ".py",
   "mimetype": "text/x-python",
   "name": "python",
   "nbconvert_exporter": "python",
   "pygments_lexer": "ipython3",
   "version": "3.11.6"
  }
 },
 "nbformat": 4,
 "nbformat_minor": 5
}
