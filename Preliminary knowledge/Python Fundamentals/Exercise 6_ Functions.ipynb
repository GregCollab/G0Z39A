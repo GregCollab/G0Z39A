{
 "cells": [
  {
   "cell_type": "markdown",
   "id": "752da7d6",
   "metadata": {},
   "source": [
    "# Functions\n",
    "The notebook introduces the key concept of a function in Python."
   ]
  },
  {
   "cell_type": "code",
   "execution_count": 1,
   "id": "93819cd8",
   "metadata": {},
   "outputs": [
    {
     "name": "stdout",
     "output_type": "stream",
     "text": [
      "ELINE\n"
     ]
    }
   ],
   "source": [
    "# Function definition\n",
    "def convert_to_uppercase(text):\n",
    "    text = text.upper()\n",
    "    return text\n",
    "\n",
    "name = \"Eline\"\n",
    "uppercase_name = convert_to_uppercase(name)\n",
    "print(uppercase_name)"
   ]
  },
  {
   "cell_type": "markdown",
   "id": "79465758",
   "metadata": {},
   "source": [
    "Combined with loops:"
   ]
  },
  {
   "cell_type": "code",
   "execution_count": 2,
   "id": "0d794e90",
   "metadata": {},
   "outputs": [
    {
     "name": "stdout",
     "output_type": "stream",
     "text": [
      "TOON\n",
      "ELINE\n",
      "IGNACE\n",
      "PIPA\n",
      "BASTEN\n"
     ]
    }
   ],
   "source": [
    "participants = [\"Toon\", \"Eline\", \"Ignace\", \"Pipa\", \"Basten\"]\n",
    "for participant in participants:\n",
    "    uppercase_participant = convert_to_uppercase(participant)\n",
    "    print(uppercase_participant)"
   ]
  }
 ],
 "metadata": {
  "kernelspec": {
   "display_name": "Python 3 (ipykernel)",
   "language": "python",
   "name": "python3"
  },
  "language_info": {
   "codemirror_mode": {
    "name": "ipython",
    "version": 3
   },
   "file_extension": ".py",
   "mimetype": "text/x-python",
   "name": "python",
   "nbconvert_exporter": "python",
   "pygments_lexer": "ipython3",
   "version": "3.11.6"
  }
 },
 "nbformat": 4,
 "nbformat_minor": 5
}
