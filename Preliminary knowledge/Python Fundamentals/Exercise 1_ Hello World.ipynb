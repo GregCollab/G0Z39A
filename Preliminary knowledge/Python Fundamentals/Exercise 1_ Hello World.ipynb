{
 "cells": [
  {
   "cell_type": "markdown",
   "id": "84ecd3fd",
   "metadata": {},
   "source": [
    "# Hello World\n",
    "This notebook demonstrates the hello world program in Python."
   ]
  },
  {
   "cell_type": "code",
   "execution_count": 1,
   "id": "81028b0c",
   "metadata": {},
   "outputs": [
    {
     "name": "stdout",
     "output_type": "stream",
     "text": [
      "Hello World!\n"
     ]
    }
   ],
   "source": [
    "print(\"Hello World!\")"
   ]
  },
  {
   "cell_type": "code",
   "execution_count": null,
   "id": "4c6d5cc9",
   "metadata": {},
   "outputs": [],
   "source": []
  }
 ],
 "metadata": {
  "kernelspec": {
   "display_name": "Python 3 (ipykernel)",
   "language": "python",
   "name": "python3"
  },
  "language_info": {
   "codemirror_mode": {
    "name": "ipython",
    "version": 3
   },
   "file_extension": ".py",
   "mimetype": "text/x-python",
   "name": "python",
   "nbconvert_exporter": "python",
   "pygments_lexer": "ipython3",
   "version": "3.9.18"
  }
 },
 "nbformat": 4,
 "nbformat_minor": 5
}
