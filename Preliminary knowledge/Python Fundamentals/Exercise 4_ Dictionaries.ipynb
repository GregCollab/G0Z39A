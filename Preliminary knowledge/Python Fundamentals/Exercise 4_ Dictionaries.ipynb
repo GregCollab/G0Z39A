{
 "cells": [
  {
   "cell_type": "markdown",
   "id": "a44c2c2c",
   "metadata": {},
   "source": [
    "# Dictionaries\n",
    "This notebook shows the functionality of python dictionaries."
   ]
  },
  {
   "cell_type": "code",
   "execution_count": 1,
   "id": "9228d768",
   "metadata": {},
   "outputs": [],
   "source": [
    "participants_background = {\n",
    "  \"Ignace\": \"Mathematics\",\n",
    "  \"Bram\": \"Development\",\n",
    "  \"Pieter-Jan\": \"Software Engineering\",\n",
    "  \"Toon\": \"Business & Economics\",\n",
    "  \"Jan\": \"Engineering\"\n",
    "}"
   ]
  },
  {
   "cell_type": "markdown",
   "id": "50df8d14",
   "metadata": {},
   "source": [
    "##### Accessing elements"
   ]
  },
  {
   "cell_type": "code",
   "execution_count": 2,
   "id": "ba08c48e",
   "metadata": {},
   "outputs": [
    {
     "name": "stdout",
     "output_type": "stream",
     "text": [
      "Mathematics\n"
     ]
    }
   ],
   "source": [
    "ignace_background = participants_background['Ignace']\n",
    "print(ignace_background)"
   ]
  },
  {
   "cell_type": "code",
   "execution_count": 3,
   "id": "bf907080",
   "metadata": {},
   "outputs": [
    {
     "name": "stdout",
     "output_type": "stream",
     "text": [
      "Development\n"
     ]
    }
   ],
   "source": [
    "bram_background = participants_background.get('Bram')\n",
    "print(bram_background)"
   ]
  },
  {
   "cell_type": "code",
   "execution_count": 4,
   "id": "ac784be0",
   "metadata": {},
   "outputs": [],
   "source": [
    "# Difference?\n",
    "#participants_background['not_in_data']\n",
    "participants_background.get('not_in_data')"
   ]
  },
  {
   "cell_type": "markdown",
   "id": "2d510ef6",
   "metadata": {},
   "source": [
    "##### Number of elements"
   ]
  },
  {
   "cell_type": "code",
   "execution_count": 5,
   "id": "01ed5ee7",
   "metadata": {},
   "outputs": [
    {
     "name": "stdout",
     "output_type": "stream",
     "text": [
      "5\n"
     ]
    }
   ],
   "source": [
    "number_of_elements = len(participants_background)\n",
    "print(number_of_elements)"
   ]
  },
  {
   "cell_type": "markdown",
   "id": "39f49e6d",
   "metadata": {},
   "source": [
    "##### Adding elements"
   ]
  },
  {
   "cell_type": "code",
   "execution_count": 6,
   "id": "fa95ebde",
   "metadata": {},
   "outputs": [
    {
     "name": "stdout",
     "output_type": "stream",
     "text": [
      "{'Ignace': 'Mathematics', 'Bram': 'Development', 'Pieter-Jan': 'Software Engineering', 'Toon': 'Business & Economics', 'Jan': 'Engineering', 'Thomas': 'Business & Economics'}\n"
     ]
    }
   ],
   "source": [
    "participants_background['Thomas'] = \"Business & Economics\"\n",
    "print(participants_background)"
   ]
  },
  {
   "cell_type": "markdown",
   "id": "e4114343",
   "metadata": {},
   "source": [
    "##### Removing elements"
   ]
  },
  {
   "cell_type": "code",
   "execution_count": 7,
   "id": "fef9b1c8",
   "metadata": {},
   "outputs": [
    {
     "name": "stdout",
     "output_type": "stream",
     "text": [
      "{'Ignace': 'Mathematics', 'Bram': 'Development', 'Pieter-Jan': 'Software Engineering', 'Toon': 'Business & Economics', 'Jan': 'Engineering'}\n"
     ]
    }
   ],
   "source": [
    "del participants_background['Thomas']\n",
    "print(participants_background)"
   ]
  },
  {
   "cell_type": "code",
   "execution_count": 8,
   "id": "4a929848",
   "metadata": {},
   "outputs": [
    {
     "name": "stdout",
     "output_type": "stream",
     "text": [
      "Development\n",
      "{'Ignace': 'Mathematics', 'Pieter-Jan': 'Software Engineering', 'Toon': 'Business & Economics', 'Jan': 'Engineering'}\n"
     ]
    }
   ],
   "source": [
    "bram_background = participants_background.pop('Bram')\n",
    "print(bram_background)\n",
    "print(participants_background)"
   ]
  },
  {
   "cell_type": "markdown",
   "id": "81482d14",
   "metadata": {},
   "source": [
    "##### Getting indices and items"
   ]
  },
  {
   "cell_type": "code",
   "execution_count": 9,
   "id": "04efed51",
   "metadata": {},
   "outputs": [
    {
     "name": "stdout",
     "output_type": "stream",
     "text": [
      "dict_keys(['Ignace', 'Pieter-Jan', 'Toon', 'Jan'])\n"
     ]
    }
   ],
   "source": [
    "print(participants_background.keys())"
   ]
  },
  {
   "cell_type": "code",
   "execution_count": 10,
   "id": "459d9df3",
   "metadata": {},
   "outputs": [
    {
     "name": "stdout",
     "output_type": "stream",
     "text": [
      "dict_values(['Mathematics', 'Software Engineering', 'Business & Economics', 'Engineering'])\n"
     ]
    }
   ],
   "source": [
    "print(participants_background.values())"
   ]
  },
  {
   "cell_type": "code",
   "execution_count": 11,
   "id": "ce8540af",
   "metadata": {},
   "outputs": [
    {
     "name": "stdout",
     "output_type": "stream",
     "text": [
      "dict_items([('Ignace', 'Mathematics'), ('Pieter-Jan', 'Software Engineering'), ('Toon', 'Business & Economics'), ('Jan', 'Engineering')])\n"
     ]
    }
   ],
   "source": [
    "print(participants_background.items())"
   ]
  },
  {
   "cell_type": "markdown",
   "id": "c51b15fc",
   "metadata": {},
   "source": [
    "##### Overwriting elements"
   ]
  },
  {
   "cell_type": "code",
   "execution_count": 12,
   "id": "4abc0612",
   "metadata": {},
   "outputs": [
    {
     "name": "stdout",
     "output_type": "stream",
     "text": [
      "{'Ignace': 'Financial Engineering', 'Pieter-Jan': 'Software Engineering', 'Toon': 'Business & Economics', 'Jan': 'Engineering'}\n"
     ]
    }
   ],
   "source": [
    "participants_background['Ignace'] = 'Financial Engineering'\n",
    "print(participants_background)"
   ]
  }
 ],
 "metadata": {
  "kernelspec": {
   "display_name": "Python 3 (ipykernel)",
   "language": "python",
   "name": "python3"
  },
  "language_info": {
   "codemirror_mode": {
    "name": "ipython",
    "version": 3
   },
   "file_extension": ".py",
   "mimetype": "text/x-python",
   "name": "python",
   "nbconvert_exporter": "python",
   "pygments_lexer": "ipython3",
   "version": "3.9.18"
  }
 },
 "nbformat": 4,
 "nbformat_minor": 5
}
